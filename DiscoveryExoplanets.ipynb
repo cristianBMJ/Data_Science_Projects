{
 "cells": [
  {
   "cell_type": "markdown",
   "id": "a79876ce",
   "metadata": {},
   "source": [
    "# Descovering Exoplanets\n",
    "\n",
    "The model following consist in used technique of Machine Learning over a problem of Classification\n"
   ]
  },
  {
   "cell_type": "code",
   "execution_count": 23,
   "id": "42fe2818",
   "metadata": {},
   "outputs": [],
   "source": [
    "%matplotlib inline\n",
    "\n",
    "# Librerias Básicas\n",
    "import numpy as np\n",
    "import pandas as pd # data processing, CSV file I/O (e.g. pd.read_csv)\n",
    "import matplotlib.pyplot as plt\n",
    "import seaborn as sns\n",
    "\n",
    "# Procesamientos\n",
    "from sklearn.model_selection import train_test_split\n",
    "from sklearn.compose import ColumnTransformer\n",
    "from sklearn.pipeline import Pipeline\n",
    "from sklearn.impute import SimpleImputer\n",
    "from sklearn.preprocessing import  StandardScaler\n",
    "\n",
    "# Modelos\n",
    "from sklearn.linear_model import SGDClassifier\n",
    "from sklearn.ensemble import RandomForestClassifier\n",
    "from sklearn.svm import LinearSVC\n",
    "\n",
    "# Metricas\n",
    "from sklearn.metrics import mean_absolute_error\n",
    "from sklearn.metrics import  f1_score, precision_score, recall_score, confusion_matrix, ConfusionMatrixDisplay, SCORERS\n",
    "\n",
    "# Hiperparametros\n",
    "from sklearn.model_selection import GridSearchCV, RandomizedSearchCV"
   ]
  },
  {
   "cell_type": "markdown",
   "id": "1e44c4f2",
   "metadata": {},
   "source": [
    "\n",
    "### Extraction Data.\n"
   ]
  },
  {
   "cell_type": "markdown",
   "id": "dae4129c",
   "metadata": {},
   "source": [
    "Lecture from Drive file"
   ]
  },
  {
   "cell_type": "code",
   "execution_count": 24,
   "id": "0b56048b",
   "metadata": {},
   "outputs": [
    {
     "name": "stdout",
     "output_type": "stream",
     "text": [
      "<class 'pandas.core.frame.DataFrame'>\n",
      "RangeIndex: 6991 entries, 0 to 6990\n",
      "Data columns (total 42 columns):\n",
      " #   Column             Non-Null Count  Dtype  \n",
      "---  ------             --------------  -----  \n",
      " 0   Unnamed: 0         6991 non-null   int64  \n",
      " 1   koi_disposition    6991 non-null   object \n",
      " 2   koi_fpflag_nt      6991 non-null   int64  \n",
      " 3   koi_fpflag_ss      6991 non-null   int64  \n",
      " 4   koi_fpflag_co      6991 non-null   int64  \n",
      " 5   koi_fpflag_ec      6991 non-null   int64  \n",
      " 6   koi_period         6991 non-null   float64\n",
      " 7   koi_period_err1    6991 non-null   float64\n",
      " 8   koi_period_err2    6991 non-null   float64\n",
      " 9   koi_time0bk        6991 non-null   float64\n",
      " 10  koi_time0bk_err1   6991 non-null   float64\n",
      " 11  koi_time0bk_err2   6991 non-null   float64\n",
      " 12  koi_impact         6991 non-null   float64\n",
      " 13  koi_impact_err1    6991 non-null   float64\n",
      " 14  koi_impact_err2    6991 non-null   float64\n",
      " 15  koi_duration       6991 non-null   float64\n",
      " 16  koi_duration_err1  6991 non-null   float64\n",
      " 17  koi_duration_err2  6991 non-null   float64\n",
      " 18  koi_depth          6991 non-null   float64\n",
      " 19  koi_depth_err1     6991 non-null   float64\n",
      " 20  koi_depth_err2     6991 non-null   float64\n",
      " 21  koi_prad           6991 non-null   float64\n",
      " 22  koi_prad_err1      6991 non-null   float64\n",
      " 23  koi_prad_err2      6991 non-null   float64\n",
      " 24  koi_teq            6991 non-null   int64  \n",
      " 25  koi_insol          6991 non-null   float64\n",
      " 26  koi_insol_err1     6991 non-null   float64\n",
      " 27  koi_insol_err2     6991 non-null   float64\n",
      " 28  koi_model_snr      6991 non-null   float64\n",
      " 29  koi_tce_plnt_num   6991 non-null   int64  \n",
      " 30  koi_steff          6991 non-null   int64  \n",
      " 31  koi_steff_err1     6991 non-null   int64  \n",
      " 32  koi_steff_err2     6991 non-null   int64  \n",
      " 33  koi_slogg          6991 non-null   float64\n",
      " 34  koi_slogg_err1     6991 non-null   float64\n",
      " 35  koi_slogg_err2     6991 non-null   float64\n",
      " 36  koi_srad           6991 non-null   float64\n",
      " 37  koi_srad_err1      6991 non-null   float64\n",
      " 38  koi_srad_err2      6991 non-null   float64\n",
      " 39  ra                 6991 non-null   float64\n",
      " 40  dec                6991 non-null   float64\n",
      " 41  koi_kepmag         6991 non-null   float64\n",
      "dtypes: float64(31), int64(10), object(1)\n",
      "memory usage: 2.2+ MB\n"
     ]
    }
   ],
   "source": [
    "url='https://drive.google.com/file/d/17ZWDTVc1SuEP8jFK2RnrgkQnI8hJI84m/view?usp=sharing'\n",
    "url='https://drive.google.com/uc?id=' + url.split('/')[-2]\n",
    "dfraw = pd.read_csv(url)\n",
    "\n",
    "DF = dfraw.copy() # Copy data raw\n",
    "\n",
    "DF.info()"
   ]
  },
  {
   "cell_type": "markdown",
   "id": "222ae775",
   "metadata": {},
   "source": [
    "\n",
    "### Target\n",
    "\n",
    "\n",
    "The Target is `koi_disposition`, which label the objects recorded in three categories: CONFIRMED (CF), FALSE POSITIVE (FP) y CONDIDATE (CD). \n",
    "\n",
    "In the following Histogram, we noted a major frequency FALSE POSITIVE \n",
    "\n"
   ]
  },
  {
   "cell_type": "code",
   "execution_count": 25,
   "id": "2afe6faf",
   "metadata": {},
   "outputs": [
    {
     "data": {
      "image/png": "[encoded data removed]",
      "text/plain": [
       "<Figure size 432x288 with 1 Axes>"
      ]
     },
     "metadata": {
      "needs_background": "light"
     },
     "output_type": "display_data"
    }
   ],
   "source": [
    "y = DF.koi_disposition # Target 'y' \n",
    "plt.hist(y) # Histogram\n",
    "plt.show()"
   ]
  },
  {
   "cell_type": "markdown",
   "id": "69ef4119",
   "metadata": {},
   "source": [
    "\n",
    "### Identified Variables\n",
    "\n",
    "Regards the above, the question arises about,  which can variables is generate high amount of FP?. Faced with such \n",
    "a question, we analysed values means diferencias of the variables between CD and FP.\n"
   ]
  },
  {
   "cell_type": "code",
   "execution_count": 26,
   "id": "0ea9275c",
   "metadata": {},
   "outputs": [
    {
     "data": {
      "text/html": [
       "<div>\n",
       "<style scoped>\n",
       "    .dataframe tbody tr th:only-of-type {\n",
       "        vertical-align: middle;\n",
       "    }\n",
       "\n",
       "    .dataframe tbody tr th {\n",
       "        vertical-align: top;\n",
       "    }\n",
       "\n",
       "    .dataframe thead th {\n",
       "        text-align: right;\n",
       "    }\n",
       "</style>\n",
       "<table border=\"1\" class=\"dataframe\">\n",
       "  <thead>\n",
       "    <tr style=\"text-align: right;\">\n",
       "      <th></th>\n",
       "      <th>confMean</th>\n",
       "      <th>FPMean</th>\n",
       "      <th>varDiffMean</th>\n",
       "    </tr>\n",
       "  </thead>\n",
       "  <tbody>\n",
       "    <tr>\n",
       "      <th>Unnamed: 0</th>\n",
       "      <td>1751.602778</td>\n",
       "      <td>4297.989155</td>\n",
       "      <td>1.45</td>\n",
       "    </tr>\n",
       "    <tr>\n",
       "      <th>koi_fpflag_nt</th>\n",
       "      <td>0.009444</td>\n",
       "      <td>0.308505</td>\n",
       "      <td>31.67</td>\n",
       "    </tr>\n",
       "    <tr>\n",
       "      <th>koi_fpflag_ss</th>\n",
       "      <td>0.011667</td>\n",
       "      <td>0.476027</td>\n",
       "      <td>39.80</td>\n",
       "    </tr>\n",
       "    <tr>\n",
       "      <th>koi_fpflag_co</th>\n",
       "      <td>0.003333</td>\n",
       "      <td>0.403253</td>\n",
       "      <td>119.98</td>\n",
       "    </tr>\n",
       "    <tr>\n",
       "      <th>koi_fpflag_ec</th>\n",
       "      <td>0.000556</td>\n",
       "      <td>0.249144</td>\n",
       "      <td>447.46</td>\n",
       "    </tr>\n",
       "    <tr>\n",
       "      <th>koi_period</th>\n",
       "      <td>26.451343</td>\n",
       "      <td>66.103066</td>\n",
       "      <td>1.50</td>\n",
       "    </tr>\n",
       "    <tr>\n",
       "      <th>koi_period_err1</th>\n",
       "      <td>0.000190</td>\n",
       "      <td>0.002556</td>\n",
       "      <td>12.48</td>\n",
       "    </tr>\n",
       "    <tr>\n",
       "      <th>koi_period_err2</th>\n",
       "      <td>-0.000190</td>\n",
       "      <td>-0.002556</td>\n",
       "      <td>12.48</td>\n",
       "    </tr>\n",
       "    <tr>\n",
       "      <th>koi_time0bk</th>\n",
       "      <td>156.532602</td>\n",
       "      <td>166.012645</td>\n",
       "      <td>0.06</td>\n",
       "    </tr>\n",
       "    <tr>\n",
       "      <th>koi_time0bk_err1</th>\n",
       "      <td>0.004084</td>\n",
       "      <td>0.010165</td>\n",
       "      <td>1.49</td>\n",
       "    </tr>\n",
       "    <tr>\n",
       "      <th>koi_time0bk_err2</th>\n",
       "      <td>-0.004084</td>\n",
       "      <td>-0.010165</td>\n",
       "      <td>1.49</td>\n",
       "    </tr>\n",
       "    <tr>\n",
       "      <th>koi_impact</th>\n",
       "      <td>0.424590</td>\n",
       "      <td>0.995051</td>\n",
       "      <td>1.34</td>\n",
       "    </tr>\n",
       "    <tr>\n",
       "      <th>koi_impact_err1</th>\n",
       "      <td>0.280300</td>\n",
       "      <td>2.880355</td>\n",
       "      <td>9.28</td>\n",
       "    </tr>\n",
       "    <tr>\n",
       "      <th>koi_impact_err2</th>\n",
       "      <td>-0.311690</td>\n",
       "      <td>-0.336930</td>\n",
       "      <td>0.08</td>\n",
       "    </tr>\n",
       "    <tr>\n",
       "      <th>koi_duration</th>\n",
       "      <td>4.281003</td>\n",
       "      <td>6.585005</td>\n",
       "      <td>0.54</td>\n",
       "    </tr>\n",
       "    <tr>\n",
       "      <th>koi_duration_err1</th>\n",
       "      <td>0.119436</td>\n",
       "      <td>0.380753</td>\n",
       "      <td>2.19</td>\n",
       "    </tr>\n",
       "    <tr>\n",
       "      <th>koi_duration_err2</th>\n",
       "      <td>-0.119436</td>\n",
       "      <td>-0.380753</td>\n",
       "      <td>2.19</td>\n",
       "    </tr>\n",
       "    <tr>\n",
       "      <th>koi_depth</th>\n",
       "      <td>1206.021778</td>\n",
       "      <td>46230.630251</td>\n",
       "      <td>37.33</td>\n",
       "    </tr>\n",
       "    <tr>\n",
       "      <th>koi_depth_err1</th>\n",
       "      <td>21.748889</td>\n",
       "      <td>230.947860</td>\n",
       "      <td>9.62</td>\n",
       "    </tr>\n",
       "    <tr>\n",
       "      <th>koi_depth_err2</th>\n",
       "      <td>-21.748889</td>\n",
       "      <td>-230.947860</td>\n",
       "      <td>9.62</td>\n",
       "    </tr>\n",
       "    <tr>\n",
       "      <th>koi_prad</th>\n",
       "      <td>2.900372</td>\n",
       "      <td>235.364004</td>\n",
       "      <td>80.15</td>\n",
       "    </tr>\n",
       "    <tr>\n",
       "      <th>koi_prad_err1</th>\n",
       "      <td>0.483183</td>\n",
       "      <td>37.075537</td>\n",
       "      <td>75.73</td>\n",
       "    </tr>\n",
       "    <tr>\n",
       "      <th>koi_prad_err2</th>\n",
       "      <td>-0.381567</td>\n",
       "      <td>-79.496518</td>\n",
       "      <td>207.34</td>\n",
       "    </tr>\n",
       "    <tr>\n",
       "      <th>koi_teq</th>\n",
       "      <td>845.316111</td>\n",
       "      <td>1326.174372</td>\n",
       "      <td>0.57</td>\n",
       "    </tr>\n",
       "    <tr>\n",
       "      <th>koi_insol</th>\n",
       "      <td>363.705811</td>\n",
       "      <td>13362.093467</td>\n",
       "      <td>35.74</td>\n",
       "    </tr>\n",
       "    <tr>\n",
       "      <th>koi_insol_err1</th>\n",
       "      <td>198.478583</td>\n",
       "      <td>5941.028445</td>\n",
       "      <td>28.93</td>\n",
       "    </tr>\n",
       "    <tr>\n",
       "      <th>koi_insol_err2</th>\n",
       "      <td>-137.090422</td>\n",
       "      <td>-6602.791321</td>\n",
       "      <td>47.16</td>\n",
       "    </tr>\n",
       "    <tr>\n",
       "      <th>koi_model_snr</th>\n",
       "      <td>95.565556</td>\n",
       "      <td>480.452540</td>\n",
       "      <td>4.03</td>\n",
       "    </tr>\n",
       "    <tr>\n",
       "      <th>koi_tce_plnt_num</th>\n",
       "      <td>1.441111</td>\n",
       "      <td>1.108162</td>\n",
       "      <td>0.23</td>\n",
       "    </tr>\n",
       "    <tr>\n",
       "      <th>koi_steff</th>\n",
       "      <td>5482.749444</td>\n",
       "      <td>5844.317922</td>\n",
       "      <td>0.07</td>\n",
       "    </tr>\n",
       "    <tr>\n",
       "      <th>koi_steff_err1</th>\n",
       "      <td>116.568333</td>\n",
       "      <td>160.614155</td>\n",
       "      <td>0.38</td>\n",
       "    </tr>\n",
       "    <tr>\n",
       "      <th>koi_steff_err2</th>\n",
       "      <td>-124.126111</td>\n",
       "      <td>-184.317922</td>\n",
       "      <td>0.48</td>\n",
       "    </tr>\n",
       "    <tr>\n",
       "      <th>koi_slogg</th>\n",
       "      <td>4.409676</td>\n",
       "      <td>4.241754</td>\n",
       "      <td>0.04</td>\n",
       "    </tr>\n",
       "    <tr>\n",
       "      <th>koi_slogg_err1</th>\n",
       "      <td>0.090547</td>\n",
       "      <td>0.139757</td>\n",
       "      <td>0.54</td>\n",
       "    </tr>\n",
       "    <tr>\n",
       "      <th>koi_slogg_err2</th>\n",
       "      <td>-0.106618</td>\n",
       "      <td>-0.156198</td>\n",
       "      <td>0.47</td>\n",
       "    </tr>\n",
       "    <tr>\n",
       "      <th>koi_srad</th>\n",
       "      <td>1.068651</td>\n",
       "      <td>2.131909</td>\n",
       "      <td>0.99</td>\n",
       "    </tr>\n",
       "    <tr>\n",
       "      <th>koi_srad_err1</th>\n",
       "      <td>0.177139</td>\n",
       "      <td>0.451149</td>\n",
       "      <td>1.55</td>\n",
       "    </tr>\n",
       "    <tr>\n",
       "      <th>koi_srad_err2</th>\n",
       "      <td>-0.150436</td>\n",
       "      <td>-0.533944</td>\n",
       "      <td>2.55</td>\n",
       "    </tr>\n",
       "    <tr>\n",
       "      <th>ra</th>\n",
       "      <td>290.929260</td>\n",
       "      <td>292.838786</td>\n",
       "      <td>0.01</td>\n",
       "    </tr>\n",
       "    <tr>\n",
       "      <th>dec</th>\n",
       "      <td>44.389829</td>\n",
       "      <td>43.448455</td>\n",
       "      <td>0.02</td>\n",
       "    </tr>\n",
       "    <tr>\n",
       "      <th>koi_kepmag</th>\n",
       "      <td>14.339791</td>\n",
       "      <td>14.193240</td>\n",
       "      <td>0.01</td>\n",
       "    </tr>\n",
       "  </tbody>\n",
       "</table>\n",
       "</div>"
      ],
      "text/plain": [
       "                      confMean        FPMean  varDiffMean\n",
       "Unnamed: 0         1751.602778   4297.989155         1.45\n",
       "koi_fpflag_nt         0.009444      0.308505        31.67\n",
       "koi_fpflag_ss         0.011667      0.476027        39.80\n",
       "koi_fpflag_co         0.003333      0.403253       119.98\n",
       "koi_fpflag_ec         0.000556      0.249144       447.46\n",
       "koi_period           26.451343     66.103066         1.50\n",
       "koi_period_err1       0.000190      0.002556        12.48\n",
       "koi_period_err2      -0.000190     -0.002556        12.48\n",
       "koi_time0bk         156.532602    166.012645         0.06\n",
       "koi_time0bk_err1      0.004084      0.010165         1.49\n",
       "koi_time0bk_err2     -0.004084     -0.010165         1.49\n",
       "koi_impact            0.424590      0.995051         1.34\n",
       "koi_impact_err1       0.280300      2.880355         9.28\n",
       "koi_impact_err2      -0.311690     -0.336930         0.08\n",
       "koi_duration          4.281003      6.585005         0.54\n",
       "koi_duration_err1     0.119436      0.380753         2.19\n",
       "koi_duration_err2    -0.119436     -0.380753         2.19\n",
       "koi_depth          1206.021778  46230.630251        37.33\n",
       "koi_depth_err1       21.748889    230.947860         9.62\n",
       "koi_depth_err2      -21.748889   -230.947860         9.62\n",
       "koi_prad              2.900372    235.364004        80.15\n",
       "koi_prad_err1         0.483183     37.075537        75.73\n",
       "koi_prad_err2        -0.381567    -79.496518       207.34\n",
       "koi_teq             845.316111   1326.174372         0.57\n",
       "koi_insol           363.705811  13362.093467        35.74\n",
       "koi_insol_err1      198.478583   5941.028445        28.93\n",
       "koi_insol_err2     -137.090422  -6602.791321        47.16\n",
       "koi_model_snr        95.565556    480.452540         4.03\n",
       "koi_tce_plnt_num      1.441111      1.108162         0.23\n",
       "koi_steff          5482.749444   5844.317922         0.07\n",
       "koi_steff_err1      116.568333    160.614155         0.38\n",
       "koi_steff_err2     -124.126111   -184.317922         0.48\n",
       "koi_slogg             4.409676      4.241754         0.04\n",
       "koi_slogg_err1        0.090547      0.139757         0.54\n",
       "koi_slogg_err2       -0.106618     -0.156198         0.47\n",
       "koi_srad              1.068651      2.131909         0.99\n",
       "koi_srad_err1         0.177139      0.451149         1.55\n",
       "koi_srad_err2        -0.150436     -0.533944         2.55\n",
       "ra                  290.929260    292.838786         0.01\n",
       "dec                  44.389829     43.448455         0.02\n",
       "koi_kepmag           14.339791     14.193240         0.01"
      ]
     },
     "execution_count": 26,
     "metadata": {},
     "output_type": "execute_result"
    }
   ],
   "source": [
    "df=DF.copy()\n",
    "\n",
    "confirmed = df[df.koi_disposition == 'CONFIRMED' ].drop(['koi_disposition'], axis =1)\n",
    "falsePositive = df[df.koi_disposition == 'FALSE POSITIVE' ].drop(['koi_disposition'], axis =1)\n",
    "\n",
    "confMean = pd.Series( confirmed.mean()) \n",
    "FPMean = pd.Series( falsePositive.mean()) \n",
    "\n",
    "varDiffMean =  np.round(np.absolute( (confMean - FPMean)/confMean), 2)   # with rescept data confirmed\n",
    "dfMean = pd.DataFrame({'confMean':confMean, 'FPMean':FPMean, 'varDiffMean': varDiffMean})\n",
    "dfMean # note that index correspond  to variables.\n",
    "\n",
    "\n"
   ]
  },
  {
   "cell_type": "code",
   "execution_count": 27,
   "id": "f45fe63a",
   "metadata": {},
   "outputs": [
    {
     "data": {
      "text/plain": [
       "Index(['Unnamed: 0', 'koi_period', 'koi_time0bk', 'koi_time0bk_err1',\n",
       "       'koi_time0bk_err2', 'koi_impact', 'koi_impact_err2', 'koi_duration',\n",
       "       'koi_duration_err1', 'koi_duration_err2', 'koi_teq', 'koi_model_snr',\n",
       "       'koi_tce_plnt_num', 'koi_steff', 'koi_steff_err1', 'koi_steff_err2',\n",
       "       'koi_slogg', 'koi_slogg_err1', 'koi_slogg_err2', 'koi_srad',\n",
       "       'koi_srad_err1', 'koi_srad_err2', 'ra', 'dec', 'koi_kepmag'],\n",
       "      dtype='object')"
      ]
     },
     "execution_count": 27,
     "metadata": {},
     "output_type": "execute_result"
    }
   ],
   "source": [
    "dfMean[varDiffMean < 5].index"
   ]
  },
  {
   "cell_type": "markdown",
   "id": "e9b5fb51",
   "metadata": {},
   "source": [
    "We  noted  that exists diferencias(means) considers in certain variables, and these  will produce a high rate\n",
    "of FP. Therefore, this works for us like a firts criterion to select variables, i.e, these thot differ over some tolerance value.\n",
    "\n",
    "The values generating in the columna `varDiffMean`, correspond to  the average variation  between  the variables.\n",
    "from FP to the CD.\n",
    "\n",
    "We will adopt this criterion by `seleccion` function. \n",
    "\n"
   ]
  },
  {
   "cell_type": "code",
   "execution_count": 28,
   "id": "24ee0e83",
   "metadata": {
    "scrolled": false
   },
   "outputs": [],
   "source": [
    "def seleccion(DF, tol=10):\n",
    "        df = DF.copy()\n",
    "        y = df.koi_disposition # variable objetivo 'y' \n",
    "        df = df.drop(['Unnamed: 0'], axis =1) # columna rebundante\n",
    "\n",
    "\n",
    "        confirmed = df[df.koi_disposition == 'CONFIRMED' ].drop(['koi_disposition'], axis =1)\n",
    "        falsePositive = df[df.koi_disposition == 'FALSE POSITIVE' ].drop(['koi_disposition'], axis =1)\n",
    "        \n",
    "        confMean = pd.Series( confirmed.mean()) \n",
    "        FPMean = pd.Series( falsePositive.mean()) \n",
    "\n",
    "        varDiffMean =  np.round(np.absolute( (confMean - FPMean)/confMean), 2)   # con respecto a los datos confirmadfMeandfMean = pd.DataFrame({'confMean':confMean, 'FPMean':FPMean, 'varDiffMean': varDiffMean})\n",
    "        dfMean = pd.DataFrame({'confMean':confMean, 'FPMean':FPMean, 'varDiffMean': varDiffMean})\n",
    "        \n",
    "        indexSel =dfMean[varDiffMean < 5].index\n",
    "        X = pd.DataFrame()\n",
    "        X['koi_disposition']=y \n",
    "        \n",
    "        \n",
    "        return X.join(df[indexSel])\n",
    "    \n",
    "df=seleccion(DF) # cercano al 50% de las variables\n",
    "\n"
   ]
  },
  {
   "cell_type": "markdown",
   "id": "d4ca5f5e",
   "metadata": {},
   "source": [
    "### Seleted Variables\n",
    "\n",
    "#### Types\n",
    "\n",
    "\n",
    "We noted that categorical variables is only `koi_disposition`, while all rest are numerical\n"
   ]
  },
  {
   "cell_type": "code",
   "execution_count": 29,
   "id": "13189823",
   "metadata": {},
   "outputs": [
    {
     "name": "stdout",
     "output_type": "stream",
     "text": [
      "<class 'pandas.core.frame.DataFrame'>\n",
      "RangeIndex: 6991 entries, 0 to 6990\n",
      "Data columns (total 25 columns):\n",
      " #   Column             Non-Null Count  Dtype  \n",
      "---  ------             --------------  -----  \n",
      " 0   koi_disposition    6991 non-null   object \n",
      " 1   koi_period         6991 non-null   float64\n",
      " 2   koi_time0bk        6991 non-null   float64\n",
      " 3   koi_time0bk_err1   6991 non-null   float64\n",
      " 4   koi_time0bk_err2   6991 non-null   float64\n",
      " 5   koi_impact         6991 non-null   float64\n",
      " 6   koi_impact_err2    6991 non-null   float64\n",
      " 7   koi_duration       6991 non-null   float64\n",
      " 8   koi_duration_err1  6991 non-null   float64\n",
      " 9   koi_duration_err2  6991 non-null   float64\n",
      " 10  koi_teq            6991 non-null   int64  \n",
      " 11  koi_model_snr      6991 non-null   float64\n",
      " 12  koi_tce_plnt_num   6991 non-null   int64  \n",
      " 13  koi_steff          6991 non-null   int64  \n",
      " 14  koi_steff_err1     6991 non-null   int64  \n",
      " 15  koi_steff_err2     6991 non-null   int64  \n",
      " 16  koi_slogg          6991 non-null   float64\n",
      " 17  koi_slogg_err1     6991 non-null   float64\n",
      " 18  koi_slogg_err2     6991 non-null   float64\n",
      " 19  koi_srad           6991 non-null   float64\n",
      " 20  koi_srad_err1      6991 non-null   float64\n",
      " 21  koi_srad_err2      6991 non-null   float64\n",
      " 22  ra                 6991 non-null   float64\n",
      " 23  dec                6991 non-null   float64\n",
      " 24  koi_kepmag         6991 non-null   float64\n",
      "dtypes: float64(19), int64(5), object(1)\n",
      "memory usage: 1.3+ MB\n"
     ]
    }
   ],
   "source": [
    "df.info()"
   ]
  },
  {
   "cell_type": "markdown",
   "id": "8732b867",
   "metadata": {},
   "source": [
    "# Missing values"
   ]
  },
  {
   "cell_type": "code",
   "execution_count": 30,
   "id": "ec07653d",
   "metadata": {},
   "outputs": [
    {
     "name": "stdout",
     "output_type": "stream",
     "text": [
      "Num_null:  0\n"
     ]
    }
   ],
   "source": [
    "missingValueCount = df.isnull().sum()\n",
    "print('Num_null: ' , missingValueCount.sum() )"
   ]
  },
  {
   "cell_type": "markdown",
   "id": "00002799",
   "metadata": {},
   "source": [
    "### Pre-processing"
   ]
  },
  {
   "cell_type": "markdown",
   "id": "8808b708",
   "metadata": {},
   "source": [
    "# Standarization and coding."
   ]
  },
  {
   "cell_type": "code",
   "execution_count": 31,
   "id": "241f130c",
   "metadata": {},
   "outputs": [],
   "source": [
    "numerical_cols = [cname for cname in df.columns if \n",
    "                df[cname].dtype in ['int64', 'float64']]\n",
    "\n",
    "\n",
    "numerical_transformer = Pipeline ( [('std_scaler' , StandardScaler()) # estandarizacion  \n",
    "                                   ])\n",
    "\n",
    "#('imputer' ,SimpleImputer(strategy='median')), # impute sobre datos faltantes\n",
    "\n",
    "preprocessor = ColumnTransformer(\n",
    "    transformers=[\n",
    "        ('num', numerical_transformer, numerical_cols),\n",
    "    ])\n",
    "\n"
   ]
  },
  {
   "cell_type": "markdown",
   "id": "2c6648f1",
   "metadata": {},
   "source": [
    "Since the machine process in a way numerical, coding categoricaal variable to numerical. Label as `Target`. Note that:\n",
    "\n",
    "`CONFIRMED == 0`\n",
    "\n",
    "`FALSE POSITIVE == 1`\n",
    "\n",
    "`CANDITED == 2`\n"
   ]
  },
  {
   "cell_type": "code",
   "execution_count": 32,
   "id": "23b76a38",
   "metadata": {},
   "outputs": [],
   "source": [
    "def label_encode(df):    \n",
    "    df['target'] = df.koi_disposition.astype('category').cat.codes\n",
    "    df = df.drop('koi_disposition', axis=1)\n",
    "    return df\n",
    "\n",
    "df=label_encode(df)"
   ]
  },
  {
   "cell_type": "markdown",
   "id": "d870f230",
   "metadata": {},
   "source": [
    "# Model"
   ]
  },
  {
   "cell_type": "markdown",
   "id": "c00b5316",
   "metadata": {},
   "source": [
    "### Data Train and test"
   ]
  },
  {
   "cell_type": "code",
   "execution_count": 33,
   "id": "a25d786a",
   "metadata": {},
   "outputs": [],
   "source": [
    "train , test = train_test_split(df , test_size = 0.2, random_state = 42 )\n",
    "train = train.reset_index(drop=True)\n",
    "test = test.reset_index(drop=True)"
   ]
  },
  {
   "cell_type": "code",
   "execution_count": 34,
   "id": "db392617",
   "metadata": {},
   "outputs": [],
   "source": [
    "Xtrain = train.drop('target', axis=1)\n",
    "Ytrain = train['target'].copy()\n",
    "\n",
    "\n",
    "\n",
    "Xtest = test.drop('target', axis=1)\n",
    "Ytest = test['target'].copy()\n",
    "\n"
   ]
  },
  {
   "cell_type": "code",
   "execution_count": 35,
   "id": "01fdde6f",
   "metadata": {},
   "outputs": [],
   "source": [
    "\n",
    "### Notamos que al escalar el modelo con hiperparametros optimizados no se obtienen buenos resultados, \n",
    "### implica que se debe realizar una mejor busqueda, ejemplo utilizando 'OPTUNA'  cuando las variables estar \n",
    "### normalizadas y/0 su defecto, ubicar algun error el\n",
    "### procedimiento, por tanto el analisis siguiente se realizara sin el standarScaler()\n",
    "\n",
    "\n",
    "df_train = preprocessor.fit_transform(Xtrain)  \n",
    "df_test = preprocessor.fit_transform(Xtest)  \n",
    "\n",
    "\n"
   ]
  },
  {
   "cell_type": "markdown",
   "id": "889845d5",
   "metadata": {},
   "source": [
    "It will use  `RandomForesForestClassifier`."
   ]
  },
  {
   "cell_type": "code",
   "execution_count": 36,
   "id": "c3d0397d",
   "metadata": {},
   "outputs": [],
   "source": [
    "model = RandomForestClassifier(random_state=0)\n",
    "\n",
    "model.fit(df_train, Ytrain)\n",
    "\n",
    "\n",
    "Ypred = model.predict(df_test)\n"
   ]
  },
  {
   "cell_type": "markdown",
   "id": "bcdb072b",
   "metadata": {},
   "source": [
    "The metric will be  `f1_score`, which combine two metrics of classification `precision` y `recall`.\n",
    "\n"
   ]
  },
  {
   "cell_type": "code",
   "execution_count": 37,
   "id": "2dfa6a4e",
   "metadata": {},
   "outputs": [
    {
     "name": "stdout",
     "output_type": "stream",
     "text": [
      "F1_score: 0.7455325232308792\n"
     ]
    }
   ],
   "source": [
    "score = f1_score(\n",
    "    Ytest,\n",
    "    Ypred,\n",
    " #   labels=labels,\n",
    "    average='micro',\n",
    ")\n",
    "\n",
    "\n",
    "\n",
    "print('F1_score:',score)"
   ]
  },
  {
   "cell_type": "markdown",
   "id": "ff2659c5",
   "metadata": {},
   "source": [
    "# Optimization\n"
   ]
  },
  {
   "cell_type": "markdown",
   "id": "14378838",
   "metadata": {},
   "source": [
    "###  Hiperparameters"
   ]
  },
  {
   "cell_type": "code",
   "execution_count": null,
   "id": "e4da4aa5",
   "metadata": {},
   "outputs": [],
   "source": [
    "grid = { \n",
    "    'n_estimators': [200,300,400,500],\n",
    "    'max_features': ['sqrt', 'log2'],\n",
    "    'max_depth' : [4,5,6,7,8,10],\n",
    "    'criterion' :['gini', 'entropy'],\n",
    "    'random_state' : [18]\n",
    "}\n",
    "clf=GridSearchCV( model , grid,\n",
    "                cv=5,  scoring='f1_micro' , return_train_score=True) # arg (model , distri , ...)\n",
    "\n",
    "clf.fit(df_train, Ytrain)\n",
    "\n",
    "\n",
    "clf.best_params_"
   ]
  },
  {
   "cell_type": "code",
   "execution_count": null,
   "id": "d0a9a8cc",
   "metadata": {},
   "outputs": [],
   "source": [
    "randomgrid = { \n",
    "    'n_estimators': [200,300,400,500, 600, 700],\n",
    "    'max_features': ['sqrt', 'log2'],\n",
    "    'max_depth' : [4,8,10,15, 20, 23],\n",
    "    'criterion' :['gini', 'entropy'],\n",
    "    'random_state' : [18,6]\n",
    "}\n",
    "clf=RandomizedSearchCV( model , grid,\n",
    "                cv=10,  scoring='f1_micro' , return_train_score=True) # arg (model , distri , ...)\n",
    "\n",
    "clf.fit(df_train, Ytrain)\n",
    "\n",
    "\n",
    "clf.best_params_"
   ]
  },
  {
   "cell_type": "markdown",
   "id": "0f3fd9ae",
   "metadata": {},
   "source": [
    "###  Re-training"
   ]
  },
  {
   "cell_type": "code",
   "execution_count": null,
   "id": "5c4bb025",
   "metadata": {},
   "outputs": [],
   "source": [
    "paramsBest= clf.best_params_\n",
    "\n",
    "ModelCLF=clf.best_estimator_\n",
    "YpredCLF=ModelCLF.predict(df_test)\n",
    "\n",
    "\n",
    "\n",
    "\n",
    "score = f1_score(\n",
    "    Ytest,\n",
    "    YpredCLF,\n",
    " #   labels=labels,\n",
    "    average='micro',\n",
    ")\n",
    "\n",
    "score"
   ]
  },
  {
   "cell_type": "markdown",
   "id": "fad9c8da",
   "metadata": {},
   "source": [
    "# Model Evaluation\n"
   ]
  },
  {
   "cell_type": "markdown",
   "id": "b911a071",
   "metadata": {},
   "source": [
    "### Metrics\n",
    "\n",
    "\n",
    "Other metrics for analytics are `precision_score` and `recall_score`,  which  showing the fellowing results:\n"
   ]
  },
  {
   "cell_type": "code",
   "execution_count": null,
   "id": "8d8c263e",
   "metadata": {},
   "outputs": [],
   "source": [
    "labels= ModelCLF.classes_\n",
    "\n",
    "\n",
    "precision = precision_score(\n",
    "    Ytest,\n",
    "    YpredCLF,\n",
    "    labels=labels,\n",
    "    average='macro',\n",
    ")\n",
    "recall = recall_score(\n",
    "    Ytest,\n",
    "    Ypred,    \n",
    "    labels=labels,\n",
    "    average='macro',\n",
    ")\n",
    "\n",
    "print('precion_score:', precision , '\\n'\n",
    "     'recall:' , recall)"
   ]
  },
  {
   "cell_type": "markdown",
   "id": "d8542e91",
   "metadata": {},
   "source": [
    "### Confusion Matrix "
   ]
  },
  {
   "cell_type": "markdown",
   "id": "892795b6",
   "metadata": {},
   "source": [
    "Confusion Matrix is a metric have a good visualization, further  easily implemented over model. If its values are close to 1, better effectively.\n",
    "\n"
   ]
  },
  {
   "cell_type": "code",
   "execution_count": null,
   "id": "ff024b2e",
   "metadata": {},
   "outputs": [],
   "source": [
    "cmat = confusion_matrix(\n",
    "    Ytest,\n",
    "    YpredCLF,\n",
    "    labels=labels,\n",
    ")\n",
    "\n",
    "cmat = (cmat.T / cmat.sum(axis=1)).T # normalize\n",
    "\n",
    "\n",
    "disp = ConfusionMatrixDisplay(confusion_matrix=cmat,\n",
    "                              display_labels=clf.classes_)\n",
    "disp.plot()\n",
    "plt.show()\n",
    "\n"
   ]
  }
 ],
 "metadata": {
  "kernelspec": {
   "display_name": "Python 3 (ipykernel)",
   "language": "python",
   "name": "python3"
  },
  "language_info": {
   "codemirror_mode": {
    "name": "ipython",
    "version": 3
   },
   "file_extension": ".py",
   "mimetype": "text/x-python",
   "name": "python",
   "nbconvert_exporter": "python",
   "pygments_lexer": "ipython3",
   "version": "3.9.7"
  }
 },
 "nbformat": 4,
 "nbformat_minor": 5
}
