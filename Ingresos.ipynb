{
 "cells": [
  {
   "cell_type": "markdown",
   "id": "b7530c52",
   "metadata": {},
   "source": [
    "# Predicción de Ingresos\n",
    "\n"
   ]
  },
  {
   "cell_type": "markdown",
   "id": "d18d58b6",
   "metadata": {},
   "source": [
    "## Librerías a utilizar"
   ]
  },
  {
   "cell_type": "code",
   "execution_count": 93,
   "id": "72a7fef1",
   "metadata": {},
   "outputs": [],
   "source": [
    "%matplotlib inline\n",
    "\n",
    "# Librerias \n",
    "import numpy as np # Libreria para algebra lineal.\n",
    "import pandas as pd # Procesamiento de datos , archivos CSV (i.d. pd.read_csv)\n",
    "\n",
    "import matplotlib.pyplot as plt # visualización de los datos  mediante grafícos.\n",
    "import seaborn as sns # Extensión  y mejora en la visualización de los grafícos.\n",
    "\n",
    "# Librerias selección de los datos\n",
    "from sklearn.model_selection import train_test_split\n",
    "\n",
    "\n",
    "# Librerias Feature engineering\n",
    "from  sklearn.preprocessing import OneHotEncoder\n",
    "\n",
    "from  sklearn.pipeline import Pipeline\n",
    "from  sklearn.preprocessing import StandardScaler, MaxAbsScaler\n",
    "from sklearn.compose import ColumnTransformer\n",
    "\n",
    "# Librerias de Modelos \n",
    "from sklearn.linear_model import SGDClassifier\n",
    "\n",
    "\n",
    "from sklearn.model_selection import cross_val_score\n",
    "\n",
    "\n",
    "# Librerias de las metricas\n",
    "from sklearn.metrics import f1_score, precision_score, recall_score, confusion_matrix, ConfusionMatrixDisplay, SCORERS\n",
    "\n",
    "\n",
    "# Librerias para refinar el modelo (Hiperparametros)\n",
    "from sklearn.model_selection import RandomizedSearchCV\n",
    "\n"
   ]
  },
  {
   "cell_type": "markdown",
   "id": "498e050e",
   "metadata": {},
   "source": [
    "# Data Set"
   ]
  },
  {
   "cell_type": "code",
   "execution_count": 94,
   "id": "78b4beac",
   "metadata": {},
   "outputs": [
    {
     "name": "stdout",
     "output_type": "stream",
     "text": [
      "<class 'pandas.core.frame.DataFrame'>\n",
      "RangeIndex: 48842 entries, 0 to 48841\n",
      "Data columns (total 15 columns):\n",
      " #   Column           Non-Null Count  Dtype \n",
      "---  ------           --------------  ----- \n",
      " 0   age              48842 non-null  int64 \n",
      " 1   workclass        48842 non-null  object\n",
      " 2   fnlwgt           48842 non-null  int64 \n",
      " 3   education        48842 non-null  object\n",
      " 4   educational-num  48842 non-null  int64 \n",
      " 5   marital-status   48842 non-null  object\n",
      " 6   occupation       48842 non-null  object\n",
      " 7   relationship     48842 non-null  object\n",
      " 8   race             48842 non-null  object\n",
      " 9   gender           48842 non-null  object\n",
      " 10  capital-gain     48842 non-null  int64 \n",
      " 11  capital-loss     48842 non-null  int64 \n",
      " 12  hours-per-week   48842 non-null  int64 \n",
      " 13  native-country   48842 non-null  object\n",
      " 14  income           48842 non-null  object\n",
      "dtypes: int64(6), object(9)\n",
      "memory usage: 5.6+ MB\n"
     ]
    }
   ],
   "source": [
    "dfingresos = pd.read_csv('ingresos.csv') # lectura del data set\n",
    "\n",
    "dfingresos.info()"
   ]
  },
  {
   "cell_type": "markdown",
   "id": "0f09c140",
   "metadata": {},
   "source": [
    "Notamos que la variable `income` a predecir es de tipo `object`( mezcla de string y numeros ) y que los valores no nulos corresponden a 48842 para cada variable."
   ]
  },
  {
   "cell_type": "code",
   "execution_count": 95,
   "id": "ea828c99",
   "metadata": {},
   "outputs": [
    {
     "data": {
      "text/html": [
       "<div>\n",
       "<style scoped>\n",
       "    .dataframe tbody tr th:only-of-type {\n",
       "        vertical-align: middle;\n",
       "    }\n",
       "\n",
       "    .dataframe tbody tr th {\n",
       "        vertical-align: top;\n",
       "    }\n",
       "\n",
       "    .dataframe thead th {\n",
       "        text-align: right;\n",
       "    }\n",
       "</style>\n",
       "<table border=\"1\" class=\"dataframe\">\n",
       "  <thead>\n",
       "    <tr style=\"text-align: right;\">\n",
       "      <th></th>\n",
       "      <th>age</th>\n",
       "      <th>workclass</th>\n",
       "      <th>fnlwgt</th>\n",
       "      <th>education</th>\n",
       "      <th>educational-num</th>\n",
       "      <th>marital-status</th>\n",
       "      <th>occupation</th>\n",
       "      <th>relationship</th>\n",
       "      <th>race</th>\n",
       "      <th>gender</th>\n",
       "      <th>capital-gain</th>\n",
       "      <th>capital-loss</th>\n",
       "      <th>hours-per-week</th>\n",
       "      <th>native-country</th>\n",
       "      <th>income</th>\n",
       "    </tr>\n",
       "  </thead>\n",
       "  <tbody>\n",
       "    <tr>\n",
       "      <th>0</th>\n",
       "      <td>25</td>\n",
       "      <td>Private</td>\n",
       "      <td>226802</td>\n",
       "      <td>11th</td>\n",
       "      <td>7</td>\n",
       "      <td>Never-married</td>\n",
       "      <td>Machine-op-inspct</td>\n",
       "      <td>Own-child</td>\n",
       "      <td>Black</td>\n",
       "      <td>Male</td>\n",
       "      <td>0</td>\n",
       "      <td>0</td>\n",
       "      <td>40</td>\n",
       "      <td>United-States</td>\n",
       "      <td>&lt;=50K</td>\n",
       "    </tr>\n",
       "    <tr>\n",
       "      <th>1</th>\n",
       "      <td>38</td>\n",
       "      <td>Private</td>\n",
       "      <td>89814</td>\n",
       "      <td>HS-grad</td>\n",
       "      <td>9</td>\n",
       "      <td>Married-civ-spouse</td>\n",
       "      <td>Farming-fishing</td>\n",
       "      <td>Husband</td>\n",
       "      <td>White</td>\n",
       "      <td>Male</td>\n",
       "      <td>0</td>\n",
       "      <td>0</td>\n",
       "      <td>50</td>\n",
       "      <td>United-States</td>\n",
       "      <td>&lt;=50K</td>\n",
       "    </tr>\n",
       "    <tr>\n",
       "      <th>2</th>\n",
       "      <td>28</td>\n",
       "      <td>Local-gov</td>\n",
       "      <td>336951</td>\n",
       "      <td>Assoc-acdm</td>\n",
       "      <td>12</td>\n",
       "      <td>Married-civ-spouse</td>\n",
       "      <td>Protective-serv</td>\n",
       "      <td>Husband</td>\n",
       "      <td>White</td>\n",
       "      <td>Male</td>\n",
       "      <td>0</td>\n",
       "      <td>0</td>\n",
       "      <td>40</td>\n",
       "      <td>United-States</td>\n",
       "      <td>&gt;50K</td>\n",
       "    </tr>\n",
       "    <tr>\n",
       "      <th>3</th>\n",
       "      <td>44</td>\n",
       "      <td>Private</td>\n",
       "      <td>160323</td>\n",
       "      <td>Some-college</td>\n",
       "      <td>10</td>\n",
       "      <td>Married-civ-spouse</td>\n",
       "      <td>Machine-op-inspct</td>\n",
       "      <td>Husband</td>\n",
       "      <td>Black</td>\n",
       "      <td>Male</td>\n",
       "      <td>7688</td>\n",
       "      <td>0</td>\n",
       "      <td>40</td>\n",
       "      <td>United-States</td>\n",
       "      <td>&gt;50K</td>\n",
       "    </tr>\n",
       "    <tr>\n",
       "      <th>4</th>\n",
       "      <td>18</td>\n",
       "      <td>?</td>\n",
       "      <td>103497</td>\n",
       "      <td>Some-college</td>\n",
       "      <td>10</td>\n",
       "      <td>Never-married</td>\n",
       "      <td>?</td>\n",
       "      <td>Own-child</td>\n",
       "      <td>White</td>\n",
       "      <td>Female</td>\n",
       "      <td>0</td>\n",
       "      <td>0</td>\n",
       "      <td>30</td>\n",
       "      <td>United-States</td>\n",
       "      <td>&lt;=50K</td>\n",
       "    </tr>\n",
       "  </tbody>\n",
       "</table>\n",
       "</div>"
      ],
      "text/plain": [
       "   age  workclass  fnlwgt     education  educational-num      marital-status  \\\n",
       "0   25    Private  226802          11th                7       Never-married   \n",
       "1   38    Private   89814       HS-grad                9  Married-civ-spouse   \n",
       "2   28  Local-gov  336951    Assoc-acdm               12  Married-civ-spouse   \n",
       "3   44    Private  160323  Some-college               10  Married-civ-spouse   \n",
       "4   18          ?  103497  Some-college               10       Never-married   \n",
       "\n",
       "          occupation relationship   race  gender  capital-gain  capital-loss  \\\n",
       "0  Machine-op-inspct    Own-child  Black    Male             0             0   \n",
       "1    Farming-fishing      Husband  White    Male             0             0   \n",
       "2    Protective-serv      Husband  White    Male             0             0   \n",
       "3  Machine-op-inspct      Husband  Black    Male          7688             0   \n",
       "4                  ?    Own-child  White  Female             0             0   \n",
       "\n",
       "   hours-per-week native-country income  \n",
       "0              40  United-States  <=50K  \n",
       "1              50  United-States  <=50K  \n",
       "2              40  United-States   >50K  \n",
       "3              40  United-States   >50K  \n",
       "4              30  United-States  <=50K  "
      ]
     },
     "execution_count": 95,
     "metadata": {},
     "output_type": "execute_result"
    }
   ],
   "source": [
    "dfingresos.head()"
   ]
  },
  {
   "cell_type": "code",
   "execution_count": 96,
   "id": "4d02762b",
   "metadata": {},
   "outputs": [
    {
     "data": {
      "text/html": [
       "<div>\n",
       "<style scoped>\n",
       "    .dataframe tbody tr th:only-of-type {\n",
       "        vertical-align: middle;\n",
       "    }\n",
       "\n",
       "    .dataframe tbody tr th {\n",
       "        vertical-align: top;\n",
       "    }\n",
       "\n",
       "    .dataframe thead th {\n",
       "        text-align: right;\n",
       "    }\n",
       "</style>\n",
       "<table border=\"1\" class=\"dataframe\">\n",
       "  <thead>\n",
       "    <tr style=\"text-align: right;\">\n",
       "      <th></th>\n",
       "      <th>count</th>\n",
       "      <th>mean</th>\n",
       "      <th>std</th>\n",
       "      <th>min</th>\n",
       "      <th>25%</th>\n",
       "      <th>50%</th>\n",
       "      <th>75%</th>\n",
       "      <th>max</th>\n",
       "    </tr>\n",
       "  </thead>\n",
       "  <tbody>\n",
       "    <tr>\n",
       "      <th>age</th>\n",
       "      <td>48842.0</td>\n",
       "      <td>38.643585</td>\n",
       "      <td>13.710510</td>\n",
       "      <td>17.0</td>\n",
       "      <td>28.0</td>\n",
       "      <td>37.0</td>\n",
       "      <td>48.0</td>\n",
       "      <td>90.0</td>\n",
       "    </tr>\n",
       "    <tr>\n",
       "      <th>fnlwgt</th>\n",
       "      <td>48842.0</td>\n",
       "      <td>189664.134597</td>\n",
       "      <td>105604.025423</td>\n",
       "      <td>12285.0</td>\n",
       "      <td>117550.5</td>\n",
       "      <td>178144.5</td>\n",
       "      <td>237642.0</td>\n",
       "      <td>1490400.0</td>\n",
       "    </tr>\n",
       "    <tr>\n",
       "      <th>educational-num</th>\n",
       "      <td>48842.0</td>\n",
       "      <td>10.078089</td>\n",
       "      <td>2.570973</td>\n",
       "      <td>1.0</td>\n",
       "      <td>9.0</td>\n",
       "      <td>10.0</td>\n",
       "      <td>12.0</td>\n",
       "      <td>16.0</td>\n",
       "    </tr>\n",
       "    <tr>\n",
       "      <th>capital-gain</th>\n",
       "      <td>48842.0</td>\n",
       "      <td>1079.067626</td>\n",
       "      <td>7452.019058</td>\n",
       "      <td>0.0</td>\n",
       "      <td>0.0</td>\n",
       "      <td>0.0</td>\n",
       "      <td>0.0</td>\n",
       "      <td>99999.0</td>\n",
       "    </tr>\n",
       "    <tr>\n",
       "      <th>capital-loss</th>\n",
       "      <td>48842.0</td>\n",
       "      <td>87.502314</td>\n",
       "      <td>403.004552</td>\n",
       "      <td>0.0</td>\n",
       "      <td>0.0</td>\n",
       "      <td>0.0</td>\n",
       "      <td>0.0</td>\n",
       "      <td>4356.0</td>\n",
       "    </tr>\n",
       "    <tr>\n",
       "      <th>hours-per-week</th>\n",
       "      <td>48842.0</td>\n",
       "      <td>40.422382</td>\n",
       "      <td>12.391444</td>\n",
       "      <td>1.0</td>\n",
       "      <td>40.0</td>\n",
       "      <td>40.0</td>\n",
       "      <td>45.0</td>\n",
       "      <td>99.0</td>\n",
       "    </tr>\n",
       "  </tbody>\n",
       "</table>\n",
       "</div>"
      ],
      "text/plain": [
       "                   count           mean            std      min       25%  \\\n",
       "age              48842.0      38.643585      13.710510     17.0      28.0   \n",
       "fnlwgt           48842.0  189664.134597  105604.025423  12285.0  117550.5   \n",
       "educational-num  48842.0      10.078089       2.570973      1.0       9.0   \n",
       "capital-gain     48842.0    1079.067626    7452.019058      0.0       0.0   \n",
       "capital-loss     48842.0      87.502314     403.004552      0.0       0.0   \n",
       "hours-per-week   48842.0      40.422382      12.391444      1.0      40.0   \n",
       "\n",
       "                      50%       75%        max  \n",
       "age                  37.0      48.0       90.0  \n",
       "fnlwgt           178144.5  237642.0  1490400.0  \n",
       "educational-num      10.0      12.0       16.0  \n",
       "capital-gain          0.0       0.0    99999.0  \n",
       "capital-loss          0.0       0.0     4356.0  \n",
       "hours-per-week       40.0      45.0       99.0  "
      ]
     },
     "execution_count": 96,
     "metadata": {},
     "output_type": "execute_result"
    }
   ],
   "source": [
    "dfingresos.describe().T # Descripción estadistica de las variables númericas; T corresponde a la Transpuesta."
   ]
  },
  {
   "cell_type": "code",
   "execution_count": 97,
   "id": "03c34d88",
   "metadata": {},
   "outputs": [],
   "source": [
    "data = dfingresos.copy() # copia de seguridad\n",
    "\n",
    "#conv  = {'<=50K': 0, '>50K': 1}\n",
    "#data['tramoClass'] = data['income'].map(conv)"
   ]
  },
  {
   "cell_type": "code",
   "execution_count": 98,
   "id": "c9f167da",
   "metadata": {},
   "outputs": [
    {
     "data": {
      "text/plain": [
       "Index(['age', 'fnlwgt', 'educational-num', 'capital-gain', 'capital-loss',\n",
       "       'hours-per-week'],\n",
       "      dtype='object')"
      ]
     },
     "execution_count": 98,
     "metadata": {},
     "output_type": "execute_result"
    }
   ],
   "source": [
    "var_object = data.select_dtypes([\"object\"]).columns\n",
    "var_numerical = data.select_dtypes([\"int\"]).columns\n",
    "\n",
    "var_numerical"
   ]
  },
  {
   "cell_type": "code",
   "execution_count": 99,
   "id": "3e46162b",
   "metadata": {},
   "outputs": [
    {
     "data": {
      "text/plain": [
       "Index(['workclass', 'education', 'marital-status', 'occupation',\n",
       "       'relationship', 'race', 'gender', 'native-country', 'income'],\n",
       "      dtype='object')"
      ]
     },
     "execution_count": 99,
     "metadata": {},
     "output_type": "execute_result"
    }
   ],
   "source": [
    "var_object"
   ]
  },
  {
   "cell_type": "markdown",
   "id": "79ab9145",
   "metadata": {},
   "source": [
    "# Análisis Exploratorio de los Datos\n",
    "\n",
    "Primero mostramos cuantos ingresos hay  en cada intervalo. Vemos que la mayoria de los ingresos están en el intervalo `<=50K`. Esto indica que un sub set de datos Balanciados es más adecuado para entrenar el modelo."
   ]
  },
  {
   "cell_type": "code",
   "execution_count": 100,
   "id": "bad157a9",
   "metadata": {},
   "outputs": [
    {
     "data": {
      "text/plain": [
       "<AxesSubplot:xlabel='income', ylabel='count'>"
      ]
     },
     "execution_count": 100,
     "metadata": {},
     "output_type": "execute_result"
    },
    {
     "data": {
      "image/png": "[encoded data removed]",
      "text/plain": [
       "<Figure size 432x288 with 1 Axes>"
      ]
     },
     "metadata": {
      "needs_background": "light"
     },
     "output_type": "display_data"
    }
   ],
   "source": [
    "sns.countplot(x=\"income\", data=data )"
   ]
  },
  {
   "cell_type": "markdown",
   "id": "a974103a",
   "metadata": {},
   "source": [
    "### Variables Numéricas\n",
    "\n",
    "Histograma para cada una de las variables numéricas."
   ]
  },
  {
   "cell_type": "code",
   "execution_count": 101,
   "id": "0918db4b",
   "metadata": {},
   "outputs": [
    {
     "data": {
      "text/plain": [
       "array([[<AxesSubplot:title={'center':'age'}>,\n",
       "        <AxesSubplot:title={'center':'fnlwgt'}>],\n",
       "       [<AxesSubplot:title={'center':'educational-num'}>,\n",
       "        <AxesSubplot:title={'center':'capital-gain'}>],\n",
       "       [<AxesSubplot:title={'center':'capital-loss'}>,\n",
       "        <AxesSubplot:title={'center':'hours-per-week'}>]], dtype=object)"
      ]
     },
     "execution_count": 101,
     "metadata": {},
     "output_type": "execute_result"
    },
    {
     "data": {
      "image/png": "[encoded data removed]",
      "text/plain": [
       "<Figure size 1440x1080 with 6 Axes>"
      ]
     },
     "metadata": {
      "needs_background": "light"
     },
     "output_type": "display_data"
    }
   ],
   "source": [
    "colors  = {'<=50K': 'red', '>50K': 'yellow'}\n",
    "data[var_numerical].hist(bins=50 , figsize=(20,15) ) # histogram\n"
   ]
  },
  {
   "cell_type": "markdown",
   "id": "f5c94b8d",
   "metadata": {},
   "source": [
    "from pandas.plotting import scatter_matrix\n",
    "\n",
    "\n",
    "colors  = {'<=50K': 'red', '>50K': 'yellow'}\n",
    "#scatter_matrix(data[var_numerical] , c=data['income'].map(colors), figsize=(12, 8))\n"
   ]
  },
  {
   "cell_type": "markdown",
   "id": "8fc10a8a",
   "metadata": {},
   "source": [
    "sns.set()\n",
    "sns.pairplot(data[var_numerical], size = 2.5)\n",
    "plt.show();"
   ]
  },
  {
   "cell_type": "markdown",
   "id": "b91832b3",
   "metadata": {},
   "source": [
    "### Matrix de Correlación \n",
    "\n",
    "Muestra la correlación de las variables con respecto a la variable a predecir.Notamos, que existe una mayor relacion para valores más cercano a 1.\n"
   ]
  },
  {
   "cell_type": "code",
   "execution_count": 102,
   "id": "c456440e",
   "metadata": {},
   "outputs": [
    {
     "data": {
      "text/plain": [
       "tramoClass         1.000000\n",
       "educational-num    0.332613\n",
       "age                0.230369\n",
       "hours-per-week     0.227687\n",
       "capital-gain       0.223013\n",
       "capital-loss       0.147554\n",
       "fnlwgt            -0.006339\n",
       "Name: tramoClass, dtype: float64"
      ]
     },
     "execution_count": 102,
     "metadata": {},
     "output_type": "execute_result"
    }
   ],
   "source": [
    "conv  = {'<=50K': 0, '>50K': 1}\n",
    "data['tramoClass'] = data['income'].map(conv) \n",
    "\n",
    "corr_matrix = data.corr()\n",
    "corr_matrix[\"tramoClass\"].sort_values(ascending=False)"
   ]
  },
  {
   "cell_type": "markdown",
   "id": "0e69a0e9",
   "metadata": {},
   "source": [
    "La siguiente figura muestra que existe correspondencia entre años de educación sobre los 12 y mayores ingresos, los cuales se agrupan en un rango de edad  aproximadamente desde los 30 a los 70. Lo anterior, reafirma el resultado de la  matrix de correlación, con respecto a los años de educación.\n",
    "\n"
   ]
  },
  {
   "cell_type": "code",
   "execution_count": 103,
   "id": "c8dc860d",
   "metadata": {},
   "outputs": [
    {
     "data": {
      "image/png": "[encoded data removed]",
      "text/plain": [
       "<Figure size 432x288 with 1 Axes>"
      ]
     },
     "metadata": {},
     "output_type": "display_data"
    },
    {
     "data": {
      "text/plain": [
       "<Figure size 432x288 with 0 Axes>"
      ]
     },
     "metadata": {},
     "output_type": "display_data"
    }
   ],
   "source": [
    "colors  = {'<=50K': 'red', '>50K': 'yellow'}\n",
    "\n",
    "sns.set()\n",
    "data.plot.scatter( x=\"age\" ,y=\"educational-num\",cmap='viridis' ,  c=data[\"income\"].map(colors) ,s=5); \n",
    "plt.xlabel(\"Age\")\n",
    "plt.figure()\n",
    "plt.show()"
   ]
  },
  {
   "cell_type": "markdown",
   "id": "35dc2d07",
   "metadata": {},
   "source": [
    "### Variables Object\n",
    "\n",
    "Histogramas para cada una de las variables Object."
   ]
  },
  {
   "cell_type": "markdown",
   "id": "f837868d",
   "metadata": {},
   "source": [
    "# Preprocesamiento de los datos."
   ]
  },
  {
   "cell_type": "code",
   "execution_count": 175,
   "id": "83b5b87b",
   "metadata": {},
   "outputs": [],
   "source": [
    "def clean(df):\n",
    "    df = df.drop([ 'education', 'tramoClass'], axis=1) # columnas rebundantes\n",
    "    return df\n",
    "\n",
    "def preproceso(df ):\n",
    "    df = clean(df)\n",
    "    #df = encode(df)\n",
    "    df = balance(df) #  low performace\n",
    "    \n",
    "    Y = df['income'] \n",
    "    X = df.drop('income', axis=1)\n",
    "    \n",
    "    trainX ,  testX , Ytrain , Ytest  = train_test_split(X , Y ,  test_size = 0.25 ,random_state = 2 )\n",
    "   \n",
    "\n",
    "    var_obj = X.select_dtypes([\"object\"]).columns.drop(['native-country'])\n",
    "    var_num = X.select_dtypes([\"int\"]).columns\n",
    "    \n",
    "    numerical_pipeline = Pipeline([('std_scaler', StandardScaler())] )\n",
    "    \n",
    "    #dummies_pipeline = Pipeline([('get_dummy', get_dummies(X['native-country']) )] )\n",
    "\n",
    "    \n",
    "    full_pipeline = ColumnTransformer([(\"num\", numerical_pipeline, var_num),\n",
    "                                       (\"cat\", OneHotEncoder(), var_obj),\n",
    "                                      # (\"dummy\", dummies_pipeline, ['native-country']),\n",
    "                                      ])\n",
    "    \n",
    "    traindf = pd.concat([trainX, testX])\n",
    "\n",
    "\n",
    "    Xtest = full_pipeline.fit_transform(testX)  \n",
    "    Xtrain = full_pipeline.fit_transform(trainX)  \n",
    "\n",
    "    return Xtrain, Ytrain ,  Xtest, Ytest\n",
    "\n",
    "\n",
    "\n"
   ]
  },
  {
   "cell_type": "code",
   "execution_count": 151,
   "id": "03f24c5d",
   "metadata": {},
   "outputs": [],
   "source": [
    "def encode(df):\n",
    "    conv  = {'<=50K': 0, '>50K': 1}\n",
    "    df[\"income\"]= df['income'].map(conv)\n",
    "    return df\n",
    "    "
   ]
  },
  {
   "cell_type": "code",
   "execution_count": 152,
   "id": "b2b69804",
   "metadata": {},
   "outputs": [],
   "source": [
    "from sklearn.utils import resample\n",
    "\n",
    "def balance(X):\n",
    "    df = encode(X)\n",
    "    \n",
    "    Xtramo1 = df[df.income == 0]\n",
    "    Xtramo2 = df[df.income == 1]\n",
    "    num_tramo1 = Xtramo1.shape[0]\n",
    "    num_tramo2 = Xtramo2.shape[0]\n",
    "\n",
    "    XDownSample = resample(Xtramo1,\n",
    "                           replace = False, # sample without replacement\n",
    "                           n_samples = num_tramo2,\n",
    "                           random_state =1 \n",
    "                                     )\n",
    "    \n",
    "    return  pd.concat([XDownSample , Xtramo2] )\n",
    "\n",
    "\n"
   ]
  },
  {
   "cell_type": "markdown",
   "id": "fbb0e8fe",
   "metadata": {},
   "source": [
    "sns.countplot(x='income', data= balance(data) )\n",
    "print( balance(data)['income'].value_counts())"
   ]
  },
  {
   "cell_type": "code",
   "execution_count": 174,
   "id": "15fffb61",
   "metadata": {},
   "outputs": [
    {
     "name": "stdout",
     "output_type": "stream",
     "text": [
      "(17530, 13)   (5844, 13)\n",
      "Index(['workclass', 'marital-status', 'occupation', 'relationship', 'race',\n",
      "       'gender'],\n",
      "      dtype='object') \n",
      "\n",
      "Index(['age', 'workclass', 'fnlwgt', 'educational-num', 'marital-status',\n",
      "       'occupation', 'relationship', 'race', 'gender', 'capital-gain',\n",
      "       'capital-loss', 'hours-per-week', 'native-country'],\n",
      "      dtype='object')  \n",
      "\n",
      "Index(['age', 'workclass', 'fnlwgt', 'educational-num', 'marital-status',\n",
      "       'occupation', 'relationship', 'race', 'gender', 'capital-gain',\n",
      "       'capital-loss', 'hours-per-week', 'native-country'],\n",
      "      dtype='object')  \n",
      "\n",
      "(17530, 50)   (5844, 50)\n"
     ]
    }
   ],
   "source": [
    "Xtrain , Ytrain , Xtest , Ytest = preproceso(data)"
   ]
  },
  {
   "cell_type": "markdown",
   "id": "488ddc2f",
   "metadata": {},
   "source": [
    "# Modelo"
   ]
  },
  {
   "cell_type": "code",
   "execution_count": 154,
   "id": "9c8a17de",
   "metadata": {},
   "outputs": [],
   "source": [
    "from sklearn.linear_model import LogisticRegression\n",
    "from sklearn.ensemble import RandomForestClassifier\n",
    "from sklearn.svm import LinearSVC\n"
   ]
  },
  {
   "cell_type": "code",
   "execution_count": 155,
   "id": "6449fbb5",
   "metadata": {},
   "outputs": [],
   "source": [
    "SGDClf = SGDClassifier(random_state=42)\n",
    "LRClf = LogisticRegression(random_state=0, max_iter=1000)\n",
    "RFClf = RandomForestClassifier(random_state=0)\n",
    "SVClf = LinearSVC(random_state=0, max_iter=5000)"
   ]
  },
  {
   "cell_type": "code",
   "execution_count": 156,
   "id": "40941ff0",
   "metadata": {
    "scrolled": false
   },
   "outputs": [
    {
     "data": {
      "text/plain": [
       "LinearSVC(max_iter=5000, random_state=0)"
      ]
     },
     "execution_count": 156,
     "metadata": {},
     "output_type": "execute_result"
    }
   ],
   "source": [
    "SGDClf.fit(Xtrain, Ytrain) # fit equal training\n",
    "\n",
    "RFClf.fit(Xtrain, Ytrain) # fit equal training\n",
    "\n",
    "LRClf.fit(Xtrain, Ytrain) # fit equal training\n",
    "\n",
    "SVClf.fit(Xtrain, Ytrain) # fit equal training"
   ]
  },
  {
   "cell_type": "code",
   "execution_count": 157,
   "id": "33ef2437",
   "metadata": {},
   "outputs": [],
   "source": [
    "models = [SGDClf,  LRClf,  RFClf , SVClf ]"
   ]
  },
  {
   "cell_type": "code",
   "execution_count": 158,
   "id": "8e0dacdd",
   "metadata": {},
   "outputs": [],
   "source": [
    "def compareModels(models, x, y, numCV, scoringT=\"f1_micro\"):\n",
    "    modelsCV = dict()\n",
    "    for mod in models:\n",
    "        scores = cross_val_score(mod, x, y, scoring = scoringT, cv=numCV)\n",
    "        #meanScore = np.sqrt(-scores).mean()\n",
    "        meanScore = scores.mean()\n",
    "        modelsCV[meanScore] = mod\n",
    "    \n",
    "    val=max(modelsCV)\n",
    "    bestModel = modelsCV[val]\n",
    "    return modelsCV,bestModel\n",
    "\n",
    "\n",
    "    \n",
    "result, model =compareModels(models , Xtrain , Ytrain , 6)\n"
   ]
  },
  {
   "cell_type": "code",
   "execution_count": 176,
   "id": "4aaa8cfe",
   "metadata": {},
   "outputs": [
    {
     "name": "stdout",
     "output_type": "stream",
     "text": [
      "{0.8163152810300106: SGDClassifier(random_state=42), 0.8216771398129291: LogisticRegression(max_iter=1000, random_state=0), 0.8229328668083081: RandomForestClassifier(random_state=0), 0.8220192539989283: LinearSVC(max_iter=5000, random_state=0)}\n",
      "\n",
      "\n",
      "Best Model: RandomForestClassifier(random_state=0)\n"
     ]
    }
   ],
   "source": [
    " print(result); print('\\n'); print('Best Model:', model)"
   ]
  },
  {
   "cell_type": "markdown",
   "id": "396a4fb2",
   "metadata": {},
   "source": [
    "# Refinamiento del Modelo"
   ]
  },
  {
   "cell_type": "code",
   "execution_count": 121,
   "id": "181cee0b",
   "metadata": {},
   "outputs": [],
   "source": [
    "gridSGD = { \n",
    "    'max_iter': [1000,1200, 800, 1500, 2000],\n",
    "    'alpha':[0.0001 , 0.00005, 0.0005, 0.00001],\n",
    "    'fit_intercept' :[True, False],\n",
    "    'learning_rate' : ['optimal', 'adaptive', 'invscaling'],\n",
    "    'eta0' : [0.1, 0.5 , 0.05, 0.01]  ,                 \n",
    "    'random_state' : [18,6],\n",
    "    'early_stopping' : [True, False],\n",
    "}\n",
    "\n",
    "randomgrid = {'n_estimators':[100, 300], \n",
    "                'max_features':[\"sqrt\", 'log2'] ,\n",
    "               'criterion' : [\"entropy\", \"gini\"],\n",
    "               'bootstrap':[False, True], \n",
    "             }"
   ]
  },
  {
   "cell_type": "markdown",
   "id": "24392c82",
   "metadata": {},
   "source": [
    "clf=RandomizedSearchCV( model , randomgrid,\n",
    "                cv=3,  scoring='f1_micro' , return_train_score=True) # arg (model , distri , ...)\n",
    "\n",
    "clf.fit( Xtrain, Ytrain)\n",
    "\n",
    "\n",
    "clf.best_params_ "
   ]
  },
  {
   "cell_type": "code",
   "execution_count": 159,
   "id": "a568d7f8",
   "metadata": {},
   "outputs": [
    {
     "data": {
      "text/plain": [
       "RandomForestClassifier(max_features='sqrt', n_estimators=300, random_state=0)"
      ]
     },
     "execution_count": 159,
     "metadata": {},
     "output_type": "execute_result"
    }
   ],
   "source": [
    "RFClf = RandomForestClassifier(  n_estimators = 300,\n",
    "                               max_features =  'sqrt',\n",
    "                               criterion =  'gini' ,\n",
    "                               bootstrap =  True ,\n",
    "                               random_state=0  )\n",
    "RFClf.fit(Xtrain, Ytrain)\n"
   ]
  },
  {
   "cell_type": "code",
   "execution_count": 177,
   "id": "53675dfc",
   "metadata": {},
   "outputs": [],
   "source": [
    "YpredCLF= RFClf.predict(Xtest) "
   ]
  },
  {
   "cell_type": "code",
   "execution_count": 180,
   "id": "767f0498",
   "metadata": {},
   "outputs": [
    {
     "name": "stdout",
     "output_type": "stream",
     "text": [
      "Score F1: 0.8073237508555784\n"
     ]
    }
   ],
   "source": [
    "from sklearn.metrics import  f1_score, precision_score, recall_score, confusion_matrix, ConfusionMatrixDisplay,  SCORERS\n",
    "\n",
    "\n",
    "score = f1_score(\n",
    "    Ytest,\n",
    "    YpredCLF,\n",
    " #   labels=labels,\n",
    "    average='micro',\n",
    ")\n",
    "\n",
    "print(\"Score F1:\" , score)"
   ]
  },
  {
   "cell_type": "code",
   "execution_count": 149,
   "id": "37b5402f",
   "metadata": {},
   "outputs": [],
   "source": [
    "# Set Matplotlib defaults\n",
    "plt.style.use(\"seaborn-whitegrid\")\n",
    "plt.rc(\"figure\", autolayout=True)\n",
    "plt.rc(\n",
    "    \"axes\",\n",
    "    labelweight=\"bold\",\n",
    "    labelsize=\"large\",\n",
    "    titleweight=\"bold\",\n",
    "    titlesize=14,\n",
    "    titlepad=10,\n",
    ")"
   ]
  },
  {
   "cell_type": "code",
   "execution_count": 173,
   "id": "0027ebbd",
   "metadata": {},
   "outputs": [
    {
     "name": "stdout",
     "output_type": "stream",
     "text": [
      "[[2297  646]\n",
      " [ 480 2421]]\n"
     ]
    },
    {
     "data": {
      "image/png": "[encoded data removed]",
      "text/plain": [
       "<Figure size 432x288 with 2 Axes>"
      ]
     },
     "metadata": {},
     "output_type": "display_data"
    }
   ],
   "source": [
    "labels= ModelCLF.classes_\n",
    "\n",
    "\n",
    "cmat = confusion_matrix(\n",
    "    Ytest,\n",
    "    YpredCLF,\n",
    "    labels=labels,\n",
    "    #average='micro',\n",
    "\n",
    ")\n",
    "\n",
    "print(cmat)\n",
    "cmat = (cmat.T / cmat.sum(axis=1)).T # normalize\n",
    "\n",
    "\n",
    "disp = ConfusionMatrixDisplay(confusion_matrix=cmat,\n",
    "                              display_labels=clf.classes_)\n",
    "disp.plot()\n",
    "plt.show()"
   ]
  },
  {
   "cell_type": "markdown",
   "id": "6b88eaac",
   "metadata": {},
   "source": [
    "Notamos en la Matrix de Correlación un balance en la predicción. "
   ]
  }
 ],
 "metadata": {
  "kernelspec": {
   "display_name": "Python 3 (ipykernel)",
   "language": "python",
   "name": "python3"
  },
  "language_info": {
   "codemirror_mode": {
    "name": "ipython",
    "version": 3
   },
   "file_extension": ".py",
   "mimetype": "text/x-python",
   "name": "python",
   "nbconvert_exporter": "python",
   "pygments_lexer": "ipython3",
   "version": "3.9.7"
  }
 },
 "nbformat": 4,
 "nbformat_minor": 5
}
