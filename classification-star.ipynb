{
 "cells": [
  {
   "cell_type": "markdown",
   "id": "a5c43730",
   "metadata": {
    "papermill": {
     "duration": 0.046231,
     "end_time": "2022-08-29T01:50:57.578155",
     "exception": false,
     "start_time": "2022-08-29T01:50:57.531924",
     "status": "completed"
    },
    "tags": []
   },
   "source": [
    "# **Categorization Stars**\n",
    "\n",
    "This project have goal prediction if one Star is Giant or Dwarfs, used Morgan-Keen (MK) classification system, kinds the learned models are the Classifications. The dataset for this proyect comes from [Kaggle Star](s).\n",
    "\n",
    "\n"
   ]
  },
  {
   "cell_type": "markdown",
   "id": "6a6e428e",
   "metadata": {
    "papermill": {
     "duration": 0.042935,
     "end_time": "2022-08-29T01:50:57.664618",
     "exception": false,
     "start_time": "2022-08-29T01:50:57.621683",
     "status": "completed"
    },
    "tags": []
   },
   "source": [
    "## Setting\n"
   ]
  },
  {
   "cell_type": "code",
   "execution_count": 1,
   "id": "cefadc5b",
   "metadata": {
    "_cell_guid": "b1076dfc-b9ad-4769-8c92-a6c4dae69d19",
    "_kg_hide-input": true,
    "_kg_hide-output": true,
    "_uuid": "8f2839f25d086af736a60e9eeb907d3b93b6e0e5",
    "execution": {
     "iopub.execute_input": "2022-08-29T01:50:57.757936Z",
     "iopub.status.busy": "2022-08-29T01:50:57.756661Z",
     "iopub.status.idle": "2022-08-29T01:50:58.866045Z",
     "shell.execute_reply": "2022-08-29T01:50:58.865314Z",
     "shell.execute_reply.started": "2022-08-27T19:15:58.524210Z"
    },
    "papermill": {
     "duration": 1.156535,
     "end_time": "2022-08-29T01:50:58.866231",
     "exception": false,
     "start_time": "2022-08-29T01:50:57.709696",
     "status": "completed"
    },
    "tags": []
   },
   "outputs": [
    {
     "name": "stdout",
     "output_type": "stream",
     "text": [
      "/kaggle/input/star-categorization-giants-and-dwarfs/Star99999_raw.csv\n",
      "/kaggle/input/star-categorization-giants-and-dwarfs/Star39552_balanced.csv\n",
      "/kaggle/input/star-categorization-giants-and-dwarfs/Star9999_raw.csv\n",
      "/kaggle/input/star-categorization-giants-and-dwarfs/Star3642_balanced.csv\n"
     ]
    }
   ],
   "source": [
    "# This Python 3 environment comes with many helpful analytics libraries installed\n",
    "# It is defined by the kaggle/python Docker image: https://github.com/kaggle/docker-python\n",
    "# For example, here's several helpful packages to load\n",
    "\n",
    "# Libraries\n",
    "%matplotlib inline\n",
    "\n",
    "import numpy as np # linear algebra\n",
    "import pandas as pd # data processing, CSV file I/O (e.g. pd.read_csv)\n",
    "\n",
    "import matplotlib.pyplot as plt\n",
    "import seaborn as sns\n",
    "# Input data files are available in the read-only \"../input/\" directory\n",
    "# For example, running this (by clicking run or pressing Shift+Enter) will list all files under the input directory\n",
    "\n",
    "import os\n",
    "for dirname, _, filenames in os.walk('/kaggle/input'):\n",
    "    for filename in filenames:\n",
    "        print(os.path.join(dirname, filename))\n",
    "\n",
    "# You can write up to 20GB to the current directory (/kaggle/working/) that gets preserved as output when you create a version using \"Save & Run All\" \n",
    "# You can also write temporary files to /kaggle/temp/, but they won't be saved outside of the current session\n"
   ]
  },
  {
   "cell_type": "markdown",
   "id": "acc49f69",
   "metadata": {
    "papermill": {
     "duration": 0.044046,
     "end_time": "2022-08-29T01:50:58.954082",
     "exception": false,
     "start_time": "2022-08-29T01:50:58.910036",
     "status": "completed"
    },
    "tags": []
   },
   "source": [
    "# Get Data #"
   ]
  },
  {
   "cell_type": "markdown",
   "id": "464b9996",
   "metadata": {
    "papermill": {
     "duration": 0.045849,
     "end_time": "2022-08-29T01:50:59.043035",
     "exception": false,
     "start_time": "2022-08-29T01:50:58.997186",
     "status": "completed"
    },
    "tags": []
   },
   "source": [
    "The raw data will be processed, apply pre-processing, clean and then Balance."
   ]
  },
  {
   "cell_type": "code",
   "execution_count": 2,
   "id": "b3463920",
   "metadata": {
    "execution": {
     "iopub.execute_input": "2022-08-29T01:50:59.139563Z",
     "iopub.status.busy": "2022-08-29T01:50:59.138771Z",
     "iopub.status.idle": "2022-08-29T01:50:59.331200Z",
     "shell.execute_reply": "2022-08-29T01:50:59.331792Z",
     "shell.execute_reply.started": "2022-08-27T19:15:59.690840Z"
    },
    "papermill": {
     "duration": 0.242719,
     "end_time": "2022-08-29T01:50:59.331989",
     "exception": false,
     "start_time": "2022-08-29T01:50:59.089270",
     "status": "completed"
    },
    "tags": []
   },
   "outputs": [],
   "source": [
    "# Read Data\n",
    "dataRaw = pd.read_csv('/kaggle/input/star-categorization-giants-and-dwarfs/Star99999_raw.csv') # data initial or Raw \n",
    "dataBalanced = pd.read_csv('../input/star-categorization-giants-and-dwarfs/Star39552_balanced.csv') # data pre-processed"
   ]
  },
  {
   "cell_type": "markdown",
   "id": "b88aed21",
   "metadata": {
    "papermill": {
     "duration": 0.057121,
     "end_time": "2022-08-29T01:50:59.436829",
     "exception": false,
     "start_time": "2022-08-29T01:50:59.379708",
     "status": "completed"
    },
    "tags": []
   },
   "source": [
    "#  **Exploratory Data Analysis** \n",
    "Information about `dataRaw`, counts of non-null per  columns and its type."
   ]
  },
  {
   "cell_type": "code",
   "execution_count": 3,
   "id": "bcdbf565",
   "metadata": {
    "execution": {
     "iopub.execute_input": "2022-08-29T01:50:59.532735Z",
     "iopub.status.busy": "2022-08-29T01:50:59.531947Z",
     "iopub.status.idle": "2022-08-29T01:50:59.585264Z",
     "shell.execute_reply": "2022-08-29T01:50:59.585861Z",
     "shell.execute_reply.started": "2022-08-27T19:15:59.885957Z"
    },
    "papermill": {
     "duration": 0.100683,
     "end_time": "2022-08-29T01:50:59.586065",
     "exception": false,
     "start_time": "2022-08-29T01:50:59.485382",
     "status": "completed"
    },
    "tags": []
   },
   "outputs": [
    {
     "name": "stdout",
     "output_type": "stream",
     "text": [
      "<class 'pandas.core.frame.DataFrame'>\n",
      "RangeIndex: 99999 entries, 0 to 99998\n",
      "Data columns (total 6 columns):\n",
      " #   Column      Non-Null Count  Dtype \n",
      "---  ------      --------------  ----- \n",
      " 0   Unnamed: 0  99999 non-null  int64 \n",
      " 1   Vmag        99999 non-null  object\n",
      " 2   Plx         99999 non-null  object\n",
      " 3   e_Plx       99999 non-null  object\n",
      " 4   B-V         99999 non-null  object\n",
      " 5   SpType      97377 non-null  object\n",
      "dtypes: int64(1), object(5)\n",
      "memory usage: 4.6+ MB\n"
     ]
    }
   ],
   "source": [
    "dataRaw.info()  # review types variable"
   ]
  },
  {
   "cell_type": "markdown",
   "id": "7763e0aa",
   "metadata": {
    "papermill": {
     "duration": 0.043292,
     "end_time": "2022-08-29T01:50:59.673598",
     "exception": false,
     "start_time": "2022-08-29T01:50:59.630306",
     "status": "completed"
    },
    "tags": []
   },
   "source": [
    "Overall data and convert object to numeric.\n"
   ]
  },
  {
   "cell_type": "code",
   "execution_count": 4,
   "id": "0de1b24f",
   "metadata": {
    "_kg_hide-input": true,
    "execution": {
     "iopub.execute_input": "2022-08-29T01:50:59.796398Z",
     "iopub.status.busy": "2022-08-29T01:50:59.795631Z",
     "iopub.status.idle": "2022-08-29T01:50:59.958104Z",
     "shell.execute_reply": "2022-08-29T01:50:59.958634Z",
     "shell.execute_reply.started": "2022-08-27T19:15:59.942763Z"
    },
    "papermill": {
     "duration": 0.241634,
     "end_time": "2022-08-29T01:50:59.958819",
     "exception": false,
     "start_time": "2022-08-29T01:50:59.717185",
     "status": "completed"
    },
    "tags": []
   },
   "outputs": [
    {
     "data": {
      "text/html": [
       "<div>\n",
       "<style scoped>\n",
       "    .dataframe tbody tr th:only-of-type {\n",
       "        vertical-align: middle;\n",
       "    }\n",
       "\n",
       "    .dataframe tbody tr th {\n",
       "        vertical-align: top;\n",
       "    }\n",
       "\n",
       "    .dataframe thead th {\n",
       "        text-align: right;\n",
       "    }\n",
       "</style>\n",
       "<table border=\"1\" class=\"dataframe\">\n",
       "  <thead>\n",
       "    <tr style=\"text-align: right;\">\n",
       "      <th></th>\n",
       "      <th>count</th>\n",
       "      <th>mean</th>\n",
       "      <th>std</th>\n",
       "      <th>min</th>\n",
       "      <th>25%</th>\n",
       "      <th>50%</th>\n",
       "      <th>75%</th>\n",
       "      <th>max</th>\n",
       "    </tr>\n",
       "  </thead>\n",
       "  <tbody>\n",
       "    <tr>\n",
       "      <th>Unnamed: 0</th>\n",
       "      <td>99999.0</td>\n",
       "      <td>49999.000000</td>\n",
       "      <td>28867.369122</td>\n",
       "      <td>0.000000</td>\n",
       "      <td>24999.500</td>\n",
       "      <td>49999.000</td>\n",
       "      <td>74998.500</td>\n",
       "      <td>99998.000000</td>\n",
       "    </tr>\n",
       "    <tr>\n",
       "      <th>Vmag</th>\n",
       "      <td>99998.0</td>\n",
       "      <td>8.369750</td>\n",
       "      <td>1.313896</td>\n",
       "      <td>-1.440000</td>\n",
       "      <td>7.640</td>\n",
       "      <td>8.440</td>\n",
       "      <td>9.140</td>\n",
       "      <td>14.080000</td>\n",
       "    </tr>\n",
       "    <tr>\n",
       "      <th>Plx</th>\n",
       "      <td>99768.0</td>\n",
       "      <td>7.212467</td>\n",
       "      <td>11.348988</td>\n",
       "      <td>-54.950001</td>\n",
       "      <td>2.510</td>\n",
       "      <td>4.630</td>\n",
       "      <td>8.410</td>\n",
       "      <td>772.330017</td>\n",
       "    </tr>\n",
       "    <tr>\n",
       "      <th>e_Plx</th>\n",
       "      <td>99768.0</td>\n",
       "      <td>1.365385</td>\n",
       "      <td>1.816838</td>\n",
       "      <td>0.380000</td>\n",
       "      <td>0.880</td>\n",
       "      <td>1.100</td>\n",
       "      <td>1.390</td>\n",
       "      <td>114.459999</td>\n",
       "    </tr>\n",
       "    <tr>\n",
       "      <th>B-V</th>\n",
       "      <td>98871.0</td>\n",
       "      <td>0.704726</td>\n",
       "      <td>0.489679</td>\n",
       "      <td>-0.400000</td>\n",
       "      <td>0.348</td>\n",
       "      <td>0.612</td>\n",
       "      <td>1.075</td>\n",
       "      <td>5.460000</td>\n",
       "    </tr>\n",
       "  </tbody>\n",
       "</table>\n",
       "</div>"
      ],
      "text/plain": [
       "              count          mean           std        min        25%  \\\n",
       "Unnamed: 0  99999.0  49999.000000  28867.369122   0.000000  24999.500   \n",
       "Vmag        99998.0      8.369750      1.313896  -1.440000      7.640   \n",
       "Plx         99768.0      7.212467     11.348988 -54.950001      2.510   \n",
       "e_Plx       99768.0      1.365385      1.816838   0.380000      0.880   \n",
       "B-V         98871.0      0.704726      0.489679  -0.400000      0.348   \n",
       "\n",
       "                  50%        75%           max  \n",
       "Unnamed: 0  49999.000  74998.500  99998.000000  \n",
       "Vmag            8.440      9.140     14.080000  \n",
       "Plx             4.630      8.410    772.330017  \n",
       "e_Plx           1.100      1.390    114.459999  \n",
       "B-V             0.612      1.075      5.460000  "
      ]
     },
     "execution_count": 4,
     "metadata": {},
     "output_type": "execute_result"
    }
   ],
   "source": [
    "dataRaw['Vmag'] = pd.to_numeric(dataRaw['Vmag'] , downcast='float' , errors='coerce')\n",
    "dataRaw['Plx'] = pd.to_numeric(dataRaw['Plx'] , downcast='float' , errors='coerce')\n",
    "dataRaw['e_Plx'] = pd.to_numeric(dataRaw['e_Plx'] , downcast='float' , errors='coerce')\n",
    "dataRaw['B-V'] = pd.to_numeric(dataRaw['B-V'] , downcast='float' , errors='coerce')\n",
    "dataRaw.describe().T"
   ]
  },
  {
   "cell_type": "markdown",
   "id": "cf9594b7",
   "metadata": {
    "papermill": {
     "duration": 0.044191,
     "end_time": "2022-08-29T01:51:00.047023",
     "exception": false,
     "start_time": "2022-08-29T01:51:00.002832",
     "status": "completed"
    },
    "tags": []
   },
   "source": [
    "### Missing Values ###"
   ]
  },
  {
   "cell_type": "markdown",
   "id": "f6b99baa",
   "metadata": {
    "papermill": {
     "duration": 0.04508,
     "end_time": "2022-08-29T01:51:00.137144",
     "exception": false,
     "start_time": "2022-08-29T01:51:00.092064",
     "status": "completed"
    },
    "tags": []
   },
   "source": [
    "Numbers the missing Values and its percent missing. "
   ]
  },
  {
   "cell_type": "code",
   "execution_count": 5,
   "id": "b9a8cdb6",
   "metadata": {
    "execution": {
     "iopub.execute_input": "2022-08-29T01:51:00.229853Z",
     "iopub.status.busy": "2022-08-29T01:51:00.229056Z",
     "iopub.status.idle": "2022-08-29T01:51:00.268975Z",
     "shell.execute_reply": "2022-08-29T01:51:00.268370Z",
     "shell.execute_reply.started": "2022-08-27T19:16:00.142241Z"
    },
    "papermill": {
     "duration": 0.088034,
     "end_time": "2022-08-29T01:51:00.269157",
     "exception": false,
     "start_time": "2022-08-29T01:51:00.181123",
     "status": "completed"
    },
    "tags": []
   },
   "outputs": [
    {
     "name": "stdout",
     "output_type": "stream",
     "text": [
      "Num_null:  4213\n",
      "Percentage Missing:  0.702%\n"
     ]
    }
   ],
   "source": [
    "missingValueCount = dataRaw.isnull().sum()\n",
    "print('Num_null: ' , missingValueCount.sum() )\n",
    "\n",
    "\n",
    "\n",
    "\n",
    "totalData = np.product(dataRaw.shape)\n",
    "percentMissing=missingValueCount.sum()/totalData\n",
    "\n",
    "print('Percentage Missing:', '{: .3%}'.format(percentMissing))\n",
    "dataRaw.dropna(inplace=True)\n",
    "dataRaw.fillna(0)\n",
    "dataRaw = dataRaw.drop(['Unnamed: 0'], axis=1)\n"
   ]
  },
  {
   "cell_type": "markdown",
   "id": "007d7989",
   "metadata": {
    "papermill": {
     "duration": 0.046349,
     "end_time": "2022-08-29T01:51:00.360765",
     "exception": false,
     "start_time": "2022-08-29T01:51:00.314416",
     "status": "completed"
    },
    "tags": []
   },
   "source": [
    "## Pre-Processing ##\n",
    "\n",
    "### New Variables\n",
    "\n",
    "#### Generate four new variables.\n",
    "\n",
    "- **Amag**    Absolute Magnitude of the Star.\n",
    "- **e_Amag**  Progation error.\n",
    "- **eA/A**    Percent error Amag.\n",
    "- **eP/P**    Percent error.\n",
    "\n",
    "\n",
    "\n"
   ]
  },
  {
   "cell_type": "code",
   "execution_count": 6,
   "id": "97d96058",
   "metadata": {
    "execution": {
     "iopub.execute_input": "2022-08-29T01:51:00.454585Z",
     "iopub.status.busy": "2022-08-29T01:51:00.453830Z",
     "iopub.status.idle": "2022-08-29T01:51:00.473037Z",
     "shell.execute_reply": "2022-08-29T01:51:00.473683Z",
     "shell.execute_reply.started": "2022-08-27T19:16:00.184588Z"
    },
    "papermill": {
     "duration": 0.068368,
     "end_time": "2022-08-29T01:51:00.473887",
     "exception": false,
     "start_time": "2022-08-29T01:51:00.405519",
     "status": "completed"
    },
    "tags": []
   },
   "outputs": [],
   "source": [
    "# New variables\n",
    "\n",
    "data = dataRaw.copy()\n",
    "data = data[data.Plx != 0]\n",
    "data = data.reset_index(drop=True)\n",
    "\n",
    "data['Amag']   = data['Vmag'] + 5*( np.log10( np.abs( data['Plx'] ) )+ 1 )  # log is ln\n",
    "data['e_Amag'] = 5*data['e_Plx']/(data['Plx']*np.log(10) )   # propagacion de error\n",
    "\n",
    "data['eA/A']   = data['e_Amag']/data['Amag']\n",
    "data['eP/P']   = data['e_Plx']/data['Plx']\n",
    "\n"
   ]
  },
  {
   "cell_type": "markdown",
   "id": "dc278614",
   "metadata": {
    "papermill": {
     "duration": 0.043692,
     "end_time": "2022-08-29T01:51:00.562066",
     "exception": false,
     "start_time": "2022-08-29T01:51:00.518374",
     "status": "completed"
    },
    "tags": []
   },
   "source": [
    "###  Target \n",
    "\n",
    "The Target `TargetClass ` is give by Classification MK. "
   ]
  },
  {
   "cell_type": "code",
   "execution_count": 7,
   "id": "51ceb2aa",
   "metadata": {
    "execution": {
     "iopub.execute_input": "2022-08-29T01:51:00.653634Z",
     "iopub.status.busy": "2022-08-29T01:51:00.652932Z",
     "iopub.status.idle": "2022-08-29T01:51:00.673722Z",
     "shell.execute_reply": "2022-08-29T01:51:00.674278Z",
     "shell.execute_reply.started": "2022-08-27T19:16:00.207016Z"
    },
    "papermill": {
     "duration": 0.068079,
     "end_time": "2022-08-29T01:51:00.674488",
     "exception": false,
     "start_time": "2022-08-29T01:51:00.606409",
     "status": "completed"
    },
    "tags": []
   },
   "outputs": [],
   "source": [
    "data['TargetClass'] = data['SpType']\n",
    "\n",
    "data = data.reset_index(drop=True) # reindexar debido al drop\n"
   ]
  },
  {
   "cell_type": "markdown",
   "id": "3146022f",
   "metadata": {
    "papermill": {
     "duration": 0.044342,
     "end_time": "2022-08-29T01:51:00.763119",
     "exception": false,
     "start_time": "2022-08-29T01:51:00.718777",
     "status": "completed"
    },
    "tags": []
   },
   "source": [
    "## Target Class: Giants or Dwarfs ##\n",
    "\n",
    "**TargetClass** - Whether the Star is Dwarf (0) or Giant (1)"
   ]
  },
  {
   "cell_type": "code",
   "execution_count": 8,
   "id": "2ca34ce9",
   "metadata": {
    "execution": {
     "iopub.execute_input": "2022-08-29T01:51:00.856821Z",
     "iopub.status.busy": "2022-08-29T01:51:00.856101Z",
     "iopub.status.idle": "2022-08-29T01:54:12.197872Z",
     "shell.execute_reply": "2022-08-29T01:54:12.197181Z",
     "shell.execute_reply.started": "2022-08-27T19:16:00.229803Z"
    },
    "papermill": {
     "duration": 191.38986,
     "end_time": "2022-08-29T01:54:12.198041",
     "exception": false,
     "start_time": "2022-08-29T01:51:00.808181",
     "status": "completed"
    },
    "tags": []
   },
   "outputs": [],
   "source": [
    "# Procesamiento target, clasificar en Giants and dwarfs\n",
    "for i in range(len(data['TargetClass'])):\n",
    "    itarget= str( data.loc[i,'TargetClass'] )\n",
    "    if 'I' in list(itarget): \n",
    "        data.loc[i,'TargetClass'] = 1   # 1 giant       \n",
    "    elif (\"VII\" or \"VI\") in list( itarget): \n",
    "        data.loc[i,'TargetClass'] = 0 # VII is Dwarf (0)\n",
    "    elif \"V\" in list( itarget): \n",
    "        if ('G' or 'K' or 'M' or 'L' or 'T') in  list(itarget):\n",
    "            data.loc[i,'TargetClass'] = 0\n",
    "        else:\n",
    "            data.loc[i,'TargetClass'] = 9\n",
    "    else: \n",
    "        data.loc[i,'TargetClass'] = 9 # None\n",
    "        "
   ]
  },
  {
   "cell_type": "code",
   "execution_count": 9,
   "id": "b24ed1cd",
   "metadata": {
    "execution": {
     "iopub.execute_input": "2022-08-29T01:54:12.297007Z",
     "iopub.status.busy": "2022-08-29T01:54:12.296256Z",
     "iopub.status.idle": "2022-08-29T01:54:12.740253Z",
     "shell.execute_reply": "2022-08-29T01:54:12.739674Z",
     "shell.execute_reply.started": "2022-08-27T19:19:10.666551Z"
    },
    "papermill": {
     "duration": 0.497194,
     "end_time": "2022-08-29T01:54:12.740414",
     "exception": false,
     "start_time": "2022-08-29T01:54:12.243220",
     "status": "completed"
    },
    "tags": []
   },
   "outputs": [
    {
     "data": {
      "text/plain": [
       "<AxesSubplot:xlabel='TargetClass', ylabel='count'>"
      ]
     },
     "execution_count": 9,
     "metadata": {},
     "output_type": "execute_result"
    },
    {
     "data": {
      "image/png": "[encoded data removed]",
      "text/plain": [
       "<Figure size 432x288 with 1 Axes>"
      ]
     },
     "metadata": {
      "needs_background": "light"
     },
     "output_type": "display_data"
    }
   ],
   "source": [
    "sns.countplot(x=\"TargetClass\", data=data )"
   ]
  },
  {
   "cell_type": "code",
   "execution_count": 10,
   "id": "6d0231e0",
   "metadata": {
    "execution": {
     "iopub.execute_input": "2022-08-29T01:54:12.844048Z",
     "iopub.status.busy": "2022-08-29T01:54:12.835202Z",
     "iopub.status.idle": "2022-08-29T01:54:12.848090Z",
     "shell.execute_reply": "2022-08-29T01:54:12.847482Z",
     "shell.execute_reply.started": "2022-08-27T19:19:11.146540Z"
    },
    "papermill": {
     "duration": 0.061928,
     "end_time": "2022-08-29T01:54:12.848239",
     "exception": false,
     "start_time": "2022-08-29T01:54:12.786311",
     "status": "completed"
    },
    "tags": []
   },
   "outputs": [
    {
     "data": {
      "text/plain": [
       "9    65279\n",
       "1    26647\n",
       "0     4781\n",
       "Name: TargetClass, dtype: int64"
      ]
     },
     "execution_count": 10,
     "metadata": {},
     "output_type": "execute_result"
    }
   ],
   "source": [
    "data['TargetClass'].value_counts()"
   ]
  },
  {
   "cell_type": "markdown",
   "id": "6df8dbcf",
   "metadata": {
    "papermill": {
     "duration": 0.045245,
     "end_time": "2022-08-29T01:54:12.939199",
     "exception": false,
     "start_time": "2022-08-29T01:54:12.893954",
     "status": "completed"
    },
    "tags": []
   },
   "source": [
    "### Selection only Giants or Dwarfs ###\n",
    "\n",
    "Copy and drop number 9.\n"
   ]
  },
  {
   "cell_type": "code",
   "execution_count": 11,
   "id": "f242edbd",
   "metadata": {
    "execution": {
     "iopub.execute_input": "2022-08-29T01:54:13.043888Z",
     "iopub.status.busy": "2022-08-29T01:54:13.042759Z",
     "iopub.status.idle": "2022-08-29T01:54:13.049047Z",
     "shell.execute_reply": "2022-08-29T01:54:13.048393Z",
     "shell.execute_reply.started": "2022-08-27T19:19:11.161769Z"
    },
    "papermill": {
     "duration": 0.063076,
     "end_time": "2022-08-29T01:54:13.049215",
     "exception": false,
     "start_time": "2022-08-29T01:54:12.986139",
     "status": "completed"
    },
    "tags": []
   },
   "outputs": [],
   "source": [
    "df = data[data.TargetClass != 9 ] # != return  boolean"
   ]
  },
  {
   "cell_type": "markdown",
   "id": "823d8ccb",
   "metadata": {
    "papermill": {
     "duration": 0.045242,
     "end_time": "2022-08-29T01:54:13.140864",
     "exception": false,
     "start_time": "2022-08-29T01:54:13.095622",
     "status": "completed"
    },
    "tags": []
   },
   "source": [
    "## Balance\n",
    "\n",
    "In this section, we make balance the `dataRAw` based in [Imbalanced Classes](https://elitedatascience.com/imbalanced-classes). The above have goal of equilibrium  target in order  to avoid bias."
   ]
  },
  {
   "cell_type": "code",
   "execution_count": 12,
   "id": "15cc4c0b",
   "metadata": {
    "execution": {
     "iopub.execute_input": "2022-08-29T01:54:13.236271Z",
     "iopub.status.busy": "2022-08-29T01:54:13.235262Z",
     "iopub.status.idle": "2022-08-29T01:54:13.356726Z",
     "shell.execute_reply": "2022-08-29T01:54:13.357395Z",
     "shell.execute_reply.started": "2022-08-27T19:19:11.182405Z"
    },
    "papermill": {
     "duration": 0.170776,
     "end_time": "2022-08-29T01:54:13.357594",
     "exception": false,
     "start_time": "2022-08-29T01:54:13.186818",
     "status": "completed"
    },
    "tags": []
   },
   "outputs": [
    {
     "name": "stdout",
     "output_type": "stream",
     "text": [
      "<class 'pandas.core.frame.DataFrame'>\n",
      "Int64Index: 9562 entries, 27343 to 96675\n",
      "Data columns (total 10 columns):\n",
      " #   Column       Non-Null Count  Dtype  \n",
      "---  ------       --------------  -----  \n",
      " 0   Vmag         9562 non-null   float32\n",
      " 1   Plx          9562 non-null   float32\n",
      " 2   e_Plx        9562 non-null   float32\n",
      " 3   B-V          9562 non-null   float32\n",
      " 4   SpType       9562 non-null   object \n",
      " 5   Amag         9562 non-null   float32\n",
      " 6   e_Amag       9562 non-null   float32\n",
      " 7   eA/A         9562 non-null   float32\n",
      " 8   eP/P         9562 non-null   float32\n",
      " 9   TargetClass  9562 non-null   object \n",
      "dtypes: float32(8), object(2)\n",
      "memory usage: 522.9+ KB\n"
     ]
    }
   ],
   "source": [
    "# dividir set \n",
    "\n",
    "dfGiants = df[df.TargetClass == 1]\n",
    "dfDwarfs = df[df.TargetClass == 0]\n",
    "num_of_giant = dfGiants.shape[0]\n",
    "num_of_dwarf = dfDwarfs.shape[0]\n",
    "\n",
    "from sklearn.utils import resample\n",
    "dfGiantsDownSample = resample(dfGiants, \n",
    "                             replace = False, # sample without replacement\n",
    "                             n_samples = num_of_dwarf,\n",
    "                             random_state =1 \n",
    "                             )\n",
    "dfDownSampled = pd.concat([dfGiantsDownSample , dfDwarfs] )\n",
    "dfDownSampled.info()"
   ]
  },
  {
   "cell_type": "code",
   "execution_count": 13,
   "id": "8f63aa2f",
   "metadata": {
    "execution": {
     "iopub.execute_input": "2022-08-29T01:54:13.453572Z",
     "iopub.status.busy": "2022-08-29T01:54:13.452579Z",
     "iopub.status.idle": "2022-08-29T01:54:13.615032Z",
     "shell.execute_reply": "2022-08-29T01:54:13.614390Z",
     "shell.execute_reply.started": "2022-08-27T19:19:11.324534Z"
    },
    "papermill": {
     "duration": 0.211537,
     "end_time": "2022-08-29T01:54:13.615195",
     "exception": false,
     "start_time": "2022-08-29T01:54:13.403658",
     "status": "completed"
    },
    "tags": []
   },
   "outputs": [
    {
     "name": "stdout",
     "output_type": "stream",
     "text": [
      "1    4781\n",
      "0    4781\n",
      "Name: TargetClass, dtype: int64\n"
     ]
    },
    {
     "data": {
      "image/png": "[encoded data removed]",
      "text/plain": [
       "<Figure size 432x288 with 1 Axes>"
      ]
     },
     "metadata": {
      "needs_background": "light"
     },
     "output_type": "display_data"
    }
   ],
   "source": [
    "sns.countplot(x='TargetClass', data=dfDownSampled)\n",
    "print( dfDownSampled['TargetClass'].value_counts())"
   ]
  },
  {
   "cell_type": "code",
   "execution_count": 14,
   "id": "37fd7fa9",
   "metadata": {
    "execution": {
     "iopub.execute_input": "2022-08-29T01:54:13.715417Z",
     "iopub.status.busy": "2022-08-29T01:54:13.714402Z",
     "iopub.status.idle": "2022-08-29T01:54:13.732060Z",
     "shell.execute_reply": "2022-08-29T01:54:13.731472Z",
     "shell.execute_reply.started": "2022-08-27T19:19:11.524240Z"
    },
    "papermill": {
     "duration": 0.068817,
     "end_time": "2022-08-29T01:54:13.732219",
     "exception": false,
     "start_time": "2022-08-29T01:54:13.663402",
     "status": "completed"
    },
    "tags": []
   },
   "outputs": [
    {
     "name": "stdout",
     "output_type": "stream",
     "text": [
      "<class 'pandas.core.frame.DataFrame'>\n",
      "RangeIndex: 9562 entries, 0 to 9561\n",
      "Data columns (total 10 columns):\n",
      " #   Column       Non-Null Count  Dtype  \n",
      "---  ------       --------------  -----  \n",
      " 0   Vmag         9562 non-null   float32\n",
      " 1   Plx          9562 non-null   float32\n",
      " 2   e_Plx        9562 non-null   float32\n",
      " 3   B-V          9562 non-null   float32\n",
      " 4   SpType       9562 non-null   object \n",
      " 5   Amag         9562 non-null   float32\n",
      " 6   e_Amag       9562 non-null   float32\n",
      " 7   eA/A         9562 non-null   float32\n",
      " 8   eP/P         9562 non-null   float32\n",
      " 9   TargetClass  9562 non-null   object \n",
      "dtypes: float32(8), object(2)\n",
      "memory usage: 448.3+ KB\n"
     ]
    }
   ],
   "source": [
    "dfBalanced= dfDownSampled.reset_index(drop=True)\n",
    "\n",
    "dataStar = dfBalanced.sample(frac=1).reset_index(drop=True) # shuffle\n",
    "\n",
    "dataStar.info()"
   ]
  },
  {
   "cell_type": "markdown",
   "id": "9135973d",
   "metadata": {
    "papermill": {
     "duration": 0.047483,
     "end_time": "2022-08-29T01:54:13.828564",
     "exception": false,
     "start_time": "2022-08-29T01:54:13.781081",
     "status": "completed"
    },
    "tags": []
   },
   "source": [
    "# **Visualization** ##"
   ]
  },
  {
   "cell_type": "markdown",
   "id": "ecd603ba",
   "metadata": {
    "papermill": {
     "duration": 0.046747,
     "end_time": "2022-08-29T01:54:13.922407",
     "exception": false,
     "start_time": "2022-08-29T01:54:13.875660",
     "status": "completed"
    },
    "tags": []
   },
   "source": [
    "### Histogram Graph\n",
    "\n",
    "Here, we have one Histogram per each variable (columns), in this way,  we see the distribution of these variable."
   ]
  },
  {
   "cell_type": "code",
   "execution_count": 15,
   "id": "1c74d4af",
   "metadata": {
    "execution": {
     "iopub.execute_input": "2022-08-29T01:54:14.060983Z",
     "iopub.status.busy": "2022-08-29T01:54:14.059897Z",
     "iopub.status.idle": "2022-08-29T01:54:16.697888Z",
     "shell.execute_reply": "2022-08-29T01:54:16.697280Z",
     "shell.execute_reply.started": "2022-08-27T19:19:11.545284Z"
    },
    "papermill": {
     "duration": 2.713847,
     "end_time": "2022-08-29T01:54:16.698038",
     "exception": false,
     "start_time": "2022-08-29T01:54:13.984191",
     "status": "completed"
    },
    "tags": []
   },
   "outputs": [
    {
     "data": {
      "text/plain": [
       "array([[<AxesSubplot:title={'center':'Vmag'}>,\n",
       "        <AxesSubplot:title={'center':'Plx'}>,\n",
       "        <AxesSubplot:title={'center':'e_Plx'}>],\n",
       "       [<AxesSubplot:title={'center':'B-V'}>,\n",
       "        <AxesSubplot:title={'center':'Amag'}>,\n",
       "        <AxesSubplot:title={'center':'e_Amag'}>],\n",
       "       [<AxesSubplot:title={'center':'eA/A'}>,\n",
       "        <AxesSubplot:title={'center':'eP/P'}>,\n",
       "        <AxesSubplot:title={'center':'TargetClass'}>]], dtype=object)"
      ]
     },
     "execution_count": 15,
     "metadata": {},
     "output_type": "execute_result"
    },
    {
     "data": {
      "image/png": "[encoded data removed]",
      "text/plain": [
       "<Figure size 1440x1080 with 9 Axes>"
      ]
     },
     "metadata": {
      "needs_background": "light"
     },
     "output_type": "display_data"
    }
   ],
   "source": [
    "%matplotlib inline\n",
    "\n",
    "dataStar['TargetClass'] = pd.to_numeric(dataStar['TargetClass'] , downcast='float' , errors='coerce')\n",
    "dataStar.dropna(inplace=True)\n",
    "\n",
    "\n",
    "dataStar.hist(bins=50 , figsize=(20,15) ) # histogram"
   ]
  },
  {
   "cell_type": "markdown",
   "id": "e8567064",
   "metadata": {
    "papermill": {
     "duration": 0.048824,
     "end_time": "2022-08-29T01:54:16.795802",
     "exception": false,
     "start_time": "2022-08-29T01:54:16.746978",
     "status": "completed"
    },
    "tags": []
   },
   "source": [
    "### Scatter Graph\n",
    "\n",
    "The next  two graphs show relationship among quantities most relevant for determinar Categorization Star."
   ]
  },
  {
   "cell_type": "code",
   "execution_count": 16,
   "id": "d1cf327a",
   "metadata": {
    "execution": {
     "iopub.execute_input": "2022-08-29T01:54:16.902507Z",
     "iopub.status.busy": "2022-08-29T01:54:16.901767Z",
     "iopub.status.idle": "2022-08-29T01:54:17.382080Z",
     "shell.execute_reply": "2022-08-29T01:54:17.381436Z",
     "shell.execute_reply.started": "2022-08-27T19:19:14.074705Z"
    },
    "papermill": {
     "duration": 0.537464,
     "end_time": "2022-08-29T01:54:17.382473",
     "exception": false,
     "start_time": "2022-08-29T01:54:16.845009",
     "status": "completed"
    },
    "tags": []
   },
   "outputs": [
    {
     "data": {
      "image/png": "[encoded data removed]",
      "text/plain": [
       "<Figure size 432x288 with 1 Axes>"
      ]
     },
     "metadata": {
      "needs_background": "light"
     },
     "output_type": "display_data"
    }
   ],
   "source": [
    "#sns.set()\n",
    "colors = {1:'red', 0:'yellow'}\n",
    "dataStar.plot.scatter( x=\"Plx\" ,y=\"Amag\" ,  c=dataStar['TargetClass'].map(colors) ,s=5); # problem with TargetClass\n",
    "#plt.xlabel(\"Plx\")\n",
    "#plt.figure()\n",
    "#plt.show()"
   ]
  },
  {
   "cell_type": "code",
   "execution_count": 17,
   "id": "e8682b44",
   "metadata": {
    "execution": {
     "iopub.execute_input": "2022-08-29T01:54:17.506827Z",
     "iopub.status.busy": "2022-08-29T01:54:17.500827Z",
     "iopub.status.idle": "2022-08-29T01:54:17.974440Z",
     "shell.execute_reply": "2022-08-29T01:54:17.973839Z",
     "shell.execute_reply.started": "2022-08-27T19:19:14.592835Z"
    },
    "papermill": {
     "duration": 0.536381,
     "end_time": "2022-08-29T01:54:17.974627",
     "exception": false,
     "start_time": "2022-08-29T01:54:17.438246",
     "status": "completed"
    },
    "tags": []
   },
   "outputs": [
    {
     "data": {
      "image/png": "[encoded data removed]",
      "text/plain": [
       "<Figure size 432x288 with 1 Axes>"
      ]
     },
     "metadata": {},
     "output_type": "display_data"
    },
    {
     "data": {
      "text/plain": [
       "<Figure size 432x288 with 0 Axes>"
      ]
     },
     "metadata": {},
     "output_type": "display_data"
    }
   ],
   "source": [
    "%matplotlib inline\n",
    "sns.set()\n",
    "dataStar.plot.scatter( x=\"B-V\" ,y=\"Amag\",cmap='viridis' ,  c=dataStar['TargetClass'].map(colors) ,s=5); # problem with TargetClass\n",
    "plt.xlabel(\"B-V\")\n",
    "plt.figure()\n",
    "plt.show()\n",
    "\n"
   ]
  },
  {
   "cell_type": "markdown",
   "id": "43bfa447",
   "metadata": {
    "execution": {
     "iopub.execute_input": "2022-05-07T16:30:41.154276Z",
     "iopub.status.busy": "2022-05-07T16:30:41.154066Z",
     "iopub.status.idle": "2022-05-07T16:30:44.14958Z",
     "shell.execute_reply": "2022-05-07T16:30:44.148602Z",
     "shell.execute_reply.started": "2022-05-07T16:30:41.154249Z"
    },
    "papermill": {
     "duration": 0.053454,
     "end_time": "2022-08-29T01:54:18.080346",
     "exception": false,
     "start_time": "2022-08-29T01:54:18.026892",
     "status": "completed"
    },
    "tags": []
   },
   "source": [
    "### Scatter Attributes\n",
    "\n",
    "In this vizualization we see the dispersion for each variable and target with respect a other variable."
   ]
  },
  {
   "cell_type": "code",
   "execution_count": 18,
   "id": "504a5d83",
   "metadata": {
    "execution": {
     "iopub.execute_input": "2022-08-29T01:54:18.188274Z",
     "iopub.status.busy": "2022-08-29T01:54:18.187326Z",
     "iopub.status.idle": "2022-08-29T01:54:21.580579Z",
     "shell.execute_reply": "2022-08-29T01:54:21.581101Z",
     "shell.execute_reply.started": "2022-08-27T19:19:15.045592Z"
    },
    "papermill": {
     "duration": 3.448912,
     "end_time": "2022-08-29T01:54:21.581291",
     "exception": false,
     "start_time": "2022-08-29T01:54:18.132379",
     "status": "completed"
    },
    "tags": []
   },
   "outputs": [
    {
     "data": {
      "text/plain": [
       "array([[<AxesSubplot:xlabel='TargetClass', ylabel='TargetClass'>,\n",
       "        <AxesSubplot:xlabel='Amag', ylabel='TargetClass'>,\n",
       "        <AxesSubplot:xlabel='Vmag', ylabel='TargetClass'>,\n",
       "        <AxesSubplot:xlabel='Plx', ylabel='TargetClass'>,\n",
       "        <AxesSubplot:xlabel='B-V', ylabel='TargetClass'>],\n",
       "       [<AxesSubplot:xlabel='TargetClass', ylabel='Amag'>,\n",
       "        <AxesSubplot:xlabel='Amag', ylabel='Amag'>,\n",
       "        <AxesSubplot:xlabel='Vmag', ylabel='Amag'>,\n",
       "        <AxesSubplot:xlabel='Plx', ylabel='Amag'>,\n",
       "        <AxesSubplot:xlabel='B-V', ylabel='Amag'>],\n",
       "       [<AxesSubplot:xlabel='TargetClass', ylabel='Vmag'>,\n",
       "        <AxesSubplot:xlabel='Amag', ylabel='Vmag'>,\n",
       "        <AxesSubplot:xlabel='Vmag', ylabel='Vmag'>,\n",
       "        <AxesSubplot:xlabel='Plx', ylabel='Vmag'>,\n",
       "        <AxesSubplot:xlabel='B-V', ylabel='Vmag'>],\n",
       "       [<AxesSubplot:xlabel='TargetClass', ylabel='Plx'>,\n",
       "        <AxesSubplot:xlabel='Amag', ylabel='Plx'>,\n",
       "        <AxesSubplot:xlabel='Vmag', ylabel='Plx'>,\n",
       "        <AxesSubplot:xlabel='Plx', ylabel='Plx'>,\n",
       "        <AxesSubplot:xlabel='B-V', ylabel='Plx'>],\n",
       "       [<AxesSubplot:xlabel='TargetClass', ylabel='B-V'>,\n",
       "        <AxesSubplot:xlabel='Amag', ylabel='B-V'>,\n",
       "        <AxesSubplot:xlabel='Vmag', ylabel='B-V'>,\n",
       "        <AxesSubplot:xlabel='Plx', ylabel='B-V'>,\n",
       "        <AxesSubplot:xlabel='B-V', ylabel='B-V'>]], dtype=object)"
      ]
     },
     "execution_count": 18,
     "metadata": {},
     "output_type": "execute_result"
    },
    {
     "data": {
      "image/png": "[encoded data removed]",
      "text/plain": [
       "<Figure size 864x576 with 25 Axes>"
      ]
     },
     "metadata": {},
     "output_type": "display_data"
    }
   ],
   "source": [
    "from pandas.plotting import scatter_matrix\n",
    "\n",
    "attributes = ['TargetClass','Amag' , 'Vmag' , 'Plx' , 'B-V']\n",
    "\n",
    "# convert a numerical Targetclass \n",
    "dataStar['TargetClass'] = pd.to_numeric(dataStar['TargetClass'] , downcast='float' , errors='coerce')\n",
    "\n",
    "scatter_matrix(dataStar[attributes] , figsize=(12, 8))\n"
   ]
  },
  {
   "cell_type": "markdown",
   "id": "30d42c4b",
   "metadata": {
    "papermill": {
     "duration": 0.055568,
     "end_time": "2022-08-29T01:54:21.692895",
     "exception": false,
     "start_time": "2022-08-29T01:54:21.637327",
     "status": "completed"
    },
    "tags": []
   },
   "source": [
    "## Correlation Linear ##\n",
    "\n",
    "In this part, we show the correlation the `TargetClass` with each other variables."
   ]
  },
  {
   "cell_type": "code",
   "execution_count": 19,
   "id": "1ee544cb",
   "metadata": {
    "execution": {
     "iopub.execute_input": "2022-08-29T01:54:21.809672Z",
     "iopub.status.busy": "2022-08-29T01:54:21.808983Z",
     "iopub.status.idle": "2022-08-29T01:54:21.817542Z",
     "shell.execute_reply": "2022-08-29T01:54:21.818068Z",
     "shell.execute_reply.started": "2022-08-27T19:19:18.555836Z"
    },
    "papermill": {
     "duration": 0.069984,
     "end_time": "2022-08-29T01:54:21.818252",
     "exception": false,
     "start_time": "2022-08-29T01:54:21.748268",
     "status": "completed"
    },
    "tags": []
   },
   "outputs": [
    {
     "data": {
      "text/plain": [
       "TargetClass    1.000000\n",
       "B-V            0.302299\n",
       "eP/P           0.036399\n",
       "e_Amag         0.036399\n",
       "eA/A           0.023408\n",
       "e_Plx         -0.242699\n",
       "Plx           -0.365910\n",
       "Vmag          -0.381619\n",
       "Amag          -0.735124\n",
       "Name: TargetClass, dtype: float64"
      ]
     },
     "execution_count": 19,
     "metadata": {},
     "output_type": "execute_result"
    }
   ],
   "source": [
    "corr_matrix = dataStar.corr()\n",
    "corr_matrix[\"TargetClass\"].sort_values(ascending=False)"
   ]
  },
  {
   "cell_type": "markdown",
   "id": "8002a803",
   "metadata": {
    "papermill": {
     "duration": 0.057176,
     "end_time": "2022-08-29T01:54:21.931342",
     "exception": false,
     "start_time": "2022-08-29T01:54:21.874166",
     "status": "completed"
    },
    "tags": []
   },
   "source": [
    "## Data Cleaning ##"
   ]
  },
  {
   "cell_type": "code",
   "execution_count": 20,
   "id": "cca002f6",
   "metadata": {
    "execution": {
     "iopub.execute_input": "2022-08-29T01:54:22.050066Z",
     "iopub.status.busy": "2022-08-29T01:54:22.049310Z",
     "iopub.status.idle": "2022-08-29T01:54:22.052820Z",
     "shell.execute_reply": "2022-08-29T01:54:22.052224Z",
     "shell.execute_reply.started": "2022-08-27T19:19:18.570457Z"
    },
    "papermill": {
     "duration": 0.065355,
     "end_time": "2022-08-29T01:54:22.052978",
     "exception": false,
     "start_time": "2022-08-29T01:54:21.987623",
     "status": "completed"
    },
    "tags": []
   },
   "outputs": [],
   "source": [
    "#dataStar = dataStar.drop(['Unnamed: 0'], axis =1)\n",
    "dataStar = dataStar.drop(['SpType'], axis =1)\n",
    "\n"
   ]
  },
  {
   "cell_type": "markdown",
   "id": "d1e852c3",
   "metadata": {
    "papermill": {
     "duration": 0.055621,
     "end_time": "2022-08-29T01:54:22.165631",
     "exception": false,
     "start_time": "2022-08-29T01:54:22.110010",
     "status": "completed"
    },
    "tags": []
   },
   "source": [
    "# **Data Processing** #"
   ]
  },
  {
   "cell_type": "code",
   "execution_count": 21,
   "id": "3ff688fc",
   "metadata": {
    "execution": {
     "iopub.execute_input": "2022-08-29T01:54:22.282170Z",
     "iopub.status.busy": "2022-08-29T01:54:22.281492Z",
     "iopub.status.idle": "2022-08-29T01:54:22.292881Z",
     "shell.execute_reply": "2022-08-29T01:54:22.293408Z",
     "shell.execute_reply.started": "2022-08-27T19:19:18.578970Z"
    },
    "papermill": {
     "duration": 0.071252,
     "end_time": "2022-08-29T01:54:22.293619",
     "exception": false,
     "start_time": "2022-08-29T01:54:22.222367",
     "status": "completed"
    },
    "tags": []
   },
   "outputs": [
    {
     "name": "stdout",
     "output_type": "stream",
     "text": [
      "<class 'pandas.core.frame.DataFrame'>\n",
      "Int64Index: 9562 entries, 0 to 9561\n",
      "Data columns (total 9 columns):\n",
      " #   Column       Non-Null Count  Dtype  \n",
      "---  ------       --------------  -----  \n",
      " 0   Vmag         9562 non-null   float32\n",
      " 1   Plx          9562 non-null   float32\n",
      " 2   e_Plx        9562 non-null   float32\n",
      " 3   B-V          9562 non-null   float32\n",
      " 4   Amag         9562 non-null   float32\n",
      " 5   e_Amag       9562 non-null   float32\n",
      " 6   eA/A         9562 non-null   float32\n",
      " 7   eP/P         9562 non-null   float32\n",
      " 8   TargetClass  9562 non-null   float32\n",
      "dtypes: float32(9)\n",
      "memory usage: 410.9 KB\n"
     ]
    }
   ],
   "source": [
    "dataStar.info()"
   ]
  },
  {
   "cell_type": "markdown",
   "id": "2c11b8f9",
   "metadata": {
    "papermill": {
     "duration": 0.056286,
     "end_time": "2022-08-29T01:54:22.406841",
     "exception": false,
     "start_time": "2022-08-29T01:54:22.350555",
     "status": "completed"
    },
    "tags": []
   },
   "source": [
    "### Train and test Set ###\n",
    "\n",
    "The data is split two set, Train and test, in one  proportional of 80% and 20%, respectively."
   ]
  },
  {
   "cell_type": "code",
   "execution_count": 22,
   "id": "36fe5a1f",
   "metadata": {
    "execution": {
     "iopub.execute_input": "2022-08-29T01:54:22.529828Z",
     "iopub.status.busy": "2022-08-29T01:54:22.528935Z",
     "iopub.status.idle": "2022-08-29T01:54:22.610704Z",
     "shell.execute_reply": "2022-08-29T01:54:22.611316Z",
     "shell.execute_reply.started": "2022-08-27T19:19:18.598242Z"
    },
    "papermill": {
     "duration": 0.146953,
     "end_time": "2022-08-29T01:54:22.611530",
     "exception": false,
     "start_time": "2022-08-29T01:54:22.464577",
     "status": "completed"
    },
    "tags": []
   },
   "outputs": [],
   "source": [
    "from sklearn.model_selection import train_test_split\n",
    "\n",
    "\n",
    "train , test = train_test_split(dataStar , test_size = 0.2, random_state = 42 )\n",
    "train = train.reset_index(drop=True)\n",
    "test = test.reset_index(drop=True)"
   ]
  },
  {
   "cell_type": "code",
   "execution_count": 23,
   "id": "3eee3666",
   "metadata": {
    "execution": {
     "iopub.execute_input": "2022-08-29T01:54:22.729275Z",
     "iopub.status.busy": "2022-08-29T01:54:22.728511Z",
     "iopub.status.idle": "2022-08-29T01:54:22.732140Z",
     "shell.execute_reply": "2022-08-29T01:54:22.732620Z",
     "shell.execute_reply.started": "2022-08-27T19:19:18.692619Z"
    },
    "papermill": {
     "duration": 0.064102,
     "end_time": "2022-08-29T01:54:22.732815",
     "exception": false,
     "start_time": "2022-08-29T01:54:22.668713",
     "status": "completed"
    },
    "tags": []
   },
   "outputs": [],
   "source": [
    "## Stratified ##\n",
    "#from sklearn.model_selection import StratifiedShuffleSplit\n",
    "#split = StratifiedShuffleSplit(n_splits=1, test_size=0.2, random_state=42)\n",
    "#for train_index, test_index in split.split(data, data[\"variableStratificada\"]):\n",
    "#strat_train_set = housing.loc[train_index]\n",
    "#strat_test_set = housing.loc[test_index]\n",
    "\n",
    "#from  sklearn.impute import SimpleImputer\n",
    "#imputer = SimpleImputer(strategy='median')\n",
    "\n",
    "#from  sklearn.preprocessing import OneHotEncoder\n",
    "#catEncoder = OneHotEncoder()\n",
    "\n",
    "## numerical ##\n",
    "#from  sklearn.pipeline import Pipeline\n",
    "#from  sklearn.preprocessing import StandardScaler\n",
    "#numerical_pipeline = Pipeline([('imputer', SimpleImputer(strategy=\"median\")),('attribs_adder', CombinedAttributesAdder()),])\n",
    "# new_variable_transformed_numerical = num_pipeline.fit_transform(varible_numerica)\n",
    "\n",
    "## numerical and categorial ##\n",
    "#from sklearn import ColumnTransformer\n",
    "#numerical_attribs = list(numerical_columns)\n",
    "#categorical_attribs = list(categorial_columns)\n",
    "#full_pipeline = ColumnTransformer([(\"num\", numerical_pipeline, numerical_attribs),(\"cat\", OneHotEncoder(), categorical_attribs),])\n",
    "#dataTotal_prepared = full_pipeline.fit_transform(dataTotal) "
   ]
  },
  {
   "cell_type": "markdown",
   "id": "755a0376",
   "metadata": {
    "papermill": {
     "duration": 0.056672,
     "end_time": "2022-08-29T01:54:22.846241",
     "exception": false,
     "start_time": "2022-08-29T01:54:22.789569",
     "status": "completed"
    },
    "tags": []
   },
   "source": [
    "## Target ## \n",
    "\n",
    "The Target corresponds to type the Star, be it Giant(1) or Dwarf(0)."
   ]
  },
  {
   "cell_type": "code",
   "execution_count": 24,
   "id": "2ed3d884",
   "metadata": {
    "execution": {
     "iopub.execute_input": "2022-08-29T01:54:22.963840Z",
     "iopub.status.busy": "2022-08-29T01:54:22.963118Z",
     "iopub.status.idle": "2022-08-29T01:54:22.977217Z",
     "shell.execute_reply": "2022-08-29T01:54:22.977771Z",
     "shell.execute_reply.started": "2022-08-27T19:19:18.698612Z"
    },
    "papermill": {
     "duration": 0.073912,
     "end_time": "2022-08-29T01:54:22.977972",
     "exception": false,
     "start_time": "2022-08-29T01:54:22.904060",
     "status": "completed"
    },
    "tags": []
   },
   "outputs": [
    {
     "name": "stdout",
     "output_type": "stream",
     "text": [
      "<class 'pandas.core.frame.DataFrame'>\n",
      "RangeIndex: 7649 entries, 0 to 7648\n",
      "Data columns (total 8 columns):\n",
      " #   Column  Non-Null Count  Dtype  \n",
      "---  ------  --------------  -----  \n",
      " 0   Vmag    7649 non-null   float32\n",
      " 1   Plx     7649 non-null   float32\n",
      " 2   e_Plx   7649 non-null   float32\n",
      " 3   B-V     7649 non-null   float32\n",
      " 4   Amag    7649 non-null   float32\n",
      " 5   e_Amag  7649 non-null   float32\n",
      " 6   eA/A    7649 non-null   float32\n",
      " 7   eP/P    7649 non-null   float32\n",
      "dtypes: float32(8)\n",
      "memory usage: 239.2 KB\n"
     ]
    }
   ],
   "source": [
    "trainX = train.drop('TargetClass', axis=1)\n",
    "trainY = train['TargetClass'].copy()\n",
    "\n",
    "testX = test.drop('TargetClass', axis=1)\n",
    "testY = test['TargetClass'].copy()\n",
    "trainX.info()"
   ]
  },
  {
   "cell_type": "markdown",
   "id": "4bd578ba",
   "metadata": {
    "papermill": {
     "duration": 0.058246,
     "end_time": "2022-08-29T01:54:23.093385",
     "exception": false,
     "start_time": "2022-08-29T01:54:23.035139",
     "status": "completed"
    },
    "tags": []
   },
   "source": [
    "# Featuring Engineering "
   ]
  },
  {
   "cell_type": "markdown",
   "id": "b3ac1d12",
   "metadata": {
    "papermill": {
     "duration": 0.057491,
     "end_time": "2022-08-29T01:54:23.207418",
     "exception": false,
     "start_time": "2022-08-29T01:54:23.149927",
     "status": "completed"
    },
    "tags": []
   },
   "source": [
    "##  Pipeline and Featuring Scaling ##\n",
    "\n",
    "For the  Featuring Scaling, we was used `StandardScaler`that find to get a unit variance on each  the data distribution."
   ]
  },
  {
   "cell_type": "code",
   "execution_count": 25,
   "id": "fa545bac",
   "metadata": {
    "execution": {
     "iopub.execute_input": "2022-08-29T01:54:23.325705Z",
     "iopub.status.busy": "2022-08-29T01:54:23.325017Z",
     "iopub.status.idle": "2022-08-29T01:54:23.495987Z",
     "shell.execute_reply": "2022-08-29T01:54:23.495197Z",
     "shell.execute_reply.started": "2022-08-27T19:19:18.722843Z"
    },
    "papermill": {
     "duration": 0.230999,
     "end_time": "2022-08-29T01:54:23.496195",
     "exception": false,
     "start_time": "2022-08-29T01:54:23.265196",
     "status": "completed"
    },
    "tags": []
   },
   "outputs": [
    {
     "name": "stdout",
     "output_type": "stream",
     "text": [
      "Done\n"
     ]
    }
   ],
   "source": [
    "from  sklearn.impute import SimpleImputer\n",
    "from  sklearn.preprocessing import OneHotEncoder\n",
    "\n",
    "from  sklearn.pipeline import Pipeline\n",
    "from  sklearn.preprocessing import StandardScaler\n",
    "\n",
    "numerical_pipeline = Pipeline([('imputer', SimpleImputer(strategy=\"median\")),\n",
    "                              ('std_scaler', StandardScaler())] )\n",
    "\n",
    "from sklearn.compose import ColumnTransformer\n",
    "\n",
    "num_attribs = list(trainX)\n",
    "#cat_attribs = [\"ocean_proximity\"] ---generar lista de attribus catecorial---\n",
    "full_pipeline = ColumnTransformer([(\"num\", numerical_pipeline, num_attribs),\n",
    "#                                   (\"cat\", OneHotEncoder(), cat_attribs),\n",
    "                                  ])\n",
    "\n",
    "Xtrain = full_pipeline.fit_transform(trainX)  # array\n",
    "\n",
    "print('Done')"
   ]
  },
  {
   "cell_type": "markdown",
   "id": "f4f78e40",
   "metadata": {
    "papermill": {
     "duration": 0.056685,
     "end_time": "2022-08-29T01:54:23.611052",
     "exception": false,
     "start_time": "2022-08-29T01:54:23.554367",
     "status": "completed"
    },
    "tags": []
   },
   "source": [
    " # **MODEL** # \n",
    "\n",
    "The applied classification models are:\n",
    "\n",
    "- Logistic Regression \n",
    "- Random Forest Classifier\n",
    "- Stochastic Gradient Descent"
   ]
  },
  {
   "cell_type": "code",
   "execution_count": 26,
   "id": "cd7762b8",
   "metadata": {
    "execution": {
     "iopub.execute_input": "2022-08-29T01:54:23.729703Z",
     "iopub.status.busy": "2022-08-29T01:54:23.728972Z",
     "iopub.status.idle": "2022-08-29T01:54:23.784710Z",
     "shell.execute_reply": "2022-08-29T01:54:23.785306Z",
     "shell.execute_reply.started": "2022-08-27T19:19:18.920917Z"
    },
    "papermill": {
     "duration": 0.116723,
     "end_time": "2022-08-29T01:54:23.785531",
     "exception": false,
     "start_time": "2022-08-29T01:54:23.668808",
     "status": "completed"
    },
    "tags": []
   },
   "outputs": [],
   "source": [
    "# Models ==> ['logisRegre' , 'SVM'   , 'SGDClf' ,  'randomForestClassifier' , 'navieBayes']\n",
    "\n",
    "# Classifier\n",
    "from sklearn.linear_model import SGDClassifier\n",
    "from sklearn.linear_model import LogisticRegression\n",
    "from sklearn.ensemble import RandomForestClassifier\n",
    "from sklearn.svm import LinearSVC\n"
   ]
  },
  {
   "cell_type": "code",
   "execution_count": 27,
   "id": "297f2661",
   "metadata": {
    "execution": {
     "iopub.execute_input": "2022-08-29T01:54:23.903908Z",
     "iopub.status.busy": "2022-08-29T01:54:23.903197Z",
     "iopub.status.idle": "2022-08-29T01:54:23.924962Z",
     "shell.execute_reply": "2022-08-29T01:54:23.925545Z",
     "shell.execute_reply.started": "2022-08-27T19:19:18.985853Z"
    },
    "papermill": {
     "duration": 0.082773,
     "end_time": "2022-08-29T01:54:23.925733",
     "exception": false,
     "start_time": "2022-08-29T01:54:23.842960",
     "status": "completed"
    },
    "tags": []
   },
   "outputs": [],
   "source": [
    "\n",
    "SGDClf = SGDClassifier(random_state=42)\n",
    "SGDClf.fit(Xtrain, trainY) # fit equal training\n",
    "\n",
    "LRClf = LogisticRegression(random_state=0)\n",
    "RFClf = RandomForestClassifier(random_state=0)\n",
    "SVClf = LinearSVC(random_state=0)\n",
    "\n",
    "\n",
    "#SGDClf.fit(Xtrain, trainY)"
   ]
  },
  {
   "cell_type": "markdown",
   "id": "2d0c0cbf",
   "metadata": {
    "papermill": {
     "duration": 0.056959,
     "end_time": "2022-08-29T01:54:24.044482",
     "exception": false,
     "start_time": "2022-08-29T01:54:23.987523",
     "status": "completed"
    },
    "tags": []
   },
   "source": [
    "## Cross-Validation ##\n",
    "\n",
    "In the order to optimize,  we created a function `compareModels` that compare the different models apply cross-validation. The scoring choose is negative mean squared error. "
   ]
  },
  {
   "cell_type": "code",
   "execution_count": 28,
   "id": "049093b5",
   "metadata": {
    "execution": {
     "iopub.execute_input": "2022-08-29T01:54:24.163219Z",
     "iopub.status.busy": "2022-08-29T01:54:24.162379Z",
     "iopub.status.idle": "2022-08-29T01:54:32.519500Z",
     "shell.execute_reply": "2022-08-29T01:54:32.518678Z",
     "shell.execute_reply.started": "2022-08-27T19:19:19.008532Z"
    },
    "papermill": {
     "duration": 8.417708,
     "end_time": "2022-08-29T01:54:32.519703",
     "exception": false,
     "start_time": "2022-08-29T01:54:24.101995",
     "status": "completed"
    },
    "tags": []
   },
   "outputs": [
    {
     "name": "stdout",
     "output_type": "stream",
     "text": [
      "{0.9070478447789373: SGDClassifier(random_state=42), 0.9129301977201139: LogisticRegression(random_state=0), 0.9386846020459467: RandomForestClassifier(random_state=0)}\n",
      "\n",
      "\n",
      "Best model: RandomForestClassifier(random_state=0)\n"
     ]
    }
   ],
   "source": [
    "from sklearn.model_selection import cross_val_score\n",
    "\n",
    "# automatizar entre diversos modelos de la misma categoria\n",
    "def compareModels(models, x, y, numCV, scoringT=\"f1_micro\"):\n",
    "    modelsCV = dict()\n",
    "    for mod in models:\n",
    "        scores = cross_val_score(mod, x, y, scoring = scoringT, cv=numCV)\n",
    "        meanScore = scores.mean()\n",
    "        modelsCV[meanScore] = mod\n",
    "    \n",
    "    val=max(modelsCV)\n",
    "    bestModel = modelsCV[val]\n",
    "    return modelsCV,bestModel\n",
    "    \n",
    "result, model =compareModels([SGDClf , LRClf, RFClf] , Xtrain , trainY , 6)\n",
    "print(result); print('\\n'); print('Best model:', model); "
   ]
  },
  {
   "cell_type": "code",
   "execution_count": 29,
   "id": "bf0e8a87",
   "metadata": {
    "execution": {
     "iopub.execute_input": "2022-08-29T01:54:32.641960Z",
     "iopub.status.busy": "2022-08-29T01:54:32.639944Z",
     "iopub.status.idle": "2022-08-29T01:54:34.221210Z",
     "shell.execute_reply": "2022-08-29T01:54:34.221844Z",
     "shell.execute_reply.started": "2022-08-27T19:19:27.342796Z"
    },
    "papermill": {
     "duration": 1.643679,
     "end_time": "2022-08-29T01:54:34.222043",
     "exception": false,
     "start_time": "2022-08-29T01:54:32.578364",
     "status": "completed"
    },
    "tags": []
   },
   "outputs": [],
   "source": [
    "model.fit(Xtrain, trainY)\n",
    "\n",
    "Xtest = full_pipeline.fit_transform(testX)\n",
    "Ypredicts = model.predict(Xtest)\n"
   ]
  },
  {
   "cell_type": "markdown",
   "id": "0de581d6",
   "metadata": {
    "execution": {
     "iopub.execute_input": "2022-05-09T15:18:28.461064Z",
     "iopub.status.busy": "2022-05-09T15:18:28.4606Z",
     "iopub.status.idle": "2022-05-09T15:18:28.46877Z",
     "shell.execute_reply": "2022-05-09T15:18:28.467906Z",
     "shell.execute_reply.started": "2022-05-09T15:18:28.461015Z"
    },
    "papermill": {
     "duration": 0.057003,
     "end_time": "2022-08-29T01:54:34.337247",
     "exception": false,
     "start_time": "2022-08-29T01:54:34.280244",
     "status": "completed"
    },
    "tags": []
   },
   "source": [
    "# Metrics\n",
    "\n",
    "The Metrics is Root Mean Squared Error that  allows us to measure the error  between value the test set and value predict."
   ]
  },
  {
   "cell_type": "code",
   "execution_count": 30,
   "id": "d5aa80b9",
   "metadata": {
    "execution": {
     "iopub.execute_input": "2022-08-29T01:54:34.459362Z",
     "iopub.status.busy": "2022-08-29T01:54:34.456112Z",
     "iopub.status.idle": "2022-08-29T01:54:34.462148Z",
     "shell.execute_reply": "2022-08-29T01:54:34.462877Z",
     "shell.execute_reply.started": "2022-08-27T19:19:28.990171Z"
    },
    "papermill": {
     "duration": 0.06811,
     "end_time": "2022-08-29T01:54:34.463118",
     "exception": false,
     "start_time": "2022-08-29T01:54:34.395008",
     "status": "completed"
    },
    "tags": []
   },
   "outputs": [
    {
     "name": "stdout",
     "output_type": "stream",
     "text": [
      "Root Mean Squared Error: 0.2408818\n"
     ]
    }
   ],
   "source": [
    "from sklearn.metrics import mean_squared_error\n",
    "\n",
    "mse = mean_squared_error(testY , Ypredicts) \n",
    "rmse = np.sqrt(mse)\n",
    "print('Root Mean Squared Error:', rmse)"
   ]
  },
  {
   "cell_type": "markdown",
   "id": "7e218fc0",
   "metadata": {
    "papermill": {
     "duration": 0.058648,
     "end_time": "2022-08-29T01:54:34.582212",
     "exception": false,
     "start_time": "2022-08-29T01:54:34.523564",
     "status": "completed"
    },
    "tags": []
   },
   "source": [
    "While the precision is:"
   ]
  },
  {
   "cell_type": "code",
   "execution_count": 31,
   "id": "46cc2a35",
   "metadata": {
    "execution": {
     "iopub.execute_input": "2022-08-29T01:54:34.715448Z",
     "iopub.status.busy": "2022-08-29T01:54:34.712005Z",
     "iopub.status.idle": "2022-08-29T01:54:34.718582Z",
     "shell.execute_reply": "2022-08-29T01:54:34.719055Z",
     "shell.execute_reply.started": "2022-08-27T19:19:28.998532Z"
    },
    "papermill": {
     "duration": 0.078011,
     "end_time": "2022-08-29T01:54:34.719241",
     "exception": false,
     "start_time": "2022-08-29T01:54:34.641230",
     "status": "completed"
    },
    "tags": []
   },
   "outputs": [
    {
     "name": "stdout",
     "output_type": "stream",
     "text": [
      "Precision: 94.197595%\n"
     ]
    }
   ],
   "source": [
    "output = pd.DataFrame({'Star': testY, 'StarPred': Ypredicts})\n",
    "\n",
    "def precision(a, b):\n",
    "    cont = 0\n",
    "    for i in np.arange(len(a)):\n",
    "        if (a[i]==b[i]):\n",
    "            cont = cont +1\n",
    "             \n",
    "            \n",
    "    return  format( cont/len(a) , '2%') \n",
    "\n",
    "print('Precision:',  precision(testY , Ypredicts))"
   ]
  },
  {
   "cell_type": "code",
   "execution_count": 32,
   "id": "12b7f6a0",
   "metadata": {
    "execution": {
     "iopub.execute_input": "2022-08-29T01:54:34.839233Z",
     "iopub.status.busy": "2022-08-29T01:54:34.838484Z",
     "iopub.status.idle": "2022-08-29T01:54:34.841593Z",
     "shell.execute_reply": "2022-08-29T01:54:34.842243Z",
     "shell.execute_reply.started": "2022-08-27T19:19:29.024456Z"
    },
    "papermill": {
     "duration": 0.064866,
     "end_time": "2022-08-29T01:54:34.842429",
     "exception": false,
     "start_time": "2022-08-29T01:54:34.777563",
     "status": "completed"
    },
    "tags": []
   },
   "outputs": [],
   "source": [
    "### stratified CV ### see pag 136  Geron's book\n",
    "#from sklearn.model_selection import StratifiedKFold\n",
    "#from sklearn.base import clone\n",
    "#skfolds = StratifiedKFold(n_splits=3, random_state=42)"
   ]
  },
  {
   "cell_type": "markdown",
   "id": "6f4518b0",
   "metadata": {
    "papermill": {
     "duration": 0.058664,
     "end_time": "2022-08-29T01:54:34.959617",
     "exception": false,
     "start_time": "2022-08-29T01:54:34.900953",
     "status": "completed"
    },
    "tags": []
   },
   "source": [
    "# **Refinament** #"
   ]
  },
  {
   "cell_type": "markdown",
   "id": "3501f62e",
   "metadata": {
    "papermill": {
     "duration": 0.057739,
     "end_time": "2022-08-29T01:54:35.076011",
     "exception": false,
     "start_time": "2022-08-29T01:54:35.018272",
     "status": "completed"
    },
    "tags": []
   },
   "source": [
    "### Hyper-parameters ###"
   ]
  },
  {
   "cell_type": "markdown",
   "id": "84cecad0",
   "metadata": {
    "papermill": {
     "duration": 0.05794,
     "end_time": "2022-08-29T01:54:35.193810",
     "exception": false,
     "start_time": "2022-08-29T01:54:35.135870",
     "status": "completed"
    },
    "tags": []
   },
   "source": [
    "We proceeded to search for the hyperparameters, using `GridSearchCV` a list of hyperparameters to experiment with."
   ]
  },
  {
   "cell_type": "code",
   "execution_count": 33,
   "id": "95b775b9",
   "metadata": {
    "execution": {
     "iopub.execute_input": "2022-08-29T01:54:35.315148Z",
     "iopub.status.busy": "2022-08-29T01:54:35.314405Z",
     "iopub.status.idle": "2022-08-29T01:54:35.319544Z",
     "shell.execute_reply": "2022-08-29T01:54:35.320083Z",
     "shell.execute_reply.started": "2022-08-27T19:19:29.030448Z"
    },
    "papermill": {
     "duration": 0.067173,
     "end_time": "2022-08-29T01:54:35.320264",
     "exception": false,
     "start_time": "2022-08-29T01:54:35.253091",
     "status": "completed"
    },
    "tags": []
   },
   "outputs": [],
   "source": [
    "from sklearn.model_selection import GridSearchCV\n",
    "from sklearn.model_selection import RandomizedSearchCV\n",
    "from scipy.stats import uniform\n",
    "\n",
    "\n",
    "#distributions = dict(C=uniform(loc=0, scale=4), penalty=['l2','l1'])\n",
    "#clf=RandomizedSearchCV( RFClf , distributions , random_state=0) # arg (model , distri , ...)\n",
    "\n",
    "\n",
    "parameter_grid = [{'n_estimators':[3,5,10,12, 14,16], 'max_features':[2,4,6]} ,\n",
    "                  {'bootstrap':[False], 'n_estimators':[3,7,12,14, 16] , 'max_features':[1,2,3,4, 6]}]\n",
    "#clf=GridSearchCV( model , parameter_grid,\n",
    "#                cv=20 ,  scoring='neg_mean_squared_error' , return_train_score=True) # arg (model , distri , ...)"
   ]
  },
  {
   "cell_type": "code",
   "execution_count": 34,
   "id": "f6ad45b8",
   "metadata": {
    "execution": {
     "iopub.execute_input": "2022-08-29T01:54:35.444581Z",
     "iopub.status.busy": "2022-08-29T01:54:35.443828Z",
     "iopub.status.idle": "2022-08-29T01:54:35.447432Z",
     "shell.execute_reply": "2022-08-29T01:54:35.446911Z",
     "shell.execute_reply.started": "2022-08-27T19:19:29.041548Z"
    },
    "papermill": {
     "duration": 0.067807,
     "end_time": "2022-08-29T01:54:35.447607",
     "exception": false,
     "start_time": "2022-08-29T01:54:35.379800",
     "status": "completed"
    },
    "tags": []
   },
   "outputs": [],
   "source": [
    "randomgrid = {'n_estimators':[ 300, 700, 900], \n",
    "                'max_features':[\"sqrt\", 'log2'] ,\n",
    "               'criterion' : [\"entropy\", \"gini\"],\n",
    "               'bootstrap':[False, True], \n",
    "             }\n",
    "\n",
    "clf=RandomizedSearchCV( model ,\n",
    "                       randomgrid,\n",
    "                       cv=10,\n",
    "                       scoring='f1_micro' , \n",
    "                       return_train_score=True) # arg (model , distri , ...)"
   ]
  },
  {
   "cell_type": "code",
   "execution_count": 35,
   "id": "7d58e2e4",
   "metadata": {
    "execution": {
     "iopub.execute_input": "2022-08-29T01:54:35.567724Z",
     "iopub.status.busy": "2022-08-29T01:54:35.566966Z",
     "iopub.status.idle": "2022-08-29T02:17:59.204485Z",
     "shell.execute_reply": "2022-08-29T02:17:59.205036Z",
     "shell.execute_reply.started": "2022-08-27T19:19:29.054310Z"
    },
    "papermill": {
     "duration": 1403.699223,
     "end_time": "2022-08-29T02:17:59.205240",
     "exception": false,
     "start_time": "2022-08-29T01:54:35.506017",
     "status": "completed"
    },
    "tags": []
   },
   "outputs": [
    {
     "data": {
      "text/plain": [
       "{'n_estimators': 300,\n",
       " 'max_features': 'log2',\n",
       " 'criterion': 'entropy',\n",
       " 'bootstrap': True}"
      ]
     },
     "execution_count": 35,
     "metadata": {},
     "output_type": "execute_result"
    }
   ],
   "source": [
    "\n",
    "clf.fit(Xtrain, trainY)\n",
    "\n",
    "clf.best_params_"
   ]
  },
  {
   "cell_type": "markdown",
   "id": "05ef0cee",
   "metadata": {
    "papermill": {
     "duration": 0.058608,
     "end_time": "2022-08-29T02:17:59.323254",
     "exception": false,
     "start_time": "2022-08-29T02:17:59.264646",
     "status": "completed"
    },
    "tags": []
   },
   "source": [
    "###  Model-Hyperparameters ###"
   ]
  },
  {
   "cell_type": "code",
   "execution_count": 36,
   "id": "1da5fc41",
   "metadata": {
    "execution": {
     "iopub.execute_input": "2022-08-29T02:17:59.445682Z",
     "iopub.status.busy": "2022-08-29T02:17:59.444632Z",
     "iopub.status.idle": "2022-08-29T02:17:59.557524Z",
     "shell.execute_reply": "2022-08-29T02:17:59.556873Z",
     "shell.execute_reply.started": "2022-08-27T19:46:06.833766Z"
    },
    "papermill": {
     "duration": 0.174805,
     "end_time": "2022-08-29T02:17:59.557683",
     "exception": false,
     "start_time": "2022-08-29T02:17:59.382878",
     "status": "completed"
    },
    "tags": []
   },
   "outputs": [
    {
     "name": "stdout",
     "output_type": "stream",
     "text": [
      "Precision: 94.302143%\n"
     ]
    }
   ],
   "source": [
    "finalModel=clf.best_estimator_\n",
    "Ypredfinal=finalModel.predict(Xtest)\n",
    "\n",
    "print('Precision:', precision(testY , Ypredfinal) )# worse model"
   ]
  },
  {
   "cell_type": "code",
   "execution_count": 37,
   "id": "3878e803",
   "metadata": {
    "execution": {
     "iopub.execute_input": "2022-08-29T02:17:59.680688Z",
     "iopub.status.busy": "2022-08-29T02:17:59.679665Z",
     "iopub.status.idle": "2022-08-29T02:17:59.689210Z",
     "shell.execute_reply": "2022-08-29T02:17:59.688683Z",
     "shell.execute_reply.started": "2022-08-27T19:46:07.164278Z"
    },
    "papermill": {
     "duration": 0.071641,
     "end_time": "2022-08-29T02:17:59.689359",
     "exception": false,
     "start_time": "2022-08-29T02:17:59.617718",
     "status": "completed"
    },
    "tags": []
   },
   "outputs": [
    {
     "name": "stdout",
     "output_type": "stream",
     "text": [
      "Score F1: 0.9430214323052797\n"
     ]
    }
   ],
   "source": [
    "from sklearn.metrics import  f1_score, precision_score, recall_score, confusion_matrix, ConfusionMatrixDisplay,  SCORERS\n",
    "\n",
    "\n",
    "score = f1_score(\n",
    "    testY,\n",
    "    Ypredfinal,\n",
    " #   labels=labels,\n",
    "    average='micro',\n",
    ")\n",
    "\n",
    "print(\"Score F1:\" , score)"
   ]
  },
  {
   "cell_type": "code",
   "execution_count": 38,
   "id": "6d1ca2d9",
   "metadata": {
    "execution": {
     "iopub.execute_input": "2022-08-29T02:17:59.815604Z",
     "iopub.status.busy": "2022-08-29T02:17:59.814842Z",
     "iopub.status.idle": "2022-08-29T02:18:00.076874Z",
     "shell.execute_reply": "2022-08-29T02:18:00.076236Z",
     "shell.execute_reply.started": "2022-08-27T19:53:49.769239Z"
    },
    "papermill": {
     "duration": 0.328391,
     "end_time": "2022-08-29T02:18:00.077037",
     "exception": false,
     "start_time": "2022-08-29T02:17:59.748646",
     "status": "completed"
    },
    "tags": []
   },
   "outputs": [
    {
     "name": "stdout",
     "output_type": "stream",
     "text": [
      "[[930  54]\n",
      " [ 55 874]]\n"
     ]
    },
    {
     "data": {
      "image/png": "[encoded data removed]",
      "text/plain": [
       "<Figure size 432x288 with 2 Axes>"
      ]
     },
     "metadata": {},
     "output_type": "display_data"
    }
   ],
   "source": [
    "labels= finalModel.classes_\n",
    "\n",
    "\n",
    "cmat = confusion_matrix(\n",
    "    testY,\n",
    "    Ypredfinal,\n",
    "    labels=labels,\n",
    "    #average='micro',\n",
    "\n",
    ")\n",
    "\n",
    "print(cmat)\n",
    "cmat = (cmat.T / cmat.sum(axis=1)).T # normalize\n",
    "\n",
    "\n",
    "disp = ConfusionMatrixDisplay(confusion_matrix=cmat,\n",
    "                              display_labels=clf.classes_)\n",
    "disp.plot()\n",
    "plt.show()"
   ]
  },
  {
   "cell_type": "markdown",
   "id": "3f2fb2cd",
   "metadata": {
    "papermill": {
     "duration": 0.062631,
     "end_time": "2022-08-29T02:18:00.200338",
     "exception": false,
     "start_time": "2022-08-29T02:18:00.137707",
     "status": "completed"
    },
    "tags": []
   },
   "source": [
    "# Future improvements"
   ]
  },
  {
   "cell_type": "markdown",
   "id": "eccccaa5",
   "metadata": {
    "papermill": {
     "duration": 0.060246,
     "end_time": "2022-08-29T02:18:00.320951",
     "exception": false,
     "start_time": "2022-08-29T02:18:00.260705",
     "status": "completed"
    },
    "tags": []
   },
   "source": [
    "The model  can be improvement by implementation some  Clusters model and  applying a stratification to the data."
   ]
  },
  {
   "cell_type": "code",
   "execution_count": 39,
   "id": "37794d88",
   "metadata": {
    "execution": {
     "iopub.execute_input": "2022-08-29T02:18:00.449647Z",
     "iopub.status.busy": "2022-08-29T02:18:00.448624Z",
     "iopub.status.idle": "2022-08-29T02:18:00.450921Z",
     "shell.execute_reply": "2022-08-29T02:18:00.451550Z",
     "shell.execute_reply.started": "2022-08-27T19:46:07.174018Z"
    },
    "papermill": {
     "duration": 0.068705,
     "end_time": "2022-08-29T02:18:00.451742",
     "exception": false,
     "start_time": "2022-08-29T02:18:00.383037",
     "status": "completed"
    },
    "tags": []
   },
   "outputs": [],
   "source": [
    "# **Deploy** #"
   ]
  }
 ],
 "metadata": {
  "kernelspec": {
   "display_name": "Python 3",
   "language": "python",
   "name": "python3"
  },
  "language_info": {
   "codemirror_mode": {
    "name": "ipython",
    "version": 3
   },
   "file_extension": ".py",
   "mimetype": "text/x-python",
   "name": "python",
   "nbconvert_exporter": "python",
   "pygments_lexer": "ipython3",
   "version": "3.7.12"
  },
  "papermill": {
   "default_parameters": {},
   "duration": 1634.221034,
   "end_time": "2022-08-29T02:18:01.426543",
   "environment_variables": {},
   "exception": null,
   "input_path": "__notebook__.ipynb",
   "output_path": "__notebook__.ipynb",
   "parameters": {},
   "start_time": "2022-08-29T01:50:47.205509",
   "version": "2.3.3"
  }
 },
 "nbformat": 4,
 "nbformat_minor": 5
}
