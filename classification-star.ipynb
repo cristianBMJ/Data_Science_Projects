{
 "cells": [
  {
   "cell_type": "markdown",
   "id": "e20b8f4a",
   "metadata": {
    "papermill": {
     "duration": 0.033544,
     "end_time": "2022-05-10T21:40:24.217771",
     "exception": false,
     "start_time": "2022-05-10T21:40:24.184227",
     "status": "completed"
    },
    "tags": []
   },
   "source": [
    "# **Categorization Stars**\n",
    "\n",
    "This project have goal prediction if one Star is Giant or Dwarfs, used Morgan-Keen (MK) classification system, kinds the learned models are the Classifications. The dataset for this proyect comes from [Kaggle Star](https://www.kaggle.com/vinesmsuic/star-categorization-giants-and-dwarfs).\n",
    "\n",
    "\n"
   ]
  },
  {
   "cell_type": "markdown",
   "id": "5a0953c4",
   "metadata": {
    "papermill": {
     "duration": 0.031983,
     "end_time": "2022-05-10T21:40:24.284182",
     "exception": false,
     "start_time": "2022-05-10T21:40:24.252199",
     "status": "completed"
    },
    "tags": []
   },
   "source": [
    "## Setting\n"
   ]
  },
  {
   "cell_type": "code",
   "execution_count": 1,
   "id": "eabe4afe",
   "metadata": {
    "_cell_guid": "b1076dfc-b9ad-4769-8c92-a6c4dae69d19",
    "_kg_hide-input": true,
    "_kg_hide-output": true,
    "_uuid": "8f2839f25d086af736a60e9eeb907d3b93b6e0e5",
    "execution": {
     "iopub.execute_input": "2022-05-10T21:40:24.354056Z",
     "iopub.status.busy": "2022-05-10T21:40:24.352990Z",
     "iopub.status.idle": "2022-05-10T21:40:25.305450Z",
     "shell.execute_reply": "2022-05-10T21:40:25.306084Z",
     "shell.execute_reply.started": "2022-05-10T21:29:33.277898Z"
    },
    "papermill": {
     "duration": 0.990033,
     "end_time": "2022-05-10T21:40:25.306447",
     "exception": false,
     "start_time": "2022-05-10T21:40:24.316414",
     "status": "completed"
    },
    "tags": []
   },
   "outputs": [
    {
     "name": "stdout",
     "output_type": "stream",
     "text": [
      "/kaggle/input/star-categorization-giants-and-dwarfs/Star99999_raw.csv\n",
      "/kaggle/input/star-categorization-giants-and-dwarfs/Star39552_balanced.csv\n",
      "/kaggle/input/star-categorization-giants-and-dwarfs/Star9999_raw.csv\n",
      "/kaggle/input/star-categorization-giants-and-dwarfs/Star3642_balanced.csv\n"
     ]
    }
   ],
   "source": [
    "# This Python 3 environment comes with many helpful analytics libraries installed\n",
    "# It is defined by the kaggle/python Docker image: https://github.com/kaggle/docker-python\n",
    "# For example, here's several helpful packages to load\n",
    "\n",
    "# Libraries\n",
    "%matplotlib inline\n",
    "\n",
    "import numpy as np # linear algebra\n",
    "import pandas as pd # data processing, CSV file I/O (e.g. pd.read_csv)\n",
    "\n",
    "import matplotlib.pyplot as plt\n",
    "import seaborn as sns\n",
    "# Input data files are available in the read-only \"../input/\" directory\n",
    "# For example, running this (by clicking run or pressing Shift+Enter) will list all files under the input directory\n",
    "\n",
    "import os\n",
    "for dirname, _, filenames in os.walk('/kaggle/input'):\n",
    "    for filename in filenames:\n",
    "        print(os.path.join(dirname, filename))\n",
    "\n",
    "# You can write up to 20GB to the current directory (/kaggle/working/) that gets preserved as output when you create a version using \"Save & Run All\" \n",
    "# You can also write temporary files to /kaggle/temp/, but they won't be saved outside of the current session\n"
   ]
  },
  {
   "cell_type": "markdown",
   "id": "7829d155",
   "metadata": {
    "papermill": {
     "duration": 0.042344,
     "end_time": "2022-05-10T21:40:25.391780",
     "exception": false,
     "start_time": "2022-05-10T21:40:25.349436",
     "status": "completed"
    },
    "tags": []
   },
   "source": [
    "# Get Data #"
   ]
  },
  {
   "cell_type": "markdown",
   "id": "02c53ff2",
   "metadata": {
    "papermill": {
     "duration": 0.032611,
     "end_time": "2022-05-10T21:40:25.459757",
     "exception": false,
     "start_time": "2022-05-10T21:40:25.427146",
     "status": "completed"
    },
    "tags": []
   },
   "source": [
    "The raw data will be processed, apply pre-processing, clean and then Balance."
   ]
  },
  {
   "cell_type": "code",
   "execution_count": 2,
   "id": "a04e304a",
   "metadata": {
    "execution": {
     "iopub.execute_input": "2022-05-10T21:40:25.528990Z",
     "iopub.status.busy": "2022-05-10T21:40:25.528106Z",
     "iopub.status.idle": "2022-05-10T21:40:25.686681Z",
     "shell.execute_reply": "2022-05-10T21:40:25.687250Z",
     "shell.execute_reply.started": "2022-05-10T21:29:33.427084Z"
    },
    "papermill": {
     "duration": 0.195028,
     "end_time": "2022-05-10T21:40:25.687438",
     "exception": false,
     "start_time": "2022-05-10T21:40:25.492410",
     "status": "completed"
    },
    "tags": []
   },
   "outputs": [],
   "source": [
    "# Read Data\n",
    "dataRaw = pd.read_csv('/kaggle/input/star-categorization-giants-and-dwarfs/Star99999_raw.csv') # data initial or Raw \n",
    "dataBalanced = pd.read_csv('../input/star-categorization-giants-and-dwarfs/Star39552_balanced.csv') # data pre-processed"
   ]
  },
  {
   "cell_type": "markdown",
   "id": "1e54621e",
   "metadata": {
    "papermill": {
     "duration": 0.032586,
     "end_time": "2022-05-10T21:40:25.752489",
     "exception": false,
     "start_time": "2022-05-10T21:40:25.719903",
     "status": "completed"
    },
    "tags": []
   },
   "source": [
    "#  **Exploratory Data Analysis** \n",
    "Information about `dataRaw`, counts of non-null per  columns and its type."
   ]
  },
  {
   "cell_type": "code",
   "execution_count": 3,
   "id": "221035e4",
   "metadata": {
    "execution": {
     "iopub.execute_input": "2022-05-10T21:40:25.821731Z",
     "iopub.status.busy": "2022-05-10T21:40:25.820842Z",
     "iopub.status.idle": "2022-05-10T21:40:25.868580Z",
     "shell.execute_reply": "2022-05-10T21:40:25.867752Z",
     "shell.execute_reply.started": "2022-05-10T21:29:33.590388Z"
    },
    "papermill": {
     "duration": 0.083554,
     "end_time": "2022-05-10T21:40:25.868806",
     "exception": false,
     "start_time": "2022-05-10T21:40:25.785252",
     "status": "completed"
    },
    "tags": []
   },
   "outputs": [
    {
     "name": "stdout",
     "output_type": "stream",
     "text": [
      "<class 'pandas.core.frame.DataFrame'>\n",
      "RangeIndex: 99999 entries, 0 to 99998\n",
      "Data columns (total 6 columns):\n",
      " #   Column      Non-Null Count  Dtype \n",
      "---  ------      --------------  ----- \n",
      " 0   Unnamed: 0  99999 non-null  int64 \n",
      " 1   Vmag        99999 non-null  object\n",
      " 2   Plx         99999 non-null  object\n",
      " 3   e_Plx       99999 non-null  object\n",
      " 4   B-V         99999 non-null  object\n",
      " 5   SpType      97377 non-null  object\n",
      "dtypes: int64(1), object(5)\n",
      "memory usage: 4.6+ MB\n"
     ]
    }
   ],
   "source": [
    "dataRaw.info()  # review types variable"
   ]
  },
  {
   "cell_type": "markdown",
   "id": "e0b2c1a9",
   "metadata": {
    "papermill": {
     "duration": 0.032012,
     "end_time": "2022-05-10T21:40:25.934753",
     "exception": false,
     "start_time": "2022-05-10T21:40:25.902741",
     "status": "completed"
    },
    "tags": []
   },
   "source": [
    "Overall data and convert object to numeric.\n"
   ]
  },
  {
   "cell_type": "code",
   "execution_count": 4,
   "id": "efeb6f20",
   "metadata": {
    "_kg_hide-input": true,
    "execution": {
     "iopub.execute_input": "2022-05-10T21:40:26.003435Z",
     "iopub.status.busy": "2022-05-10T21:40:26.002876Z",
     "iopub.status.idle": "2022-05-10T21:40:26.163032Z",
     "shell.execute_reply": "2022-05-10T21:40:26.162502Z",
     "shell.execute_reply.started": "2022-05-10T21:29:33.665237Z"
    },
    "papermill": {
     "duration": 0.195448,
     "end_time": "2022-05-10T21:40:26.163165",
     "exception": false,
     "start_time": "2022-05-10T21:40:25.967717",
     "status": "completed"
    },
    "tags": []
   },
   "outputs": [
    {
     "data": {
      "text/html": [
       "<div>\n",
       "<style scoped>\n",
       "    .dataframe tbody tr th:only-of-type {\n",
       "        vertical-align: middle;\n",
       "    }\n",
       "\n",
       "    .dataframe tbody tr th {\n",
       "        vertical-align: top;\n",
       "    }\n",
       "\n",
       "    .dataframe thead th {\n",
       "        text-align: right;\n",
       "    }\n",
       "</style>\n",
       "<table border=\"1\" class=\"dataframe\">\n",
       "  <thead>\n",
       "    <tr style=\"text-align: right;\">\n",
       "      <th></th>\n",
       "      <th>count</th>\n",
       "      <th>mean</th>\n",
       "      <th>std</th>\n",
       "      <th>min</th>\n",
       "      <th>25%</th>\n",
       "      <th>50%</th>\n",
       "      <th>75%</th>\n",
       "      <th>max</th>\n",
       "    </tr>\n",
       "  </thead>\n",
       "  <tbody>\n",
       "    <tr>\n",
       "      <th>Unnamed: 0</th>\n",
       "      <td>99999.0</td>\n",
       "      <td>49999.000000</td>\n",
       "      <td>28867.369122</td>\n",
       "      <td>0.000000</td>\n",
       "      <td>24999.500</td>\n",
       "      <td>49999.000</td>\n",
       "      <td>74998.500</td>\n",
       "      <td>99998.000000</td>\n",
       "    </tr>\n",
       "    <tr>\n",
       "      <th>Vmag</th>\n",
       "      <td>99998.0</td>\n",
       "      <td>8.369750</td>\n",
       "      <td>1.313896</td>\n",
       "      <td>-1.440000</td>\n",
       "      <td>7.640</td>\n",
       "      <td>8.440</td>\n",
       "      <td>9.140</td>\n",
       "      <td>14.080000</td>\n",
       "    </tr>\n",
       "    <tr>\n",
       "      <th>Plx</th>\n",
       "      <td>99768.0</td>\n",
       "      <td>7.212467</td>\n",
       "      <td>11.348988</td>\n",
       "      <td>-54.950001</td>\n",
       "      <td>2.510</td>\n",
       "      <td>4.630</td>\n",
       "      <td>8.410</td>\n",
       "      <td>772.330017</td>\n",
       "    </tr>\n",
       "    <tr>\n",
       "      <th>e_Plx</th>\n",
       "      <td>99768.0</td>\n",
       "      <td>1.365385</td>\n",
       "      <td>1.816838</td>\n",
       "      <td>0.380000</td>\n",
       "      <td>0.880</td>\n",
       "      <td>1.100</td>\n",
       "      <td>1.390</td>\n",
       "      <td>114.459999</td>\n",
       "    </tr>\n",
       "    <tr>\n",
       "      <th>B-V</th>\n",
       "      <td>98871.0</td>\n",
       "      <td>0.704726</td>\n",
       "      <td>0.489679</td>\n",
       "      <td>-0.400000</td>\n",
       "      <td>0.348</td>\n",
       "      <td>0.612</td>\n",
       "      <td>1.075</td>\n",
       "      <td>5.460000</td>\n",
       "    </tr>\n",
       "  </tbody>\n",
       "</table>\n",
       "</div>"
      ],
      "text/plain": [
       "              count          mean           std        min        25%  \\\n",
       "Unnamed: 0  99999.0  49999.000000  28867.369122   0.000000  24999.500   \n",
       "Vmag        99998.0      8.369750      1.313896  -1.440000      7.640   \n",
       "Plx         99768.0      7.212467     11.348988 -54.950001      2.510   \n",
       "e_Plx       99768.0      1.365385      1.816838   0.380000      0.880   \n",
       "B-V         98871.0      0.704726      0.489679  -0.400000      0.348   \n",
       "\n",
       "                  50%        75%           max  \n",
       "Unnamed: 0  49999.000  74998.500  99998.000000  \n",
       "Vmag            8.440      9.140     14.080000  \n",
       "Plx             4.630      8.410    772.330017  \n",
       "e_Plx           1.100      1.390    114.459999  \n",
       "B-V             0.612      1.075      5.460000  "
      ]
     },
     "execution_count": 4,
     "metadata": {},
     "output_type": "execute_result"
    }
   ],
   "source": [
    "dataRaw['Vmag'] = pd.to_numeric(dataRaw['Vmag'] , downcast='float' , errors='coerce')\n",
    "dataRaw['Plx'] = pd.to_numeric(dataRaw['Plx'] , downcast='float' , errors='coerce')\n",
    "dataRaw['e_Plx'] = pd.to_numeric(dataRaw['e_Plx'] , downcast='float' , errors='coerce')\n",
    "dataRaw['B-V'] = pd.to_numeric(dataRaw['B-V'] , downcast='float' , errors='coerce')\n",
    "dataRaw.describe().T"
   ]
  },
  {
   "cell_type": "markdown",
   "id": "62532957",
   "metadata": {
    "papermill": {
     "duration": 0.03249,
     "end_time": "2022-05-10T21:40:26.228757",
     "exception": false,
     "start_time": "2022-05-10T21:40:26.196267",
     "status": "completed"
    },
    "tags": []
   },
   "source": [
    "### Missing Values ###"
   ]
  },
  {
   "cell_type": "markdown",
   "id": "333b5dbc",
   "metadata": {
    "papermill": {
     "duration": 0.032427,
     "end_time": "2022-05-10T21:40:26.294095",
     "exception": false,
     "start_time": "2022-05-10T21:40:26.261668",
     "status": "completed"
    },
    "tags": []
   },
   "source": [
    "Numbers the missing Values and its percent missing. "
   ]
  },
  {
   "cell_type": "code",
   "execution_count": 5,
   "id": "b69fb4f4",
   "metadata": {
    "execution": {
     "iopub.execute_input": "2022-05-10T21:40:26.366291Z",
     "iopub.status.busy": "2022-05-10T21:40:26.365723Z",
     "iopub.status.idle": "2022-05-10T21:40:26.398835Z",
     "shell.execute_reply": "2022-05-10T21:40:26.399555Z",
     "shell.execute_reply.started": "2022-05-10T21:29:33.939561Z"
    },
    "papermill": {
     "duration": 0.072552,
     "end_time": "2022-05-10T21:40:26.399831",
     "exception": false,
     "start_time": "2022-05-10T21:40:26.327279",
     "status": "completed"
    },
    "tags": []
   },
   "outputs": [
    {
     "name": "stdout",
     "output_type": "stream",
     "text": [
      "Num_null:  4213\n",
      "Percentage Missing:  0.702%\n"
     ]
    }
   ],
   "source": [
    "missingValueCount = dataRaw.isnull().sum()\n",
    "print('Num_null: ' , missingValueCount.sum() )\n",
    "\n",
    "\n",
    "\n",
    "\n",
    "totalData = np.product(dataRaw.shape)\n",
    "percentMissing=missingValueCount.sum()/totalData\n",
    "\n",
    "print('Percentage Missing:', '{: .3%}'.format(percentMissing))\n",
    "dataRaw.dropna(inplace=True)\n",
    "dataRaw.fillna(0)\n",
    "dataRaw = dataRaw.drop(['Unnamed: 0'], axis=1)\n"
   ]
  },
  {
   "cell_type": "markdown",
   "id": "b4017646",
   "metadata": {
    "papermill": {
     "duration": 0.038053,
     "end_time": "2022-05-10T21:40:26.482404",
     "exception": false,
     "start_time": "2022-05-10T21:40:26.444351",
     "status": "completed"
    },
    "tags": []
   },
   "source": [
    "## Pre-Processing ##\n",
    "\n",
    "### New Variables\n",
    "\n",
    "#### Generate four new variables.\n",
    "\n",
    "- **Amag**    Absolute Magnitude of the Star.\n",
    "- **e_Amag**  Progation error.\n",
    "- **eA/A**    Percent error Amag.\n",
    "- **eP/P**    Percent error.\n",
    "\n",
    "\n",
    "\n"
   ]
  },
  {
   "cell_type": "code",
   "execution_count": 6,
   "id": "6bc89a29",
   "metadata": {
    "execution": {
     "iopub.execute_input": "2022-05-10T21:40:26.560003Z",
     "iopub.status.busy": "2022-05-10T21:40:26.559039Z",
     "iopub.status.idle": "2022-05-10T21:40:26.571826Z",
     "shell.execute_reply": "2022-05-10T21:40:26.572304Z",
     "shell.execute_reply.started": "2022-05-10T21:29:34.001631Z"
    },
    "papermill": {
     "duration": 0.051762,
     "end_time": "2022-05-10T21:40:26.572458",
     "exception": false,
     "start_time": "2022-05-10T21:40:26.520696",
     "status": "completed"
    },
    "tags": []
   },
   "outputs": [],
   "source": [
    "# New variables\n",
    "\n",
    "data = dataRaw.copy()\n",
    "data = data[data.Plx != 0]\n",
    "data = data.reset_index(drop=True)\n",
    "\n",
    "data['Amag']   = data['Vmag'] + 5*( np.log10( np.abs( data['Plx'] ) )+ 1 )  # log is ln\n",
    "data['e_Amag'] = 5*data['e_Plx']/(data['Plx']*np.log(10) )   # propagacion de error\n",
    "\n",
    "data['eA/A']   = data['e_Amag']/data['Amag']\n",
    "data['eP/P']   = data['e_Plx']/data['Plx']\n",
    "\n"
   ]
  },
  {
   "cell_type": "markdown",
   "id": "377f6603",
   "metadata": {
    "papermill": {
     "duration": 0.032993,
     "end_time": "2022-05-10T21:40:26.638847",
     "exception": false,
     "start_time": "2022-05-10T21:40:26.605854",
     "status": "completed"
    },
    "tags": []
   },
   "source": [
    "###  Target \n",
    "\n",
    "The Target `TargetClass ` is give by Classification MK. "
   ]
  },
  {
   "cell_type": "code",
   "execution_count": 7,
   "id": "35949459",
   "metadata": {
    "execution": {
     "iopub.execute_input": "2022-05-10T21:40:26.708326Z",
     "iopub.status.busy": "2022-05-10T21:40:26.707780Z",
     "iopub.status.idle": "2022-05-10T21:40:26.723125Z",
     "shell.execute_reply": "2022-05-10T21:40:26.723646Z",
     "shell.execute_reply.started": "2022-05-10T21:29:34.025764Z"
    },
    "papermill": {
     "duration": 0.051813,
     "end_time": "2022-05-10T21:40:26.723805",
     "exception": false,
     "start_time": "2022-05-10T21:40:26.671992",
     "status": "completed"
    },
    "tags": []
   },
   "outputs": [],
   "source": [
    "data['TargetClass'] = data['SpType']\n",
    "\n",
    "data = data.reset_index(drop=True) # reindexar debido al drop\n"
   ]
  },
  {
   "cell_type": "markdown",
   "id": "633402de",
   "metadata": {
    "papermill": {
     "duration": 0.033211,
     "end_time": "2022-05-10T21:40:26.790506",
     "exception": false,
     "start_time": "2022-05-10T21:40:26.757295",
     "status": "completed"
    },
    "tags": []
   },
   "source": [
    "## Target Class: Giants or Dwarfs ##\n",
    "\n",
    "**TargetClass** - Whether the Star is Dwarf (0) or Giant (1)"
   ]
  },
  {
   "cell_type": "code",
   "execution_count": 8,
   "id": "bfef5e8b",
   "metadata": {
    "execution": {
     "iopub.execute_input": "2022-05-10T21:40:26.859638Z",
     "iopub.status.busy": "2022-05-10T21:40:26.859087Z",
     "iopub.status.idle": "2022-05-10T21:42:12.989875Z",
     "shell.execute_reply": "2022-05-10T21:42:12.989289Z",
     "shell.execute_reply.started": "2022-05-10T21:29:34.039125Z"
    },
    "papermill": {
     "duration": 106.166452,
     "end_time": "2022-05-10T21:42:12.990022",
     "exception": false,
     "start_time": "2022-05-10T21:40:26.823570",
     "status": "completed"
    },
    "tags": []
   },
   "outputs": [],
   "source": [
    "# Procesamiento target, clasificar en Giants and dwarfs\n",
    "for i in range(len(data['TargetClass'])):\n",
    "    itarget= str( data.loc[i,'TargetClass'] )\n",
    "    if 'I' in list(itarget): \n",
    "        data.loc[i,'TargetClass'] = 1   # 1 giant       \n",
    "    elif (\"VII\" or \"VI\") in list( itarget): \n",
    "        data.loc[i,'TargetClass'] = 0 # VII is Dwarf (0)\n",
    "    elif \"V\" in list( itarget): \n",
    "        if ('G' or 'K' or 'M' or 'L' or 'T') in  list(itarget):\n",
    "            data.loc[i,'TargetClass'] = 0\n",
    "        else:\n",
    "            data.loc[i,'TargetClass'] = 9\n",
    "    else: \n",
    "        data.loc[i,'TargetClass'] = 9 # None\n",
    "        "
   ]
  },
  {
   "cell_type": "code",
   "execution_count": 9,
   "id": "f1b1fea6",
   "metadata": {
    "execution": {
     "iopub.execute_input": "2022-05-10T21:42:13.061430Z",
     "iopub.status.busy": "2022-05-10T21:42:13.060862Z",
     "iopub.status.idle": "2022-05-10T21:42:13.451778Z",
     "shell.execute_reply": "2022-05-10T21:42:13.450912Z",
     "shell.execute_reply.started": "2022-05-10T21:31:30.367046Z"
    },
    "papermill": {
     "duration": 0.427879,
     "end_time": "2022-05-10T21:42:13.451926",
     "exception": false,
     "start_time": "2022-05-10T21:42:13.024047",
     "status": "completed"
    },
    "tags": []
   },
   "outputs": [
    {
     "data": {
      "text/plain": [
       "<AxesSubplot:xlabel='TargetClass', ylabel='count'>"
      ]
     },
     "execution_count": 9,
     "metadata": {},
     "output_type": "execute_result"
    },
    {
     "data": {
      "image/png": "[encoded data removed]",
      "text/plain": [
       "<Figure size 432x288 with 1 Axes>"
      ]
     },
     "metadata": {
      "needs_background": "light"
     },
     "output_type": "display_data"
    }
   ],
   "source": [
    "sns.countplot(x=\"TargetClass\", data=data )"
   ]
  },
  {
   "cell_type": "code",
   "execution_count": 10,
   "id": "c67ece3c",
   "metadata": {
    "execution": {
     "iopub.execute_input": "2022-05-10T21:42:13.523785Z",
     "iopub.status.busy": "2022-05-10T21:42:13.523238Z",
     "iopub.status.idle": "2022-05-10T21:42:13.532999Z",
     "shell.execute_reply": "2022-05-10T21:42:13.533512Z",
     "shell.execute_reply.started": "2022-05-10T21:31:30.890480Z"
    },
    "papermill": {
     "duration": 0.046938,
     "end_time": "2022-05-10T21:42:13.533680",
     "exception": false,
     "start_time": "2022-05-10T21:42:13.486742",
     "status": "completed"
    },
    "tags": []
   },
   "outputs": [
    {
     "data": {
      "text/plain": [
       "9    65279\n",
       "1    26647\n",
       "0     4781\n",
       "Name: TargetClass, dtype: int64"
      ]
     },
     "execution_count": 10,
     "metadata": {},
     "output_type": "execute_result"
    }
   ],
   "source": [
    "data['TargetClass'].value_counts()"
   ]
  },
  {
   "cell_type": "markdown",
   "id": "ee5b03cf",
   "metadata": {
    "papermill": {
     "duration": 0.035449,
     "end_time": "2022-05-10T21:42:13.604569",
     "exception": false,
     "start_time": "2022-05-10T21:42:13.569120",
     "status": "completed"
    },
    "tags": []
   },
   "source": [
    "### Selection only Giants or Dwarfs ###\n",
    "\n",
    "Copy and drop number 9.\n"
   ]
  },
  {
   "cell_type": "code",
   "execution_count": 11,
   "id": "364a0fa9",
   "metadata": {
    "execution": {
     "iopub.execute_input": "2022-05-10T21:42:13.676861Z",
     "iopub.status.busy": "2022-05-10T21:42:13.676260Z",
     "iopub.status.idle": "2022-05-10T21:42:13.689319Z",
     "shell.execute_reply": "2022-05-10T21:42:13.688638Z",
     "shell.execute_reply.started": "2022-05-10T21:31:30.912160Z"
    },
    "papermill": {
     "duration": 0.050066,
     "end_time": "2022-05-10T21:42:13.689455",
     "exception": false,
     "start_time": "2022-05-10T21:42:13.639389",
     "status": "completed"
    },
    "tags": []
   },
   "outputs": [],
   "source": [
    "df = data[data.TargetClass != 9 ] # != return  boolean"
   ]
  },
  {
   "cell_type": "markdown",
   "id": "7162e78c",
   "metadata": {
    "papermill": {
     "duration": 0.034595,
     "end_time": "2022-05-10T21:42:13.758795",
     "exception": false,
     "start_time": "2022-05-10T21:42:13.724200",
     "status": "completed"
    },
    "tags": []
   },
   "source": [
    "## Balance\n",
    "\n",
    "In this section, we make balance the `dataRAw` based in [Imbalanced Classes](https://elitedatascience.com/imbalanced-classes). The above have goal of equilibrium  target in order  to avoid bias."
   ]
  },
  {
   "cell_type": "code",
   "execution_count": 12,
   "id": "a6432f54",
   "metadata": {
    "execution": {
     "iopub.execute_input": "2022-05-10T21:42:13.831447Z",
     "iopub.status.busy": "2022-05-10T21:42:13.830885Z",
     "iopub.status.idle": "2022-05-10T21:42:13.955226Z",
     "shell.execute_reply": "2022-05-10T21:42:13.955724Z",
     "shell.execute_reply.started": "2022-05-10T21:31:30.946297Z"
    },
    "papermill": {
     "duration": 0.16224,
     "end_time": "2022-05-10T21:42:13.955896",
     "exception": false,
     "start_time": "2022-05-10T21:42:13.793656",
     "status": "completed"
    },
    "tags": []
   },
   "outputs": [
    {
     "name": "stdout",
     "output_type": "stream",
     "text": [
      "<class 'pandas.core.frame.DataFrame'>\n",
      "Int64Index: 9562 entries, 27343 to 96675\n",
      "Data columns (total 10 columns):\n",
      " #   Column       Non-Null Count  Dtype  \n",
      "---  ------       --------------  -----  \n",
      " 0   Vmag         9562 non-null   float32\n",
      " 1   Plx          9562 non-null   float32\n",
      " 2   e_Plx        9562 non-null   float32\n",
      " 3   B-V          9562 non-null   float32\n",
      " 4   SpType       9562 non-null   object \n",
      " 5   Amag         9562 non-null   float32\n",
      " 6   e_Amag       9562 non-null   float32\n",
      " 7   eA/A         9562 non-null   float32\n",
      " 8   eP/P         9562 non-null   float32\n",
      " 9   TargetClass  9562 non-null   object \n",
      "dtypes: float32(8), object(2)\n",
      "memory usage: 522.9+ KB\n"
     ]
    }
   ],
   "source": [
    "# dividir set \n",
    "\n",
    "dfGiants = df[df.TargetClass == 1]\n",
    "dfDwarfs = df[df.TargetClass == 0]\n",
    "num_of_giant = dfGiants.shape[0]\n",
    "num_of_dwarf = dfDwarfs.shape[0]\n",
    "\n",
    "from sklearn.utils import resample\n",
    "dfGiantsDownSample = resample(dfGiants, \n",
    "                             replace = False, # sample without replacement\n",
    "                             n_samples = num_of_dwarf,\n",
    "                             random_state =1 \n",
    "                             )\n",
    "dfDownSampled = pd.concat([dfGiantsDownSample , dfDwarfs] )\n",
    "dfDownSampled.info()"
   ]
  },
  {
   "cell_type": "code",
   "execution_count": 13,
   "id": "5ad2ef2e",
   "metadata": {
    "execution": {
     "iopub.execute_input": "2022-05-10T21:42:14.029805Z",
     "iopub.status.busy": "2022-05-10T21:42:14.029217Z",
     "iopub.status.idle": "2022-05-10T21:42:14.196608Z",
     "shell.execute_reply": "2022-05-10T21:42:14.197059Z",
     "shell.execute_reply.started": "2022-05-10T21:31:30.989527Z"
    },
    "papermill": {
     "duration": 0.205481,
     "end_time": "2022-05-10T21:42:14.197222",
     "exception": false,
     "start_time": "2022-05-10T21:42:13.991741",
     "status": "completed"
    },
    "tags": []
   },
   "outputs": [
    {
     "name": "stdout",
     "output_type": "stream",
     "text": [
      "1    4781\n",
      "0    4781\n",
      "Name: TargetClass, dtype: int64\n"
     ]
    },
    {
     "data": {
      "image/png": "[encoded data removed]",
      "text/plain": [
       "<Figure size 432x288 with 1 Axes>"
      ]
     },
     "metadata": {
      "needs_background": "light"
     },
     "output_type": "display_data"
    }
   ],
   "source": [
    "sns.countplot(x='TargetClass', data=dfDownSampled)\n",
    "print( dfDownSampled['TargetClass'].value_counts())"
   ]
  },
  {
   "cell_type": "code",
   "execution_count": 14,
   "id": "b4c2f67a",
   "metadata": {
    "execution": {
     "iopub.execute_input": "2022-05-10T21:42:14.274439Z",
     "iopub.status.busy": "2022-05-10T21:42:14.273810Z",
     "iopub.status.idle": "2022-05-10T21:42:14.286832Z",
     "shell.execute_reply": "2022-05-10T21:42:14.286216Z",
     "shell.execute_reply.started": "2022-05-10T21:31:31.205606Z"
    },
    "papermill": {
     "duration": 0.054078,
     "end_time": "2022-05-10T21:42:14.286972",
     "exception": false,
     "start_time": "2022-05-10T21:42:14.232894",
     "status": "completed"
    },
    "tags": []
   },
   "outputs": [
    {
     "name": "stdout",
     "output_type": "stream",
     "text": [
      "<class 'pandas.core.frame.DataFrame'>\n",
      "RangeIndex: 9562 entries, 0 to 9561\n",
      "Data columns (total 10 columns):\n",
      " #   Column       Non-Null Count  Dtype  \n",
      "---  ------       --------------  -----  \n",
      " 0   Vmag         9562 non-null   float32\n",
      " 1   Plx          9562 non-null   float32\n",
      " 2   e_Plx        9562 non-null   float32\n",
      " 3   B-V          9562 non-null   float32\n",
      " 4   SpType       9562 non-null   object \n",
      " 5   Amag         9562 non-null   float32\n",
      " 6   e_Amag       9562 non-null   float32\n",
      " 7   eA/A         9562 non-null   float32\n",
      " 8   eP/P         9562 non-null   float32\n",
      " 9   TargetClass  9562 non-null   object \n",
      "dtypes: float32(8), object(2)\n",
      "memory usage: 448.3+ KB\n"
     ]
    }
   ],
   "source": [
    "dfBalanced= dfDownSampled.reset_index(drop=True)\n",
    "\n",
    "dataStar = dfBalanced.sample(frac=1).reset_index(drop=True) # shuffle\n",
    "\n",
    "dataStar.info()"
   ]
  },
  {
   "cell_type": "markdown",
   "id": "52d16e55",
   "metadata": {
    "papermill": {
     "duration": 0.038133,
     "end_time": "2022-05-10T21:42:14.361934",
     "exception": false,
     "start_time": "2022-05-10T21:42:14.323801",
     "status": "completed"
    },
    "tags": []
   },
   "source": [
    "# **Visualization** ##"
   ]
  },
  {
   "cell_type": "markdown",
   "id": "059ceb56",
   "metadata": {
    "papermill": {
     "duration": 0.036608,
     "end_time": "2022-05-10T21:42:14.438372",
     "exception": false,
     "start_time": "2022-05-10T21:42:14.401764",
     "status": "completed"
    },
    "tags": []
   },
   "source": [
    "### Histogram Graph\n",
    "\n",
    "Here, we have one Histogram per each variable (columns), in this way,  we see the distribution of these variable."
   ]
  },
  {
   "cell_type": "code",
   "execution_count": 15,
   "id": "9a6fba14",
   "metadata": {
    "execution": {
     "iopub.execute_input": "2022-05-10T21:42:14.513615Z",
     "iopub.status.busy": "2022-05-10T21:42:14.513038Z",
     "iopub.status.idle": "2022-05-10T21:42:16.693449Z",
     "shell.execute_reply": "2022-05-10T21:42:16.692972Z",
     "shell.execute_reply.started": "2022-05-10T21:31:31.224992Z"
    },
    "papermill": {
     "duration": 2.219283,
     "end_time": "2022-05-10T21:42:16.693579",
     "exception": false,
     "start_time": "2022-05-10T21:42:14.474296",
     "status": "completed"
    },
    "tags": []
   },
   "outputs": [
    {
     "data": {
      "text/plain": [
       "array([[<AxesSubplot:title={'center':'Vmag'}>,\n",
       "        <AxesSubplot:title={'center':'Plx'}>,\n",
       "        <AxesSubplot:title={'center':'e_Plx'}>],\n",
       "       [<AxesSubplot:title={'center':'B-V'}>,\n",
       "        <AxesSubplot:title={'center':'Amag'}>,\n",
       "        <AxesSubplot:title={'center':'e_Amag'}>],\n",
       "       [<AxesSubplot:title={'center':'eA/A'}>,\n",
       "        <AxesSubplot:title={'center':'eP/P'}>,\n",
       "        <AxesSubplot:title={'center':'TargetClass'}>]], dtype=object)"
      ]
     },
     "execution_count": 15,
     "metadata": {},
     "output_type": "execute_result"
    },
    {
     "data": {
      "image/png": "[encoded data removed]",
      "text/plain": [
       "<Figure size 1440x1080 with 9 Axes>"
      ]
     },
     "metadata": {
      "needs_background": "light"
     },
     "output_type": "display_data"
    }
   ],
   "source": [
    "%matplotlib inline\n",
    "\n",
    "dataStar['TargetClass'] = pd.to_numeric(dataStar['TargetClass'] , downcast='float' , errors='coerce')\n",
    "dataStar.dropna(inplace=True)\n",
    "\n",
    "\n",
    "dataStar.hist(bins=50 , figsize=(20,15) ) # histogram"
   ]
  },
  {
   "cell_type": "markdown",
   "id": "b00e9d90",
   "metadata": {
    "papermill": {
     "duration": 0.037384,
     "end_time": "2022-05-10T21:42:16.769102",
     "exception": false,
     "start_time": "2022-05-10T21:42:16.731718",
     "status": "completed"
    },
    "tags": []
   },
   "source": [
    "### Scatter Graph\n",
    "\n",
    "The next  two graphs show relationship among quantities most relevant for determinar Categorization Star."
   ]
  },
  {
   "cell_type": "code",
   "execution_count": 16,
   "id": "021ad951",
   "metadata": {
    "execution": {
     "iopub.execute_input": "2022-05-10T21:42:16.848172Z",
     "iopub.status.busy": "2022-05-10T21:42:16.847625Z",
     "iopub.status.idle": "2022-05-10T21:42:17.305211Z",
     "shell.execute_reply": "2022-05-10T21:42:17.304680Z",
     "shell.execute_reply.started": "2022-05-10T21:31:34.600154Z"
    },
    "papermill": {
     "duration": 0.498316,
     "end_time": "2022-05-10T21:42:17.305344",
     "exception": false,
     "start_time": "2022-05-10T21:42:16.807028",
     "status": "completed"
    },
    "tags": []
   },
   "outputs": [
    {
     "data": {
      "image/png": "[encoded data removed]",
      "text/plain": [
       "<Figure size 432x288 with 1 Axes>"
      ]
     },
     "metadata": {
      "needs_background": "light"
     },
     "output_type": "display_data"
    }
   ],
   "source": [
    "#sns.set()\n",
    "colors = {1:'red', 0:'yellow'}\n",
    "dataStar.plot.scatter( x=\"Plx\" ,y=\"Amag\" ,  c=dataStar['TargetClass'].map(colors) ,s=5); # problem with TargetClass\n",
    "#plt.xlabel(\"Plx\")\n",
    "#plt.figure()\n",
    "#plt.show()"
   ]
  },
  {
   "cell_type": "code",
   "execution_count": 17,
   "id": "ae650bcc",
   "metadata": {
    "execution": {
     "iopub.execute_input": "2022-05-10T21:42:17.391054Z",
     "iopub.status.busy": "2022-05-10T21:42:17.390333Z",
     "iopub.status.idle": "2022-05-10T21:42:17.773819Z",
     "shell.execute_reply": "2022-05-10T21:42:17.773258Z",
     "shell.execute_reply.started": "2022-05-10T21:31:35.158718Z"
    },
    "papermill": {
     "duration": 0.429775,
     "end_time": "2022-05-10T21:42:17.773959",
     "exception": false,
     "start_time": "2022-05-10T21:42:17.344184",
     "status": "completed"
    },
    "tags": []
   },
   "outputs": [
    {
     "data": {
      "image/png": "[encoded data removed]",
      "text/plain": [
       "<Figure size 432x288 with 1 Axes>"
      ]
     },
     "metadata": {},
     "output_type": "display_data"
    },
    {
     "data": {
      "text/plain": [
       "<Figure size 432x288 with 0 Axes>"
      ]
     },
     "metadata": {},
     "output_type": "display_data"
    }
   ],
   "source": [
    "%matplotlib inline\n",
    "sns.set()\n",
    "dataStar.plot.scatter( x=\"B-V\" ,y=\"Amag\",cmap='viridis' ,  c=dataStar['TargetClass'].map(colors) ,s=5); # problem with TargetClass\n",
    "plt.xlabel(\"B-V\")\n",
    "plt.figure()\n",
    "plt.show()\n",
    "\n"
   ]
  },
  {
   "cell_type": "markdown",
   "id": "605f6ece",
   "metadata": {
    "execution": {
     "iopub.execute_input": "2022-05-07T16:30:41.154276Z",
     "iopub.status.busy": "2022-05-07T16:30:41.154066Z",
     "iopub.status.idle": "2022-05-07T16:30:44.14958Z",
     "shell.execute_reply": "2022-05-07T16:30:44.148602Z",
     "shell.execute_reply.started": "2022-05-07T16:30:41.154249Z"
    },
    "papermill": {
     "duration": 0.041394,
     "end_time": "2022-05-10T21:42:17.856539",
     "exception": false,
     "start_time": "2022-05-10T21:42:17.815145",
     "status": "completed"
    },
    "tags": []
   },
   "source": [
    "### Scatter Attributes\n",
    "\n",
    "In this vizualization we see the dispersion for each variable and target with respect a other variable."
   ]
  },
  {
   "cell_type": "code",
   "execution_count": 18,
   "id": "afea244c",
   "metadata": {
    "execution": {
     "iopub.execute_input": "2022-05-10T21:42:17.948055Z",
     "iopub.status.busy": "2022-05-10T21:42:17.945162Z",
     "iopub.status.idle": "2022-05-10T21:42:20.929728Z",
     "shell.execute_reply": "2022-05-10T21:42:20.930174Z",
     "shell.execute_reply.started": "2022-05-10T21:31:35.580596Z"
    },
    "papermill": {
     "duration": 3.032642,
     "end_time": "2022-05-10T21:42:20.930336",
     "exception": false,
     "start_time": "2022-05-10T21:42:17.897694",
     "status": "completed"
    },
    "tags": []
   },
   "outputs": [
    {
     "data": {
      "text/plain": [
       "array([[<AxesSubplot:xlabel='TargetClass', ylabel='TargetClass'>,\n",
       "        <AxesSubplot:xlabel='Amag', ylabel='TargetClass'>,\n",
       "        <AxesSubplot:xlabel='Vmag', ylabel='TargetClass'>,\n",
       "        <AxesSubplot:xlabel='Plx', ylabel='TargetClass'>,\n",
       "        <AxesSubplot:xlabel='B-V', ylabel='TargetClass'>],\n",
       "       [<AxesSubplot:xlabel='TargetClass', ylabel='Amag'>,\n",
       "        <AxesSubplot:xlabel='Amag', ylabel='Amag'>,\n",
       "        <AxesSubplot:xlabel='Vmag', ylabel='Amag'>,\n",
       "        <AxesSubplot:xlabel='Plx', ylabel='Amag'>,\n",
       "        <AxesSubplot:xlabel='B-V', ylabel='Amag'>],\n",
       "       [<AxesSubplot:xlabel='TargetClass', ylabel='Vmag'>,\n",
       "        <AxesSubplot:xlabel='Amag', ylabel='Vmag'>,\n",
       "        <AxesSubplot:xlabel='Vmag', ylabel='Vmag'>,\n",
       "        <AxesSubplot:xlabel='Plx', ylabel='Vmag'>,\n",
       "        <AxesSubplot:xlabel='B-V', ylabel='Vmag'>],\n",
       "       [<AxesSubplot:xlabel='TargetClass', ylabel='Plx'>,\n",
       "        <AxesSubplot:xlabel='Amag', ylabel='Plx'>,\n",
       "        <AxesSubplot:xlabel='Vmag', ylabel='Plx'>,\n",
       "        <AxesSubplot:xlabel='Plx', ylabel='Plx'>,\n",
       "        <AxesSubplot:xlabel='B-V', ylabel='Plx'>],\n",
       "       [<AxesSubplot:xlabel='TargetClass', ylabel='B-V'>,\n",
       "        <AxesSubplot:xlabel='Amag', ylabel='B-V'>,\n",
       "        <AxesSubplot:xlabel='Vmag', ylabel='B-V'>,\n",
       "        <AxesSubplot:xlabel='Plx', ylabel='B-V'>,\n",
       "        <AxesSubplot:xlabel='B-V', ylabel='B-V'>]], dtype=object)"
      ]
     },
     "execution_count": 18,
     "metadata": {},
     "output_type": "execute_result"
    },
    {
     "data": {
      "image/png": "[encoded data removed]",
      "text/plain": [
       "<Figure size 864x576 with 25 Axes>"
      ]
     },
     "metadata": {},
     "output_type": "display_data"
    }
   ],
   "source": [
    "from pandas.plotting import scatter_matrix\n",
    "\n",
    "attributes = ['TargetClass','Amag' , 'Vmag' , 'Plx' , 'B-V']\n",
    "\n",
    "# convert a numerical Targetclass \n",
    "dataStar['TargetClass'] = pd.to_numeric(dataStar['TargetClass'] , downcast='float' , errors='coerce')\n",
    "\n",
    "scatter_matrix(dataStar[attributes] , figsize=(12, 8))\n"
   ]
  },
  {
   "cell_type": "markdown",
   "id": "3933e7e6",
   "metadata": {
    "papermill": {
     "duration": 0.044583,
     "end_time": "2022-05-10T21:42:21.018948",
     "exception": false,
     "start_time": "2022-05-10T21:42:20.974365",
     "status": "completed"
    },
    "tags": []
   },
   "source": [
    "## Correlation Linear ##\n",
    "\n",
    "In this part, we show the correlation the `TargetClass` with each other variables."
   ]
  },
  {
   "cell_type": "code",
   "execution_count": 19,
   "id": "de65f0d4",
   "metadata": {
    "execution": {
     "iopub.execute_input": "2022-05-10T21:42:21.112261Z",
     "iopub.status.busy": "2022-05-10T21:42:21.111657Z",
     "iopub.status.idle": "2022-05-10T21:42:21.119941Z",
     "shell.execute_reply": "2022-05-10T21:42:21.120324Z",
     "shell.execute_reply.started": "2022-05-10T21:31:39.021465Z"
    },
    "papermill": {
     "duration": 0.057423,
     "end_time": "2022-05-10T21:42:21.120486",
     "exception": false,
     "start_time": "2022-05-10T21:42:21.063063",
     "status": "completed"
    },
    "tags": []
   },
   "outputs": [
    {
     "data": {
      "text/plain": [
       "TargetClass    1.000000\n",
       "B-V            0.302299\n",
       "eP/P           0.036399\n",
       "e_Amag         0.036399\n",
       "eA/A           0.023408\n",
       "e_Plx         -0.242699\n",
       "Plx           -0.365910\n",
       "Vmag          -0.381619\n",
       "Amag          -0.735124\n",
       "Name: TargetClass, dtype: float64"
      ]
     },
     "execution_count": 19,
     "metadata": {},
     "output_type": "execute_result"
    }
   ],
   "source": [
    "corr_matrix = dataStar.corr()\n",
    "corr_matrix[\"TargetClass\"].sort_values(ascending=False)"
   ]
  },
  {
   "cell_type": "markdown",
   "id": "766bd78a",
   "metadata": {
    "papermill": {
     "duration": 0.043809,
     "end_time": "2022-05-10T21:42:21.208511",
     "exception": false,
     "start_time": "2022-05-10T21:42:21.164702",
     "status": "completed"
    },
    "tags": []
   },
   "source": [
    "## Data Cleaning ##"
   ]
  },
  {
   "cell_type": "code",
   "execution_count": 20,
   "id": "2316c928",
   "metadata": {
    "execution": {
     "iopub.execute_input": "2022-05-10T21:42:21.302349Z",
     "iopub.status.busy": "2022-05-10T21:42:21.301766Z",
     "iopub.status.idle": "2022-05-10T21:42:21.303278Z",
     "shell.execute_reply": "2022-05-10T21:42:21.303705Z",
     "shell.execute_reply.started": "2022-05-10T21:31:39.034798Z"
    },
    "papermill": {
     "duration": 0.051202,
     "end_time": "2022-05-10T21:42:21.303863",
     "exception": false,
     "start_time": "2022-05-10T21:42:21.252661",
     "status": "completed"
    },
    "tags": []
   },
   "outputs": [],
   "source": [
    "#dataStar = dataStar.drop(['Unnamed: 0'], axis =1)\n",
    "dataStar = dataStar.drop(['SpType'], axis =1)\n",
    "\n"
   ]
  },
  {
   "cell_type": "markdown",
   "id": "20344ecc",
   "metadata": {
    "papermill": {
     "duration": 0.044435,
     "end_time": "2022-05-10T21:42:21.393111",
     "exception": false,
     "start_time": "2022-05-10T21:42:21.348676",
     "status": "completed"
    },
    "tags": []
   },
   "source": [
    "# **Data Processing** #"
   ]
  },
  {
   "cell_type": "code",
   "execution_count": 21,
   "id": "d3da661e",
   "metadata": {
    "execution": {
     "iopub.execute_input": "2022-05-10T21:42:21.484825Z",
     "iopub.status.busy": "2022-05-10T21:42:21.484253Z",
     "iopub.status.idle": "2022-05-10T21:42:21.495510Z",
     "shell.execute_reply": "2022-05-10T21:42:21.495084Z",
     "shell.execute_reply.started": "2022-05-10T21:31:39.043097Z"
    },
    "papermill": {
     "duration": 0.058214,
     "end_time": "2022-05-10T21:42:21.495677",
     "exception": false,
     "start_time": "2022-05-10T21:42:21.437463",
     "status": "completed"
    },
    "tags": []
   },
   "outputs": [
    {
     "name": "stdout",
     "output_type": "stream",
     "text": [
      "<class 'pandas.core.frame.DataFrame'>\n",
      "Int64Index: 9562 entries, 0 to 9561\n",
      "Data columns (total 9 columns):\n",
      " #   Column       Non-Null Count  Dtype  \n",
      "---  ------       --------------  -----  \n",
      " 0   Vmag         9562 non-null   float32\n",
      " 1   Plx          9562 non-null   float32\n",
      " 2   e_Plx        9562 non-null   float32\n",
      " 3   B-V          9562 non-null   float32\n",
      " 4   Amag         9562 non-null   float32\n",
      " 5   e_Amag       9562 non-null   float32\n",
      " 6   eA/A         9562 non-null   float32\n",
      " 7   eP/P         9562 non-null   float32\n",
      " 8   TargetClass  9562 non-null   float32\n",
      "dtypes: float32(9)\n",
      "memory usage: 410.9 KB\n"
     ]
    }
   ],
   "source": [
    "dataStar.info()"
   ]
  },
  {
   "cell_type": "markdown",
   "id": "0b9a2fa6",
   "metadata": {
    "papermill": {
     "duration": 0.044618,
     "end_time": "2022-05-10T21:42:21.584764",
     "exception": false,
     "start_time": "2022-05-10T21:42:21.540146",
     "status": "completed"
    },
    "tags": []
   },
   "source": [
    "### Train and test Set ###\n",
    "\n",
    "The data is split two set, Train and test, in one  proportional of 80% and 20%, respectively."
   ]
  },
  {
   "cell_type": "code",
   "execution_count": 22,
   "id": "54e950e3",
   "metadata": {
    "execution": {
     "iopub.execute_input": "2022-05-10T21:42:21.676215Z",
     "iopub.status.busy": "2022-05-10T21:42:21.675675Z",
     "iopub.status.idle": "2022-05-10T21:42:21.744819Z",
     "shell.execute_reply": "2022-05-10T21:42:21.745282Z",
     "shell.execute_reply.started": "2022-05-10T21:31:39.064363Z"
    },
    "papermill": {
     "duration": 0.116601,
     "end_time": "2022-05-10T21:42:21.745441",
     "exception": false,
     "start_time": "2022-05-10T21:42:21.628840",
     "status": "completed"
    },
    "tags": []
   },
   "outputs": [],
   "source": [
    "from sklearn.model_selection import train_test_split\n",
    "\n",
    "\n",
    "train , test = train_test_split(dataStar , test_size = 0.2, random_state = 42 )\n",
    "train = train.reset_index(drop=True)\n",
    "test = test.reset_index(drop=True)"
   ]
  },
  {
   "cell_type": "code",
   "execution_count": 23,
   "id": "22b8c247",
   "metadata": {
    "execution": {
     "iopub.execute_input": "2022-05-10T21:42:21.839113Z",
     "iopub.status.busy": "2022-05-10T21:42:21.838524Z",
     "iopub.status.idle": "2022-05-10T21:42:21.841310Z",
     "shell.execute_reply": "2022-05-10T21:42:21.840886Z",
     "shell.execute_reply.started": "2022-05-10T21:31:39.074821Z"
    },
    "papermill": {
     "duration": 0.051399,
     "end_time": "2022-05-10T21:42:21.841437",
     "exception": false,
     "start_time": "2022-05-10T21:42:21.790038",
     "status": "completed"
    },
    "tags": []
   },
   "outputs": [],
   "source": [
    "## Stratified ##\n",
    "#from sklearn.model_selection import StratifiedShuffleSplit\n",
    "#split = StratifiedShuffleSplit(n_splits=1, test_size=0.2, random_state=42)\n",
    "#for train_index, test_index in split.split(data, data[\"variableStratificada\"]):\n",
    "#strat_train_set = housing.loc[train_index]\n",
    "#strat_test_set = housing.loc[test_index]\n",
    "\n",
    "#from  sklearn.impute import SimpleImputer\n",
    "#imputer = SimpleImputer(strategy='median')\n",
    "\n",
    "#from  sklearn.preprocessing import OneHotEncoder\n",
    "#catEncoder = OneHotEncoder()\n",
    "\n",
    "## numerical ##\n",
    "#from  sklearn.pipeline import Pipeline\n",
    "#from  sklearn.preprocessing import StandardScaler\n",
    "#numerical_pipeline = Pipeline([('imputer', SimpleImputer(strategy=\"median\")),('attribs_adder', CombinedAttributesAdder()),])\n",
    "# new_variable_transformed_numerical = num_pipeline.fit_transform(varible_numerica)\n",
    "\n",
    "## numerical and categorial ##\n",
    "#from sklearn import ColumnTransformer\n",
    "#numerical_attribs = list(numerical_columns)\n",
    "#categorical_attribs = list(categorial_columns)\n",
    "#full_pipeline = ColumnTransformer([(\"num\", numerical_pipeline, numerical_attribs),(\"cat\", OneHotEncoder(), categorical_attribs),])\n",
    "#dataTotal_prepared = full_pipeline.fit_transform(dataTotal) "
   ]
  },
  {
   "cell_type": "markdown",
   "id": "7e625ac9",
   "metadata": {
    "papermill": {
     "duration": 0.043967,
     "end_time": "2022-05-10T21:42:21.929697",
     "exception": false,
     "start_time": "2022-05-10T21:42:21.885730",
     "status": "completed"
    },
    "tags": []
   },
   "source": [
    "## Target ## \n",
    "\n",
    "The Target corresponds to type the Star, be it Giant(1) or Dwarf(0)."
   ]
  },
  {
   "cell_type": "code",
   "execution_count": 24,
   "id": "1d2589fd",
   "metadata": {
    "execution": {
     "iopub.execute_input": "2022-05-10T21:42:22.034410Z",
     "iopub.status.busy": "2022-05-10T21:42:22.027611Z",
     "iopub.status.idle": "2022-05-10T21:42:22.037248Z",
     "shell.execute_reply": "2022-05-10T21:42:22.037686Z",
     "shell.execute_reply.started": "2022-05-10T21:31:39.095547Z"
    },
    "papermill": {
     "duration": 0.063016,
     "end_time": "2022-05-10T21:42:22.037841",
     "exception": false,
     "start_time": "2022-05-10T21:42:21.974825",
     "status": "completed"
    },
    "tags": []
   },
   "outputs": [
    {
     "name": "stdout",
     "output_type": "stream",
     "text": [
      "<class 'pandas.core.frame.DataFrame'>\n",
      "RangeIndex: 7649 entries, 0 to 7648\n",
      "Data columns (total 8 columns):\n",
      " #   Column  Non-Null Count  Dtype  \n",
      "---  ------  --------------  -----  \n",
      " 0   Vmag    7649 non-null   float32\n",
      " 1   Plx     7649 non-null   float32\n",
      " 2   e_Plx   7649 non-null   float32\n",
      " 3   B-V     7649 non-null   float32\n",
      " 4   Amag    7649 non-null   float32\n",
      " 5   e_Amag  7649 non-null   float32\n",
      " 6   eA/A    7649 non-null   float32\n",
      " 7   eP/P    7649 non-null   float32\n",
      "dtypes: float32(8)\n",
      "memory usage: 239.2 KB\n"
     ]
    }
   ],
   "source": [
    "trainX = train.drop('TargetClass', axis=1)\n",
    "trainY = train['TargetClass'].copy()\n",
    "\n",
    "testX = test.drop('TargetClass', axis=1)\n",
    "testY = test['TargetClass'].copy()\n",
    "trainX.info()"
   ]
  },
  {
   "cell_type": "markdown",
   "id": "d697d0d5",
   "metadata": {
    "papermill": {
     "duration": 0.044379,
     "end_time": "2022-05-10T21:42:22.126753",
     "exception": false,
     "start_time": "2022-05-10T21:42:22.082374",
     "status": "completed"
    },
    "tags": []
   },
   "source": [
    "# Featuring Engineering "
   ]
  },
  {
   "cell_type": "markdown",
   "id": "d0321609",
   "metadata": {
    "papermill": {
     "duration": 0.044298,
     "end_time": "2022-05-10T21:42:22.215649",
     "exception": false,
     "start_time": "2022-05-10T21:42:22.171351",
     "status": "completed"
    },
    "tags": []
   },
   "source": [
    "##  Pipeline and Featuring Scaling ##\n",
    "\n",
    "For the  Featuring Scaling, we was used `StandardScaler`that find to get a unit variance on each  the data distribution."
   ]
  },
  {
   "cell_type": "code",
   "execution_count": 25,
   "id": "bbfecc7f",
   "metadata": {
    "execution": {
     "iopub.execute_input": "2022-05-10T21:42:22.311197Z",
     "iopub.status.busy": "2022-05-10T21:42:22.310546Z",
     "iopub.status.idle": "2022-05-10T21:42:22.458320Z",
     "shell.execute_reply": "2022-05-10T21:42:22.457615Z",
     "shell.execute_reply.started": "2022-05-10T21:31:39.118466Z"
    },
    "papermill": {
     "duration": 0.1981,
     "end_time": "2022-05-10T21:42:22.458460",
     "exception": false,
     "start_time": "2022-05-10T21:42:22.260360",
     "status": "completed"
    },
    "tags": []
   },
   "outputs": [
    {
     "name": "stdout",
     "output_type": "stream",
     "text": [
      "Done\n"
     ]
    }
   ],
   "source": [
    "from  sklearn.impute import SimpleImputer\n",
    "from  sklearn.preprocessing import OneHotEncoder\n",
    "\n",
    "from  sklearn.pipeline import Pipeline\n",
    "from  sklearn.preprocessing import StandardScaler\n",
    "\n",
    "numerical_pipeline = Pipeline([('imputer', SimpleImputer(strategy=\"median\")),\n",
    "                              ('std_scaler', StandardScaler())] )\n",
    "\n",
    "from sklearn.compose import ColumnTransformer\n",
    "\n",
    "num_attribs = list(trainX)\n",
    "#cat_attribs = [\"ocean_proximity\"] ---generar lista de attribus catecorial---\n",
    "full_pipeline = ColumnTransformer([(\"num\", numerical_pipeline, num_attribs),\n",
    "#                                   (\"cat\", OneHotEncoder(), cat_attribs),\n",
    "                                  ])\n",
    "\n",
    "Xtrain = full_pipeline.fit_transform(trainX)  # array\n",
    "\n",
    "print('Done')"
   ]
  },
  {
   "cell_type": "markdown",
   "id": "862ad6eb",
   "metadata": {
    "papermill": {
     "duration": 0.045917,
     "end_time": "2022-05-10T21:42:22.551639",
     "exception": false,
     "start_time": "2022-05-10T21:42:22.505722",
     "status": "completed"
    },
    "tags": []
   },
   "source": [
    " # **MODEL** # \n",
    "\n",
    "The applied classification models are:\n",
    "\n",
    "- Logistic Regression \n",
    "- Random Forest Classifier\n",
    "- Stochastic Gradient Descent"
   ]
  },
  {
   "cell_type": "code",
   "execution_count": 26,
   "id": "72497b36",
   "metadata": {
    "execution": {
     "iopub.execute_input": "2022-05-10T21:42:22.647889Z",
     "iopub.status.busy": "2022-05-10T21:42:22.647303Z",
     "iopub.status.idle": "2022-05-10T21:42:22.694613Z",
     "shell.execute_reply": "2022-05-10T21:42:22.693982Z",
     "shell.execute_reply.started": "2022-05-10T21:31:39.145196Z"
    },
    "papermill": {
     "duration": 0.096861,
     "end_time": "2022-05-10T21:42:22.694774",
     "exception": false,
     "start_time": "2022-05-10T21:42:22.597913",
     "status": "completed"
    },
    "tags": []
   },
   "outputs": [],
   "source": [
    "# Models ==> ['logisRegre' , 'SVM'   , 'SGDClf' ,  'randomForestClassifier' , 'navieBayes']\n",
    "\n",
    "# Classifier\n",
    "from sklearn.linear_model import SGDClassifier\n",
    "from sklearn.linear_model import LogisticRegression\n",
    "from sklearn.ensemble import RandomForestClassifier\n",
    "from sklearn.svm import LinearSVC\n"
   ]
  },
  {
   "cell_type": "code",
   "execution_count": 27,
   "id": "f293e2a3",
   "metadata": {
    "execution": {
     "iopub.execute_input": "2022-05-10T21:42:22.791325Z",
     "iopub.status.busy": "2022-05-10T21:42:22.788797Z",
     "iopub.status.idle": "2022-05-10T21:42:22.806888Z",
     "shell.execute_reply": "2022-05-10T21:42:22.807330Z",
     "shell.execute_reply.started": "2022-05-10T21:31:39.153132Z"
    },
    "papermill": {
     "duration": 0.067191,
     "end_time": "2022-05-10T21:42:22.807518",
     "exception": false,
     "start_time": "2022-05-10T21:42:22.740327",
     "status": "completed"
    },
    "tags": []
   },
   "outputs": [],
   "source": [
    "\n",
    "SGDClf = SGDClassifier(random_state=42)\n",
    "SGDClf.fit(Xtrain, trainY) # fit equal training\n",
    "\n",
    "LRClf = LogisticRegression(random_state=0)\n",
    "RFClf = RandomForestClassifier(random_state=0)\n",
    "SVClf = LinearSVC(random_state=0)\n",
    "\n",
    "\n",
    "#SGDClf.fit(Xtrain, trainY)"
   ]
  },
  {
   "cell_type": "markdown",
   "id": "89eef3bf",
   "metadata": {
    "papermill": {
     "duration": 0.044671,
     "end_time": "2022-05-10T21:42:22.898718",
     "exception": false,
     "start_time": "2022-05-10T21:42:22.854047",
     "status": "completed"
    },
    "tags": []
   },
   "source": [
    "## Cross-Validation ##\n",
    "\n",
    "In the order to optimize,  we created a function `compareModels` that compare the different models apply cross-validation. The scoring choose is negative mean squared error. "
   ]
  },
  {
   "cell_type": "code",
   "execution_count": 28,
   "id": "96eb60fa",
   "metadata": {
    "execution": {
     "iopub.execute_input": "2022-05-10T21:42:22.992410Z",
     "iopub.status.busy": "2022-05-10T21:42:22.991474Z",
     "iopub.status.idle": "2022-05-10T21:42:30.234311Z",
     "shell.execute_reply": "2022-05-10T21:42:30.234797Z",
     "shell.execute_reply.started": "2022-05-10T21:31:39.188282Z"
    },
    "papermill": {
     "duration": 7.29166,
     "end_time": "2022-05-10T21:42:30.234965",
     "exception": false,
     "start_time": "2022-05-10T21:42:22.943305",
     "status": "completed"
    },
    "tags": []
   },
   "outputs": [
    {
     "name": "stdout",
     "output_type": "stream",
     "text": [
      "{0.2974702747298394: SGDClassifier(random_state=42), 0.2968084709940931: LogisticRegression(random_state=0), 0.2466807211682537: RandomForestClassifier(random_state=0)}\n",
      "\n",
      "\n",
      "Best model: RandomForestClassifier(random_state=0)\n"
     ]
    }
   ],
   "source": [
    "from sklearn.model_selection import cross_val_score\n",
    "\n",
    "# automatizar entre diversos modelos de la misma categoria\n",
    "def compareModels(models, x, y, numCV, scoringT=\"neg_mean_squared_error\"):\n",
    "    modelsCV = dict()\n",
    "    for mod in models:\n",
    "        scores = cross_val_score(mod, x, y, scoring = scoringT, cv=numCV)\n",
    "        meanScore = np.sqrt(-scores).mean()\n",
    "        modelsCV[meanScore] = mod\n",
    "    \n",
    "    val=min(modelsCV)\n",
    "    bestModel = modelsCV[val]\n",
    "    return modelsCV,bestModel\n",
    "    \n",
    "result, model =compareModels([SGDClf , LRClf, RFClf] , Xtrain , trainY , 6)\n",
    "print(result); print('\\n'); print('Best model:', model); "
   ]
  },
  {
   "cell_type": "code",
   "execution_count": 29,
   "id": "4243ab23",
   "metadata": {
    "execution": {
     "iopub.execute_input": "2022-05-10T21:42:30.331315Z",
     "iopub.status.busy": "2022-05-10T21:42:30.330667Z",
     "iopub.status.idle": "2022-05-10T21:42:31.722767Z",
     "shell.execute_reply": "2022-05-10T21:42:31.722258Z",
     "shell.execute_reply.started": "2022-05-10T21:31:47.081817Z"
    },
    "papermill": {
     "duration": 1.442291,
     "end_time": "2022-05-10T21:42:31.722909",
     "exception": false,
     "start_time": "2022-05-10T21:42:30.280618",
     "status": "completed"
    },
    "tags": []
   },
   "outputs": [],
   "source": [
    "model.fit(Xtrain, trainY)\n",
    "\n",
    "Xtest = full_pipeline.fit_transform(testX)\n",
    "Ypredicts = model.predict(Xtest)\n"
   ]
  },
  {
   "cell_type": "markdown",
   "id": "75d4d532",
   "metadata": {
    "execution": {
     "iopub.execute_input": "2022-05-09T15:18:28.461064Z",
     "iopub.status.busy": "2022-05-09T15:18:28.4606Z",
     "iopub.status.idle": "2022-05-09T15:18:28.46877Z",
     "shell.execute_reply": "2022-05-09T15:18:28.467906Z",
     "shell.execute_reply.started": "2022-05-09T15:18:28.461015Z"
    },
    "papermill": {
     "duration": 0.045325,
     "end_time": "2022-05-10T21:42:31.813579",
     "exception": false,
     "start_time": "2022-05-10T21:42:31.768254",
     "status": "completed"
    },
    "tags": []
   },
   "source": [
    "# Metrics\n",
    "\n",
    "The Metrics is Root Mean Squared Error that  allows us to measure the error  between value the test set and value predict."
   ]
  },
  {
   "cell_type": "code",
   "execution_count": 30,
   "id": "7e5b7af0",
   "metadata": {
    "execution": {
     "iopub.execute_input": "2022-05-10T21:42:31.909639Z",
     "iopub.status.busy": "2022-05-10T21:42:31.909035Z",
     "iopub.status.idle": "2022-05-10T21:42:31.913301Z",
     "shell.execute_reply": "2022-05-10T21:42:31.913859Z",
     "shell.execute_reply.started": "2022-05-10T21:31:48.569601Z"
    },
    "papermill": {
     "duration": 0.05426,
     "end_time": "2022-05-10T21:42:31.914012",
     "exception": false,
     "start_time": "2022-05-10T21:42:31.859752",
     "status": "completed"
    },
    "tags": []
   },
   "outputs": [
    {
     "name": "stdout",
     "output_type": "stream",
     "text": [
      "Root Mean Squared Error: 0.2451836\n"
     ]
    }
   ],
   "source": [
    "from sklearn.metrics import mean_squared_error\n",
    "\n",
    "mse = mean_squared_error(testY , Ypredicts) \n",
    "rmse = np.sqrt(mse)\n",
    "print('Root Mean Squared Error:', rmse)"
   ]
  },
  {
   "cell_type": "markdown",
   "id": "3009351e",
   "metadata": {
    "papermill": {
     "duration": 0.045331,
     "end_time": "2022-05-10T21:42:32.005439",
     "exception": false,
     "start_time": "2022-05-10T21:42:31.960108",
     "status": "completed"
    },
    "tags": []
   },
   "source": [
    "While the precision is:"
   ]
  },
  {
   "cell_type": "code",
   "execution_count": 31,
   "id": "e6454c17",
   "metadata": {
    "execution": {
     "iopub.execute_input": "2022-05-10T21:42:32.100225Z",
     "iopub.status.busy": "2022-05-10T21:42:32.099360Z",
     "iopub.status.idle": "2022-05-10T21:42:32.112354Z",
     "shell.execute_reply": "2022-05-10T21:42:32.112894Z",
     "shell.execute_reply.started": "2022-05-10T21:31:48.577721Z"
    },
    "papermill": {
     "duration": 0.062304,
     "end_time": "2022-05-10T21:42:32.113049",
     "exception": false,
     "start_time": "2022-05-10T21:42:32.050745",
     "status": "completed"
    },
    "tags": []
   },
   "outputs": [
    {
     "name": "stdout",
     "output_type": "stream",
     "text": [
      "Precision: 93.988500%\n"
     ]
    }
   ],
   "source": [
    "output = pd.DataFrame({'Star': testY, 'StarPred': Ypredicts})\n",
    "\n",
    "def precision(a, b):\n",
    "    cont = 0\n",
    "    for i in np.arange(len(a)):\n",
    "        if (a[i]==b[i]):\n",
    "            cont = cont +1\n",
    "             \n",
    "            \n",
    "    return  format( cont/len(a) , '2%') \n",
    "\n",
    "print('Precision:',  precision(testY , Ypredicts))"
   ]
  },
  {
   "cell_type": "code",
   "execution_count": 32,
   "id": "0629d5e6",
   "metadata": {
    "execution": {
     "iopub.execute_input": "2022-05-10T21:42:32.208295Z",
     "iopub.status.busy": "2022-05-10T21:42:32.207477Z",
     "iopub.status.idle": "2022-05-10T21:42:32.210182Z",
     "shell.execute_reply": "2022-05-10T21:42:32.210727Z",
     "shell.execute_reply.started": "2022-05-10T21:31:48.611237Z"
    },
    "papermill": {
     "duration": 0.052389,
     "end_time": "2022-05-10T21:42:32.210904",
     "exception": false,
     "start_time": "2022-05-10T21:42:32.158515",
     "status": "completed"
    },
    "tags": []
   },
   "outputs": [],
   "source": [
    "### stratified CV ### see pag 136  Geron's book\n",
    "#from sklearn.model_selection import StratifiedKFold\n",
    "#from sklearn.base import clone\n",
    "#skfolds = StratifiedKFold(n_splits=3, random_state=42)"
   ]
  },
  {
   "cell_type": "markdown",
   "id": "a2627f97",
   "metadata": {
    "papermill": {
     "duration": 0.04577,
     "end_time": "2022-05-10T21:42:32.302284",
     "exception": false,
     "start_time": "2022-05-10T21:42:32.256514",
     "status": "completed"
    },
    "tags": []
   },
   "source": [
    "# **Refinament** #"
   ]
  },
  {
   "cell_type": "markdown",
   "id": "82664da8",
   "metadata": {
    "papermill": {
     "duration": 0.045595,
     "end_time": "2022-05-10T21:42:32.394055",
     "exception": false,
     "start_time": "2022-05-10T21:42:32.348460",
     "status": "completed"
    },
    "tags": []
   },
   "source": [
    "### Hyper-parameters ###"
   ]
  },
  {
   "cell_type": "markdown",
   "id": "a2de88bc",
   "metadata": {
    "papermill": {
     "duration": 0.047011,
     "end_time": "2022-05-10T21:42:32.486775",
     "exception": false,
     "start_time": "2022-05-10T21:42:32.439764",
     "status": "completed"
    },
    "tags": []
   },
   "source": [
    "We proceeded to search for the hyperparameters, using `GridSearchCV` a list of hyperparameters to experiment with."
   ]
  },
  {
   "cell_type": "code",
   "execution_count": 33,
   "id": "b50d285a",
   "metadata": {
    "execution": {
     "iopub.execute_input": "2022-05-10T21:42:32.581399Z",
     "iopub.status.busy": "2022-05-10T21:42:32.580475Z",
     "iopub.status.idle": "2022-05-10T21:46:50.681680Z",
     "shell.execute_reply": "2022-05-10T21:46:50.682155Z",
     "shell.execute_reply.started": "2022-05-10T21:31:48.616653Z"
    },
    "papermill": {
     "duration": 258.149955,
     "end_time": "2022-05-10T21:46:50.682329",
     "exception": false,
     "start_time": "2022-05-10T21:42:32.532374",
     "status": "completed"
    },
    "tags": []
   },
   "outputs": [
    {
     "data": {
      "text/plain": [
       "{'max_features': 4, 'n_estimators': 14}"
      ]
     },
     "execution_count": 33,
     "metadata": {},
     "output_type": "execute_result"
    }
   ],
   "source": [
    "from sklearn.model_selection import GridSearchCV\n",
    "from sklearn.model_selection import RandomizedSearchCV\n",
    "from scipy.stats import uniform\n",
    "\n",
    "\n",
    "#distributions = dict(C=uniform(loc=0, scale=4), penalty=['l2','l1'])\n",
    "#clf=RandomizedSearchCV( RFClf , distributions , random_state=0) # arg (model , distri , ...)\n",
    "\n",
    "\n",
    "parameter_grid = [{'n_estimators':[3,5,10,12, 14,16], 'max_features':[2,4,6]} ,\n",
    "                  {'bootstrap':[False], 'n_estimators':[3,7,12,14, 16] , 'max_features':[1,2,3,4, 6]}]\n",
    "clf=GridSearchCV( model , parameter_grid,\n",
    "                cv=20 ,  scoring='neg_mean_squared_error' , return_train_score=True) # arg (model , distri , ...)\n",
    "\n",
    "\n",
    "clf.fit(Xtrain, trainY)\n",
    "\n",
    "clf.best_params_"
   ]
  },
  {
   "cell_type": "markdown",
   "id": "78942e8c",
   "metadata": {
    "papermill": {
     "duration": 0.046378,
     "end_time": "2022-05-10T21:46:50.775961",
     "exception": false,
     "start_time": "2022-05-10T21:46:50.729583",
     "status": "completed"
    },
    "tags": []
   },
   "source": [
    "###  Model-Hyperparameters ###"
   ]
  },
  {
   "cell_type": "code",
   "execution_count": 34,
   "id": "84343d94",
   "metadata": {
    "execution": {
     "iopub.execute_input": "2022-05-10T21:46:50.877281Z",
     "iopub.status.busy": "2022-05-10T21:46:50.876348Z",
     "iopub.status.idle": "2022-05-10T21:46:50.891722Z",
     "shell.execute_reply": "2022-05-10T21:46:50.892389Z",
     "shell.execute_reply.started": "2022-05-10T21:36:13.267380Z"
    },
    "papermill": {
     "duration": 0.070099,
     "end_time": "2022-05-10T21:46:50.892631",
     "exception": false,
     "start_time": "2022-05-10T21:46:50.822532",
     "status": "completed"
    },
    "tags": []
   },
   "outputs": [
    {
     "name": "stdout",
     "output_type": "stream",
     "text": [
      "Precision: 93.413487%\n"
     ]
    }
   ],
   "source": [
    "finalModel=clf.best_estimator_\n",
    "Ypredfinal=finalModel.predict(Xtest)\n",
    "\n",
    "print('Precision:', precision(testY , Ypredfinal) )# worse model"
   ]
  },
  {
   "cell_type": "markdown",
   "id": "7b392be2",
   "metadata": {
    "papermill": {
     "duration": 0.046859,
     "end_time": "2022-05-10T21:46:50.986800",
     "exception": false,
     "start_time": "2022-05-10T21:46:50.939941",
     "status": "completed"
    },
    "tags": []
   },
   "source": [
    "# Future improvements"
   ]
  },
  {
   "cell_type": "markdown",
   "id": "308a4623",
   "metadata": {
    "papermill": {
     "duration": 0.046376,
     "end_time": "2022-05-10T21:46:51.079640",
     "exception": false,
     "start_time": "2022-05-10T21:46:51.033264",
     "status": "completed"
    },
    "tags": []
   },
   "source": [
    "The model  can be improvement by implementation some  Clusters model and  applying a stratification to the data."
   ]
  },
  {
   "cell_type": "code",
   "execution_count": 35,
   "id": "6b14b227",
   "metadata": {
    "execution": {
     "iopub.execute_input": "2022-05-10T21:46:51.176892Z",
     "iopub.status.busy": "2022-05-10T21:46:51.176286Z",
     "iopub.status.idle": "2022-05-10T21:46:51.178881Z",
     "shell.execute_reply": "2022-05-10T21:46:51.179342Z",
     "shell.execute_reply.started": "2022-05-10T21:36:13.291888Z"
    },
    "papermill": {
     "duration": 0.052777,
     "end_time": "2022-05-10T21:46:51.179516",
     "exception": false,
     "start_time": "2022-05-10T21:46:51.126739",
     "status": "completed"
    },
    "tags": []
   },
   "outputs": [],
   "source": [
    "# **Deploy** #"
   ]
  }
 ],
 "metadata": {
  "kernelspec": {
   "display_name": "Python 3",
   "language": "python",
   "name": "python3"
  },
  "language_info": {
   "codemirror_mode": {
    "name": "ipython",
    "version": 3
   },
   "file_extension": ".py",
   "mimetype": "text/x-python",
   "name": "python",
   "nbconvert_exporter": "python",
   "pygments_lexer": "ipython3",
   "version": "3.7.12"
  },
  "papermill": {
   "default_parameters": {},
   "duration": 395.957261,
   "end_time": "2022-05-10T21:46:52.037507",
   "environment_variables": {},
   "exception": null,
   "input_path": "__notebook__.ipynb",
   "output_path": "__notebook__.ipynb",
   "parameters": {},
   "start_time": "2022-05-10T21:40:16.080246",
   "version": "2.3.3"
  }
 },
 "nbformat": 4,
 "nbformat_minor": 5
}
