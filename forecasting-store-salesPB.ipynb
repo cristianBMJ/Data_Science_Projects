{
 "cells": [
  {
   "cell_type": "markdown",
   "id": "ee544d3b",
   "metadata": {
    "papermill": {
     "duration": 0.066117,
     "end_time": "2023-05-29T19:24:47.236977",
     "exception": false,
     "start_time": "2023-05-29T19:24:47.170860",
     "status": "completed"
    },
    "tags": []
   },
   "source": [
    "# **Forecasting: Store-Sales**\n",
    "\n",
    "This project aims to forecast the sales of a company's stores in Ecuador. We work with Time Series to predictions the sales, used one tools of the **Pandas**.`LinearRegression`. \n",
    "\n"
   ]
  },
  {
   "cell_type": "markdown",
   "id": "bf7de582",
   "metadata": {
    "papermill": {
     "duration": 0.06655,
     "end_time": "2023-05-29T19:24:47.370524",
     "exception": false,
     "start_time": "2023-05-29T19:24:47.303974",
     "status": "completed"
    },
    "tags": []
   },
   "source": [
    "# **Setting** #\n",
    "\n",
    "Setup of the system  and necessary libraries."
   ]
  },
  {
   "cell_type": "code",
   "execution_count": 1,
   "id": "8a9aef1a",
   "metadata": {
    "_cell_guid": "b1076dfc-b9ad-4769-8c92-a6c4dae69d19",
    "_uuid": "8f2839f25d086af736a60e9eeb907d3b93b6e0e5",
    "execution": {
     "iopub.execute_input": "2023-05-29T19:24:47.517563Z",
     "iopub.status.busy": "2023-05-29T19:24:47.516450Z",
     "iopub.status.idle": "2023-05-29T19:24:50.323871Z",
     "shell.execute_reply": "2023-05-29T19:24:50.322873Z",
     "shell.execute_reply.started": "2023-05-29T18:05:41.775029Z"
    },
    "papermill": {
     "duration": 2.887333,
     "end_time": "2023-05-29T19:24:50.324052",
     "exception": false,
     "start_time": "2023-05-29T19:24:47.436719",
     "status": "completed"
    },
    "tags": []
   },
   "outputs": [
    {
     "data": {
      "text/html": [
       "<style type='text/css'>\n",
       ".datatable table.frame { margin-bottom: 0; }\n",
       ".datatable table.frame thead { border-bottom: none; }\n",
       ".datatable table.frame tr.coltypes td {  color: #FFFFFF;  line-height: 6px;  padding: 0 0.5em;}\n",
       ".datatable .bool    { background: #DDDD99; }\n",
       ".datatable .object  { background: #565656; }\n",
       ".datatable .int     { background: #5D9E5D; }\n",
       ".datatable .float   { background: #4040CC; }\n",
       ".datatable .str     { background: #CC4040; }\n",
       ".datatable .time    { background: #40CC40; }\n",
       ".datatable .row_index {  background: var(--jp-border-color3);  border-right: 1px solid var(--jp-border-color0);  color: var(--jp-ui-font-color3);  font-size: 9px;}\n",
       ".datatable .frame tbody td { text-align: left; }\n",
       ".datatable .frame tr.coltypes .row_index {  background: var(--jp-border-color0);}\n",
       ".datatable th:nth-child(2) { padding-left: 12px; }\n",
       ".datatable .hellipsis {  color: var(--jp-cell-editor-border-color);}\n",
       ".datatable .vellipsis {  background: var(--jp-layout-color0);  color: var(--jp-cell-editor-border-color);}\n",
       ".datatable .na {  color: var(--jp-cell-editor-border-color);  font-size: 80%;}\n",
       ".datatable .sp {  opacity: 0.25;}\n",
       ".datatable .footer { font-size: 9px; }\n",
       ".datatable .frame_dimensions {  background: var(--jp-border-color3);  border-top: 1px solid var(--jp-border-color0);  color: var(--jp-ui-font-color3);  display: inline-block;  opacity: 0.6;  padding: 1px 10px 1px 5px;}\n",
       "</style>\n"
      ],
      "text/plain": [
       "<IPython.core.display.HTML object>"
      ]
     },
     "metadata": {},
     "output_type": "display_data"
    },
    {
     "name": "stdout",
     "output_type": "stream",
     "text": [
      "/kaggle/input/store-sales-time-series-forecasting/oil.csv\n",
      "/kaggle/input/store-sales-time-series-forecasting/sample_submission.csv\n",
      "/kaggle/input/store-sales-time-series-forecasting/holidays_events.csv\n",
      "/kaggle/input/store-sales-time-series-forecasting/stores.csv\n",
      "/kaggle/input/store-sales-time-series-forecasting/train.csv\n",
      "/kaggle/input/store-sales-time-series-forecasting/test.csv\n",
      "/kaggle/input/store-sales-time-series-forecasting/transactions.csv\n"
     ]
    }
   ],
   "source": [
    "# This Python 3 environment comes with many helpful analytics libraries installed\n",
    "# It is defined by the kaggle/python Docker image: https://github.com/kaggle/docker-python\n",
    "# For example, here's several helpful packages to load\n",
    "\n",
    "%matplotlib inline\n",
    "\n",
    "# Setup feedback system\n",
    "from learntools.core import binder\n",
    "binder.bind(globals())\n",
    "from learntools.time_series.ex3 import *\n",
    "\n",
    " # Allows the use of display() for DataFrames\n",
    "# from IPython.core.interactiveshell import InteractiveShell\n",
    "\n",
    "# InteractiveShell.ast_node_interactivity = \"all\"\n",
    "\n",
    "\n",
    "# Setup notebook\n",
    "from pathlib import Path\n",
    "from IPython.display import display\n",
    "\n",
    "from learntools.time_series.style import *  # plot style settings\n",
    "from learntools.time_series.utils import plot_periodogram, seasonal_plot\n",
    "\n",
    "\n",
    "import numpy as np # linear algebra\n",
    "import pandas as pd # data processing, CSV file I/O (e.g. pd.read_csv)\n",
    "\n",
    "%matplotlib inline\n",
    "import matplotlib.pyplot as plt\n",
    "import seaborn as sns\n",
    "\n",
    "\n",
    "from scipy.signal import periodogram\n",
    "from sklearn.ensemble import RandomForestRegressor\n",
    "from statsmodels.tsa.deterministic import CalendarFourier, DeterministicProcess\n",
    "from statsmodels.graphics.tsaplots import plot_pacf\n",
    "from sklearn.preprocessing import OneHotEncoder\n",
    "\n",
    "\n",
    "from sklearn.linear_model import LinearRegression\n",
    "from lightgbm import LGBMRegressor # make by microsoft\n",
    "from statsmodels.tsa.seasonal import seasonal_decompose\n",
    "from statsmodels.graphics.tsaplots import plot_acf\n",
    "from scipy.stats import t\n",
    "from sklearn.model_selection import TimeSeriesSplit, train_test_split\n",
    "from sklearn.metrics import mean_absolute_error as mae \n",
    "from sklearn.metrics import  mean_squared_log_error as msle\n",
    "\n",
    "\n",
    "\n",
    "\n",
    "# Input data files are available in the read-only \"../input/\" directory\n",
    "# For example, running this (by clicking run or pressing Shift+Enter) will list all files under the input directory\n",
    "\n",
    "import os\n",
    "for dirname, _, filenames in os.walk('/kaggle/input'):\n",
    "    for filename in filenames:\n",
    "        print(os.path.join(dirname, filename))\n",
    "\n",
    "        \n",
    "        \n",
    "# You can write up to 20GB to the current directory (/kaggle/working/) that gets preserved as output when you create a version using \"Save & Run All\" \n",
    "# You can also write temporary files to /kaggle/temp/, but they won't be saved outside of the current session\n"
   ]
  },
  {
   "cell_type": "markdown",
   "id": "e20a22c5",
   "metadata": {
    "papermill": {
     "duration": 0.065053,
     "end_time": "2023-05-29T19:24:50.455194",
     "exception": false,
     "start_time": "2023-05-29T19:24:50.390141",
     "status": "completed"
    },
    "tags": []
   },
   "source": [
    "# **Get Data** #\n",
    "\n",
    "The data is in  [Kaggle Store sales](https://www.kaggle.com/c/store-sales-time-series-forecasting). \n"
   ]
  },
  {
   "cell_type": "code",
   "execution_count": 2,
   "id": "e05e0952",
   "metadata": {
    "execution": {
     "iopub.execute_input": "2023-05-29T19:24:50.734844Z",
     "iopub.status.busy": "2023-05-29T19:24:50.733977Z",
     "iopub.status.idle": "2023-05-29T19:24:56.541789Z",
     "shell.execute_reply": "2023-05-29T19:24:56.541002Z",
     "shell.execute_reply.started": "2023-05-29T18:05:45.432836Z"
    },
    "papermill": {
     "duration": 6.018919,
     "end_time": "2023-05-29T19:24:56.541949",
     "exception": false,
     "start_time": "2023-05-29T19:24:50.523030",
     "status": "completed"
    },
    "tags": []
   },
   "outputs": [],
   "source": [
    "# Paths\n",
    "comp_dir = Path('../input/store-sales-time-series-forecasting')\n",
    "\n",
    "# timeInitial\n",
    "timeInitial = '2013'\n",
    "\n",
    "# Get datas\n",
    "holidays_events = pd.read_csv(\n",
    "    comp_dir / \"holidays_events.csv\",\n",
    "    dtype={\n",
    "        'type': 'category',\n",
    "        'locale': 'category',\n",
    "        'locale_name': 'category',\n",
    "        'description': 'category',\n",
    "        'transferred': 'bool',\n",
    "    },\n",
    "    parse_dates=['date'],\n",
    "    infer_datetime_format=True,\n",
    "    index_col='date'\n",
    ")\n",
    "\n",
    "hol = holidays_events.to_period('D')\n",
    "hol = hol[hol.locale == 'National'] # I'm only taking National holiday so there's no false positive.\n",
    "hol = hol.groupby(hol.index).first() # Removing duplicated holiday at the same date \n",
    "\n",
    "store_sales = pd.read_csv(\n",
    "    comp_dir / 'train.csv',\n",
    "    usecols=['store_nbr', 'family','onpromotion', 'date', 'sales'],\n",
    "    dtype={\n",
    "        'store_nbr': 'category',\n",
    "        'family': 'category',\n",
    "        'sales': 'float32',\n",
    "        'onpromotion': 'uint32',\n",
    "    },\n",
    "    parse_dates=['date'],\n",
    "    infer_datetime_format=True,\n",
    ")\n",
    "\n",
    "oil = pd.read_csv(\n",
    "    comp_dir / 'oil.csv',\n",
    "    usecols = ['date', 'dcoilwtico'],\n",
    "    dtype={'dcoilwtico': 'float32'    },\n",
    "    parse_dates=['date'],\n",
    "    infer_datetime_format=True,\n",
    ")\n",
    "\n",
    " \n",
    "holidays = (\n",
    "    holidays_events\n",
    "    .query(\"locale in ['National', 'Regional']\")\n",
    "    .loc[timeInitial :'2017-08-15', ['description'] ]\n",
    "    .assign(description=lambda x: x.description.cat.remove_unused_categories()) # assign new columns\n",
    ")\n",
    "\n",
    "df_test = pd.read_csv(\n",
    "    comp_dir / 'test.csv',\n",
    "    dtype={\n",
    "        'store_nbr': 'category',\n",
    "        'family': 'category',\n",
    "        'onpromotion': 'uint32',\n",
    "    },\n",
    "    parse_dates=['date'],\n",
    "    infer_datetime_format=True,\n",
    ")\n",
    "# Rearray to period\n",
    "\n",
    "transactions =  pd.read_csv( comp_dir / 'transactions.csv',\n",
    "                            parse_dates = ['date'], \n",
    "                            infer_datetime_format = True, \n",
    "                            )\n",
    "\n",
    "oil['date'] = oil.date.dt.to_period('D')\n",
    "oil = oil.set_index(['date']).sort_index()\n",
    "oil=oil.squeeze()\n",
    "\n",
    "store_sales['date'] = store_sales.date.dt.to_period('D')\n",
    "store_sales = store_sales.set_index(['store_nbr', 'family', 'date']).sort_index()\n",
    "\n"
   ]
  },
  {
   "cell_type": "markdown",
   "id": "dc3fc365",
   "metadata": {
    "papermill": {
     "duration": 0.065771,
     "end_time": "2023-05-29T19:24:56.673351",
     "exception": false,
     "start_time": "2023-05-29T19:24:56.607580",
     "status": "completed"
    },
    "tags": []
   },
   "source": [
    "\n",
    "#  **Exploratory Data Analysis** #"
   ]
  },
  {
   "cell_type": "markdown",
   "id": "bf93ac16",
   "metadata": {
    "papermill": {
     "duration": 0.082352,
     "end_time": "2023-05-29T19:24:56.827237",
     "exception": false,
     "start_time": "2023-05-29T19:24:56.744885",
     "status": "completed"
    },
    "tags": []
   },
   "source": [
    "Information preliminar about  `store_sales`."
   ]
  },
  {
   "cell_type": "code",
   "execution_count": 3,
   "id": "b60af1c7",
   "metadata": {
    "execution": {
     "iopub.execute_input": "2023-05-29T19:24:56.967522Z",
     "iopub.status.busy": "2023-05-29T19:24:56.965729Z",
     "iopub.status.idle": "2023-05-29T19:24:57.075151Z",
     "shell.execute_reply": "2023-05-29T19:24:57.075761Z",
     "shell.execute_reply.started": "2023-05-29T18:05:51.689459Z"
    },
    "papermill": {
     "duration": 0.182643,
     "end_time": "2023-05-29T19:24:57.075962",
     "exception": false,
     "start_time": "2023-05-29T19:24:56.893319",
     "status": "completed"
    },
    "tags": []
   },
   "outputs": [
    {
     "name": "stdout",
     "output_type": "stream",
     "text": [
      "<class 'pandas.core.frame.DataFrame'>\n",
      "MultiIndex: 3000888 entries, ('1', 'AUTOMOTIVE', Period('2013-01-01', 'D')) to ('9', 'SEAFOOD', Period('2017-08-15', 'D'))\n",
      "Data columns (total 2 columns):\n",
      " #   Column       Dtype  \n",
      "---  ------       -----  \n",
      " 0   sales        float32\n",
      " 1   onpromotion  uint32 \n",
      "dtypes: float32(1), uint32(1)\n",
      "memory usage: 34.4 MB\n"
     ]
    },
    {
     "data": {
      "text/plain": [
       "None"
      ]
     },
     "metadata": {},
     "output_type": "display_data"
    }
   ],
   "source": [
    "display(store_sales.info())\n"
   ]
  },
  {
   "cell_type": "code",
   "execution_count": 4,
   "id": "fd148ed8",
   "metadata": {
    "execution": {
     "iopub.execute_input": "2023-05-29T19:24:57.229856Z",
     "iopub.status.busy": "2023-05-29T19:24:57.228812Z",
     "iopub.status.idle": "2023-05-29T19:24:57.398469Z",
     "shell.execute_reply": "2023-05-29T19:24:57.397626Z",
     "shell.execute_reply.started": "2023-05-29T18:05:51.813286Z"
    },
    "papermill": {
     "duration": 0.255177,
     "end_time": "2023-05-29T19:24:57.398642",
     "exception": false,
     "start_time": "2023-05-29T19:24:57.143465",
     "status": "completed"
    },
    "tags": []
   },
   "outputs": [
    {
     "data": {
      "text/html": [
       "<div>\n",
       "<style scoped>\n",
       "    .dataframe tbody tr th:only-of-type {\n",
       "        vertical-align: middle;\n",
       "    }\n",
       "\n",
       "    .dataframe tbody tr th {\n",
       "        vertical-align: top;\n",
       "    }\n",
       "\n",
       "    .dataframe thead th {\n",
       "        text-align: right;\n",
       "    }\n",
       "</style>\n",
       "<table border=\"1\" class=\"dataframe\">\n",
       "  <thead>\n",
       "    <tr style=\"text-align: right;\">\n",
       "      <th></th>\n",
       "      <th>count</th>\n",
       "      <th>mean</th>\n",
       "      <th>std</th>\n",
       "      <th>min</th>\n",
       "      <th>25%</th>\n",
       "      <th>50%</th>\n",
       "      <th>75%</th>\n",
       "      <th>max</th>\n",
       "    </tr>\n",
       "  </thead>\n",
       "  <tbody>\n",
       "    <tr>\n",
       "      <th>sales</th>\n",
       "      <td>3000888.0</td>\n",
       "      <td>356.758392</td>\n",
       "      <td>1093.275879</td>\n",
       "      <td>0.0</td>\n",
       "      <td>0.0</td>\n",
       "      <td>11.0</td>\n",
       "      <td>195.847252</td>\n",
       "      <td>124717.0</td>\n",
       "    </tr>\n",
       "    <tr>\n",
       "      <th>onpromotion</th>\n",
       "      <td>3000888.0</td>\n",
       "      <td>2.602770</td>\n",
       "      <td>12.218882</td>\n",
       "      <td>0.0</td>\n",
       "      <td>0.0</td>\n",
       "      <td>0.0</td>\n",
       "      <td>0.000000</td>\n",
       "      <td>741.0</td>\n",
       "    </tr>\n",
       "  </tbody>\n",
       "</table>\n",
       "</div>"
      ],
      "text/plain": [
       "                 count        mean          std  min  25%   50%         75%  \\\n",
       "sales        3000888.0  356.758392  1093.275879  0.0  0.0  11.0  195.847252   \n",
       "onpromotion  3000888.0    2.602770    12.218882  0.0  0.0   0.0    0.000000   \n",
       "\n",
       "                  max  \n",
       "sales        124717.0  \n",
       "onpromotion     741.0  "
      ]
     },
     "metadata": {},
     "output_type": "display_data"
    }
   ],
   "source": [
    "display( store_sales.describe().T)\n"
   ]
  },
  {
   "cell_type": "code",
   "execution_count": 5,
   "id": "4a88cf1c",
   "metadata": {
    "execution": {
     "iopub.execute_input": "2023-05-29T19:24:57.539039Z",
     "iopub.status.busy": "2023-05-29T19:24:57.538325Z",
     "iopub.status.idle": "2023-05-29T19:24:57.545587Z",
     "shell.execute_reply": "2023-05-29T19:24:57.544999Z",
     "shell.execute_reply.started": "2023-05-29T18:05:52.012378Z"
    },
    "papermill": {
     "duration": 0.078002,
     "end_time": "2023-05-29T19:24:57.545742",
     "exception": false,
     "start_time": "2023-05-29T19:24:57.467740",
     "status": "completed"
    },
    "tags": []
   },
   "outputs": [
    {
     "data": {
      "text/plain": [
       "('1', 'AUTOMOTIVE', Period('2013-01-01', 'D'))"
      ]
     },
     "execution_count": 5,
     "metadata": {},
     "output_type": "execute_result"
    }
   ],
   "source": [
    "store_sales.index[0]"
   ]
  },
  {
   "cell_type": "code",
   "execution_count": 6,
   "id": "14cc1fa4",
   "metadata": {
    "execution": {
     "iopub.execute_input": "2023-05-29T19:24:57.691686Z",
     "iopub.status.busy": "2023-05-29T19:24:57.690952Z",
     "iopub.status.idle": "2023-05-29T19:24:57.694932Z",
     "shell.execute_reply": "2023-05-29T19:24:57.694358Z",
     "shell.execute_reply.started": "2023-05-29T18:05:52.023748Z"
    },
    "papermill": {
     "duration": 0.080748,
     "end_time": "2023-05-29T19:24:57.695083",
     "exception": false,
     "start_time": "2023-05-29T19:24:57.614335",
     "status": "completed"
    },
    "tags": []
   },
   "outputs": [
    {
     "data": {
      "text/plain": [
       "Index(['sales', 'onpromotion'], dtype='object')"
      ]
     },
     "execution_count": 6,
     "metadata": {},
     "output_type": "execute_result"
    }
   ],
   "source": [
    "store_sales.columns"
   ]
  },
  {
   "cell_type": "code",
   "execution_count": 7,
   "id": "d70acef4",
   "metadata": {
    "execution": {
     "iopub.execute_input": "2023-05-29T19:24:57.853553Z",
     "iopub.status.busy": "2023-05-29T19:24:57.852741Z",
     "iopub.status.idle": "2023-05-29T19:24:57.918812Z",
     "shell.execute_reply": "2023-05-29T19:24:57.918069Z",
     "shell.execute_reply.started": "2023-05-29T18:05:52.040316Z"
    },
    "papermill": {
     "duration": 0.152955,
     "end_time": "2023-05-29T19:24:57.918969",
     "exception": false,
     "start_time": "2023-05-29T19:24:57.766014",
     "status": "completed"
    },
    "tags": []
   },
   "outputs": [
    {
     "data": {
      "text/html": [
       "<div>\n",
       "<style scoped>\n",
       "    .dataframe tbody tr th:only-of-type {\n",
       "        vertical-align: middle;\n",
       "    }\n",
       "\n",
       "    .dataframe tbody tr th {\n",
       "        vertical-align: top;\n",
       "    }\n",
       "\n",
       "    .dataframe thead th {\n",
       "        text-align: right;\n",
       "    }\n",
       "</style>\n",
       "<table border=\"1\" class=\"dataframe\">\n",
       "  <thead>\n",
       "    <tr style=\"text-align: right;\">\n",
       "      <th></th>\n",
       "      <th></th>\n",
       "      <th></th>\n",
       "      <th>sales</th>\n",
       "      <th>onpromotion</th>\n",
       "    </tr>\n",
       "    <tr>\n",
       "      <th>store_nbr</th>\n",
       "      <th>family</th>\n",
       "      <th>date</th>\n",
       "      <th></th>\n",
       "      <th></th>\n",
       "    </tr>\n",
       "  </thead>\n",
       "  <tbody>\n",
       "    <tr>\n",
       "      <th rowspan=\"9\" valign=\"top\">1</th>\n",
       "      <th rowspan=\"3\" valign=\"top\">AUTOMOTIVE</th>\n",
       "      <th>2013-01-01</th>\n",
       "      <td>0.0</td>\n",
       "      <td>0</td>\n",
       "    </tr>\n",
       "    <tr>\n",
       "      <th>2013-01-02</th>\n",
       "      <td>2.0</td>\n",
       "      <td>0</td>\n",
       "    </tr>\n",
       "    <tr>\n",
       "      <th>2013-01-03</th>\n",
       "      <td>3.0</td>\n",
       "      <td>0</td>\n",
       "    </tr>\n",
       "    <tr>\n",
       "      <th rowspan=\"3\" valign=\"top\">BABY CARE</th>\n",
       "      <th>2013-01-01</th>\n",
       "      <td>0.0</td>\n",
       "      <td>0</td>\n",
       "    </tr>\n",
       "    <tr>\n",
       "      <th>2013-01-02</th>\n",
       "      <td>0.0</td>\n",
       "      <td>0</td>\n",
       "    </tr>\n",
       "    <tr>\n",
       "      <th>2013-01-03</th>\n",
       "      <td>0.0</td>\n",
       "      <td>0</td>\n",
       "    </tr>\n",
       "    <tr>\n",
       "      <th rowspan=\"3\" valign=\"top\">BEAUTY</th>\n",
       "      <th>2013-01-01</th>\n",
       "      <td>0.0</td>\n",
       "      <td>0</td>\n",
       "    </tr>\n",
       "    <tr>\n",
       "      <th>2013-01-02</th>\n",
       "      <td>2.0</td>\n",
       "      <td>0</td>\n",
       "    </tr>\n",
       "    <tr>\n",
       "      <th>2013-01-03</th>\n",
       "      <td>0.0</td>\n",
       "      <td>0</td>\n",
       "    </tr>\n",
       "  </tbody>\n",
       "</table>\n",
       "</div>"
      ],
      "text/plain": [
       "                                 sales  onpromotion\n",
       "store_nbr family     date                          \n",
       "1         AUTOMOTIVE 2013-01-01    0.0            0\n",
       "                     2013-01-02    2.0            0\n",
       "                     2013-01-03    3.0            0\n",
       "          BABY CARE  2013-01-01    0.0            0\n",
       "                     2013-01-02    0.0            0\n",
       "                     2013-01-03    0.0            0\n",
       "          BEAUTY     2013-01-01    0.0            0\n",
       "                     2013-01-02    2.0            0\n",
       "                     2013-01-03    0.0            0"
      ]
     },
     "execution_count": 7,
     "metadata": {},
     "output_type": "execute_result"
    }
   ],
   "source": [
    "idx = pd.IndexSlice\n",
    "store_sales.loc[ idx[ :'1', : 'BEAUTY', :'2013-01-03'], idx['sales', 'onpromotion'] ]"
   ]
  },
  {
   "cell_type": "code",
   "execution_count": 8,
   "id": "d6b1475f",
   "metadata": {
    "execution": {
     "iopub.execute_input": "2023-05-29T19:24:58.069540Z",
     "iopub.status.busy": "2023-05-29T19:24:58.068758Z",
     "iopub.status.idle": "2023-05-29T19:24:58.076168Z",
     "shell.execute_reply": "2023-05-29T19:24:58.076823Z",
     "shell.execute_reply.started": "2023-05-29T18:05:52.139862Z"
    },
    "papermill": {
     "duration": 0.087478,
     "end_time": "2023-05-29T19:24:58.077011",
     "exception": false,
     "start_time": "2023-05-29T19:24:57.989533",
     "status": "completed"
    },
    "tags": []
   },
   "outputs": [],
   "source": [
    "\n",
    "def salesDecompose(df, share_type='sales', samples=250, period=30):\n",
    "    if samples == 'all':\n",
    "        #decomposing all time series timestamps\n",
    "        res = seasonal_decompose(df[share_type].values, period=period)\n",
    "    else:\n",
    "        #decomposing a sample of the time series\n",
    "        res = seasonal_decompose(df[share_type].values[-samples:], period=period)\n",
    "    \n",
    "    observed = res.observed\n",
    "    trend = res.trend\n",
    "    seasonal = res.seasonal\n",
    "    residual = res.resid\n",
    "    \n",
    "    #plot the complete time series\n",
    "    fig, axs = plt.subplots(4, figsize=(16,8))\n",
    "    axs[0].set_title('OBSERVED', fontsize=16)\n",
    "    axs[0].plot(observed)\n",
    "    axs[0].grid()\n",
    "    \n",
    "    #plot the trend of the time series\n",
    "    axs[1].set_title('TREND', fontsize=16)\n",
    "    axs[1].plot(trend)\n",
    "    axs[1].grid()\n",
    "    \n",
    "    #plot the seasonality of the time series. Period=24 daily seasonality | Period=24*7 weekly seasonality.\n",
    "    axs[2].set_title('SEASONALITY', fontsize=16)\n",
    "    axs[2].plot(seasonal)\n",
    "    axs[2].grid()\n",
    "    \n",
    "    #plot the noise of the time series\n",
    "    axs[3].set_title('NOISE', fontsize=16)\n",
    "    axs[3].plot(residual)\n",
    "    axs[3].scatter(y=residual, x=range(len(residual)), alpha=0.5)\n",
    "    axs[3].grid()\n",
    "    \n",
    "    plt.show()\n",
    "    "
   ]
  },
  {
   "cell_type": "code",
   "execution_count": 9,
   "id": "8185058c",
   "metadata": {
    "execution": {
     "iopub.execute_input": "2023-05-29T19:24:58.227897Z",
     "iopub.status.busy": "2023-05-29T19:24:58.226904Z",
     "iopub.status.idle": "2023-05-29T19:24:58.230601Z",
     "shell.execute_reply": "2023-05-29T19:24:58.231162Z",
     "shell.execute_reply.started": "2023-05-29T18:05:52.156670Z"
    },
    "papermill": {
     "duration": 0.084204,
     "end_time": "2023-05-29T19:24:58.231349",
     "exception": false,
     "start_time": "2023-05-29T19:24:58.147145",
     "status": "completed"
    },
    "tags": []
   },
   "outputs": [
    {
     "data": {
      "text/plain": [
       "store_nbr  family      date      \n",
       "1          AUTOMOTIVE  2013-01-01    0.0\n",
       "                       2013-01-02    2.0\n",
       "                       2013-01-03    3.0\n",
       "                       2013-01-04    3.0\n",
       "                       2013-01-05    5.0\n",
       "Name: sales, dtype: float32"
      ]
     },
     "execution_count": 9,
     "metadata": {},
     "output_type": "execute_result"
    }
   ],
   "source": [
    "store_sales['sales'].head()\n"
   ]
  },
  {
   "cell_type": "markdown",
   "id": "bd207e69",
   "metadata": {
    "papermill": {
     "duration": 0.069818,
     "end_time": "2023-05-29T19:24:58.371317",
     "exception": false,
     "start_time": "2023-05-29T19:24:58.301499",
     "status": "completed"
    },
    "tags": []
   },
   "source": [
    "### Sales Decompose\n",
    "In this section shown to sales decompose in three parts;  Observed, Trend and Seasonality, in a range time of  one year. "
   ]
  },
  {
   "cell_type": "code",
   "execution_count": 10,
   "id": "335db723",
   "metadata": {
    "execution": {
     "iopub.execute_input": "2023-05-29T19:24:58.525018Z",
     "iopub.status.busy": "2023-05-29T19:24:58.519294Z",
     "iopub.status.idle": "2023-05-29T19:24:59.282713Z",
     "shell.execute_reply": "2023-05-29T19:24:59.283277Z",
     "shell.execute_reply.started": "2023-05-29T18:05:52.181474Z"
    },
    "papermill": {
     "duration": 0.842014,
     "end_time": "2023-05-29T19:24:59.283493",
     "exception": false,
     "start_time": "2023-05-29T19:24:58.441479",
     "status": "completed"
    },
    "tags": []
   },
   "outputs": [
    {
     "data": {
      "image/png": "[encoded data removed]",
      "text/plain": [
       "<Figure size 1152x576 with 4 Axes>"
      ]
     },
     "metadata": {
      "needs_background": "light"
     },
     "output_type": "display_data"
    }
   ],
   "source": [
    "salesDecompose(store_sales, samples= 365, period = 30 )"
   ]
  },
  {
   "cell_type": "markdown",
   "id": "fc92a5c5",
   "metadata": {
    "papermill": {
     "duration": 0.07508,
     "end_time": "2023-05-29T19:24:59.435108",
     "exception": false,
     "start_time": "2023-05-29T19:24:59.360028",
     "status": "completed"
    },
    "tags": []
   },
   "source": [
    "Here, we maked average sales from time initial `2013`. Then we show Partial Correlation of Lags,  noting the most  significant ones.  "
   ]
  },
  {
   "cell_type": "code",
   "execution_count": 11,
   "id": "5555b238",
   "metadata": {
    "execution": {
     "iopub.execute_input": "2023-05-29T19:24:59.595718Z",
     "iopub.status.busy": "2023-05-29T19:24:59.591304Z",
     "iopub.status.idle": "2023-05-29T19:25:00.083771Z",
     "shell.execute_reply": "2023-05-29T19:25:00.084376Z",
     "shell.execute_reply.started": "2023-05-29T18:05:52.901533Z"
    },
    "papermill": {
     "duration": 0.572737,
     "end_time": "2023-05-29T19:25:00.084589",
     "exception": false,
     "start_time": "2023-05-29T19:24:59.511852",
     "status": "completed"
    },
    "tags": []
   },
   "outputs": [
    {
     "name": "stdout",
     "output_type": "stream",
     "text": [
      "<class 'pandas.core.frame.DataFrame'>\n",
      "PeriodIndex: 1684 entries, 2013-01-01 to 2017-08-15\n",
      "Freq: D\n",
      "Data columns (total 2 columns):\n",
      " #   Column       Non-Null Count  Dtype  \n",
      "---  ------       --------------  -----  \n",
      " 0   sales        1684 non-null   float32\n",
      " 1   onpromotion  1684 non-null   float64\n",
      "dtypes: float32(1), float64(1)\n",
      "memory usage: 32.9 KB\n"
     ]
    },
    {
     "data": {
      "text/plain": [
       "None"
      ]
     },
     "metadata": {},
     "output_type": "display_data"
    },
    {
     "data": {
      "image/png": "[encoded data removed]",
      "text/plain": [
       "<Figure size 432x288 with 1 Axes>"
      ]
     },
     "metadata": {
      "needs_background": "light"
     },
     "output_type": "display_data"
    }
   ],
   "source": [
    "# transactions per store\n",
    "# transactions.info()\n",
    "\n",
    "\n",
    "# average sales \n",
    "average_sales = (\n",
    "    store_sales\n",
    "    .groupby('date').mean()\n",
    "    .squeeze()\n",
    "    .loc[timeInitial:]\n",
    ")\n",
    "\n",
    "\n",
    "plot_pacf(average_sales.sales, lags=15)\n",
    "\n",
    "\n",
    "display(average_sales.info())\n",
    "#ax = average_sales.plot(**plot_params, alpha = 0.5,  title='Averange Sales', ylabel='Items Sold')\n",
    "#ax.legend();\n",
    "\n"
   ]
  },
  {
   "cell_type": "markdown",
   "id": "d216881f",
   "metadata": {
    "papermill": {
     "duration": 0.077503,
     "end_time": "2023-05-29T19:25:00.239745",
     "exception": false,
     "start_time": "2023-05-29T19:25:00.162242",
     "status": "completed"
    },
    "tags": []
   },
   "source": [
    "The price's Oil from initial time."
   ]
  },
  {
   "cell_type": "code",
   "execution_count": 12,
   "id": "69f969e6",
   "metadata": {
    "execution": {
     "iopub.execute_input": "2023-05-29T19:25:00.400995Z",
     "iopub.status.busy": "2023-05-29T19:25:00.398811Z",
     "iopub.status.idle": "2023-05-29T19:25:00.710839Z",
     "shell.execute_reply": "2023-05-29T19:25:00.711416Z",
     "shell.execute_reply.started": "2023-05-29T18:05:53.450243Z"
    },
    "papermill": {
     "duration": 0.394218,
     "end_time": "2023-05-29T19:25:00.711601",
     "exception": false,
     "start_time": "2023-05-29T19:25:00.317383",
     "status": "completed"
    },
    "tags": []
   },
   "outputs": [
    {
     "data": {
      "image/png": "[encoded data removed]",
      "text/plain": [
       "<Figure size 432x288 with 1 Axes>"
      ]
     },
     "metadata": {
      "needs_background": "light"
     },
     "output_type": "display_data"
    }
   ],
   "source": [
    "oil[timeInitial:].plot()\n",
    "plt.show()\n",
    "\n",
    "\n"
   ]
  },
  {
   "cell_type": "code",
   "execution_count": 13,
   "id": "d8f1f6c6",
   "metadata": {
    "execution": {
     "iopub.execute_input": "2023-05-29T19:25:00.873904Z",
     "iopub.status.busy": "2023-05-29T19:25:00.872878Z",
     "iopub.status.idle": "2023-05-29T19:25:00.885656Z",
     "shell.execute_reply": "2023-05-29T19:25:00.884988Z",
     "shell.execute_reply.started": "2023-05-29T18:05:53.793439Z"
    },
    "papermill": {
     "duration": 0.095184,
     "end_time": "2023-05-29T19:25:00.885819",
     "exception": false,
     "start_time": "2023-05-29T19:25:00.790635",
     "status": "completed"
    },
    "tags": []
   },
   "outputs": [
    {
     "name": "stdout",
     "output_type": "stream",
     "text": [
      "<class 'pandas.core.frame.DataFrame'>\n",
      "PeriodIndex: 1218 entries, 2013-01-01 to 2017-08-31\n",
      "Freq: D\n",
      "Data columns (total 1 columns):\n",
      " #   Column      Non-Null Count  Dtype  \n",
      "---  ------      --------------  -----  \n",
      " 0   dcoilwtico  1175 non-null   float32\n",
      "dtypes: float32(1)\n",
      "memory usage: 46.6 KB\n"
     ]
    }
   ],
   "source": [
    "dfOil = pd.DataFrame(oil)\n",
    "dfOil.info()"
   ]
  },
  {
   "cell_type": "code",
   "execution_count": 14,
   "id": "ff0466af",
   "metadata": {
    "execution": {
     "iopub.execute_input": "2023-05-29T19:25:01.052685Z",
     "iopub.status.busy": "2023-05-29T19:25:01.048205Z",
     "iopub.status.idle": "2023-05-29T19:25:01.433552Z",
     "shell.execute_reply": "2023-05-29T19:25:01.434129Z",
     "shell.execute_reply.started": "2023-05-29T18:05:53.808734Z"
    },
    "papermill": {
     "duration": 0.468347,
     "end_time": "2023-05-29T19:25:01.434317",
     "exception": false,
     "start_time": "2023-05-29T19:25:00.965970",
     "status": "completed"
    },
    "tags": []
   },
   "outputs": [
    {
     "name": "stdout",
     "output_type": "stream",
     "text": [
      "<class 'pandas.core.frame.DataFrame'>\n",
      "PeriodIndex: 1218 entries, 2013-01-01 to 2017-08-31\n",
      "Freq: D\n",
      "Data columns (total 2 columns):\n",
      " #   Column      Non-Null Count  Dtype  \n",
      "---  ------      --------------  -----  \n",
      " 0   dcoilwtico  1217 non-null   float32\n",
      " 1   ma_oil      1211 non-null   float64\n",
      "dtypes: float32(1), float64(1)\n",
      "memory usage: 56.1 KB\n"
     ]
    },
    {
     "data": {
      "text/plain": [
       "<AxesSubplot:xlabel='date'>"
      ]
     },
     "execution_count": 14,
     "metadata": {},
     "output_type": "execute_result"
    },
    {
     "data": {
      "image/png": "[encoded data removed]",
      "text/plain": [
       "<Figure size 432x288 with 1 Axes>"
      ]
     },
     "metadata": {
      "needs_background": "light"
     },
     "output_type": "display_data"
    }
   ],
   "source": [
    "dfOil['ma_oil'] = dfOil['dcoilwtico'].rolling(7).mean() # calculating mean by oil ( there are NaNs  values)\n",
    "dfOil.fillna(method='ffill', inplace=True)\n",
    "dfOil.info()\n",
    "\n",
    "dfOil.plot()\n",
    "#dfOil.ma_oil[timeInitial:].plot()"
   ]
  },
  {
   "cell_type": "markdown",
   "id": "7fc7a6e6",
   "metadata": {
    "papermill": {
     "duration": 0.081682,
     "end_time": "2023-05-29T19:25:01.601151",
     "exception": false,
     "start_time": "2023-05-29T19:25:01.519469",
     "status": "completed"
    },
    "tags": []
   },
   "source": [
    "# **Model with Oil** #\n"
   ]
  },
  {
   "cell_type": "markdown",
   "id": "f10490df",
   "metadata": {
    "papermill": {
     "duration": 0.085627,
     "end_time": "2023-05-29T19:25:01.771377",
     "exception": false,
     "start_time": "2023-05-29T19:25:01.685750",
     "status": "completed"
    },
    "tags": []
   },
   "source": [
    "We started create training  data, used `CalendarFourier`. For determine seasonal we take care to use `DeterministicProcess`. Futher, we add the Holiday days. "
   ]
  },
  {
   "cell_type": "code",
   "execution_count": 15,
   "id": "0fd43005",
   "metadata": {
    "execution": {
     "iopub.execute_input": "2023-05-29T19:25:01.945391Z",
     "iopub.status.busy": "2023-05-29T19:25:01.944577Z",
     "iopub.status.idle": "2023-05-29T19:25:03.288195Z",
     "shell.execute_reply": "2023-05-29T19:25:03.287443Z",
     "shell.execute_reply.started": "2023-05-29T18:05:54.243080Z"
    },
    "papermill": {
     "duration": 1.434222,
     "end_time": "2023-05-29T19:25:03.288351",
     "exception": false,
     "start_time": "2023-05-29T19:25:01.854129",
     "status": "completed"
    },
    "tags": []
   },
   "outputs": [],
   "source": [
    "sdate = '2017-06-15'\n",
    "edate = '2017-08-15'\n",
    "y = store_sales.unstack(['store_nbr', 'family']).loc[sdate:] \n",
    "\n",
    "\n",
    "# y = y.join( oil.rename('Oil') , on='date').fillna(method = 'bfill')\n",
    "\n",
    "# Create training data\n",
    "fourier = CalendarFourier(freq='M', order=4)\n",
    "dp = DeterministicProcess(\n",
    "    index=y.index,\n",
    "    constant=True,\n",
    "    order=1,\n",
    "    seasonal=True,\n",
    "    additional_terms=[fourier],\n",
    "    drop=True,\n",
    ")\n",
    "\n",
    "X = dp.in_sample()\n",
    "\n",
    "X1 = X.copy() \n",
    "\n",
    "#holidays = holidays.groupby(holidays.index).first() # Removing duplicated holiday at the same date"
   ]
  },
  {
   "cell_type": "markdown",
   "id": "5f36656e",
   "metadata": {
    "papermill": {
     "duration": 0.081797,
     "end_time": "2023-05-29T19:25:03.452519",
     "exception": false,
     "start_time": "2023-05-29T19:25:03.370722",
     "status": "completed"
    },
    "tags": []
   },
   "source": [
    "## Feature Engineering for Holidays"
   ]
  },
  {
   "cell_type": "code",
   "execution_count": 16,
   "id": "a19f2db4",
   "metadata": {
    "execution": {
     "iopub.execute_input": "2023-05-29T19:25:03.637769Z",
     "iopub.status.busy": "2023-05-29T19:25:03.631898Z",
     "iopub.status.idle": "2023-05-29T19:25:03.781704Z",
     "shell.execute_reply": "2023-05-29T19:25:03.782260Z",
     "shell.execute_reply.started": "2023-05-29T18:05:55.685871Z"
    },
    "papermill": {
     "duration": 0.247343,
     "end_time": "2023-05-29T19:25:03.782469",
     "exception": false,
     "start_time": "2023-05-29T19:25:03.535126",
     "status": "completed"
    },
    "tags": []
   },
   "outputs": [
    {
     "data": {
      "text/html": [
       "<div>\n",
       "<style scoped>\n",
       "    .dataframe tbody tr th:only-of-type {\n",
       "        vertical-align: middle;\n",
       "    }\n",
       "\n",
       "    .dataframe tbody tr th {\n",
       "        vertical-align: top;\n",
       "    }\n",
       "\n",
       "    .dataframe thead th {\n",
       "        text-align: right;\n",
       "    }\n",
       "</style>\n",
       "<table border=\"1\" class=\"dataframe\">\n",
       "  <thead>\n",
       "    <tr style=\"text-align: right;\">\n",
       "      <th></th>\n",
       "      <th>NewYear</th>\n",
       "      <th>wd</th>\n",
       "      <th>dofw_1</th>\n",
       "      <th>dofw_2</th>\n",
       "      <th>dofw_3</th>\n",
       "      <th>dofw_4</th>\n",
       "      <th>dofw_5</th>\n",
       "      <th>dofw_6</th>\n",
       "      <th>type_Additional</th>\n",
       "      <th>type_Bridge</th>\n",
       "      <th>type_Event</th>\n",
       "      <th>type_Holiday</th>\n",
       "      <th>type_Transfer</th>\n",
       "      <th>type_Work Day</th>\n",
       "      <th>school_season</th>\n",
       "    </tr>\n",
       "  </thead>\n",
       "  <tbody>\n",
       "    <tr>\n",
       "      <th>2013-01-01</th>\n",
       "      <td>True</td>\n",
       "      <td>0</td>\n",
       "      <td>1</td>\n",
       "      <td>0</td>\n",
       "      <td>0</td>\n",
       "      <td>0</td>\n",
       "      <td>0</td>\n",
       "      <td>0</td>\n",
       "      <td>0</td>\n",
       "      <td>0</td>\n",
       "      <td>0</td>\n",
       "      <td>1</td>\n",
       "      <td>0</td>\n",
       "      <td>0</td>\n",
       "      <td>0</td>\n",
       "    </tr>\n",
       "    <tr>\n",
       "      <th>2013-01-02</th>\n",
       "      <td>False</td>\n",
       "      <td>1</td>\n",
       "      <td>0</td>\n",
       "      <td>1</td>\n",
       "      <td>0</td>\n",
       "      <td>0</td>\n",
       "      <td>0</td>\n",
       "      <td>0</td>\n",
       "      <td>0</td>\n",
       "      <td>0</td>\n",
       "      <td>0</td>\n",
       "      <td>0</td>\n",
       "      <td>0</td>\n",
       "      <td>0</td>\n",
       "      <td>0</td>\n",
       "    </tr>\n",
       "    <tr>\n",
       "      <th>2013-01-03</th>\n",
       "      <td>False</td>\n",
       "      <td>1</td>\n",
       "      <td>0</td>\n",
       "      <td>0</td>\n",
       "      <td>1</td>\n",
       "      <td>0</td>\n",
       "      <td>0</td>\n",
       "      <td>0</td>\n",
       "      <td>0</td>\n",
       "      <td>0</td>\n",
       "      <td>0</td>\n",
       "      <td>0</td>\n",
       "      <td>0</td>\n",
       "      <td>0</td>\n",
       "      <td>0</td>\n",
       "    </tr>\n",
       "    <tr>\n",
       "      <th>2013-01-04</th>\n",
       "      <td>False</td>\n",
       "      <td>1</td>\n",
       "      <td>0</td>\n",
       "      <td>0</td>\n",
       "      <td>0</td>\n",
       "      <td>1</td>\n",
       "      <td>0</td>\n",
       "      <td>0</td>\n",
       "      <td>0</td>\n",
       "      <td>0</td>\n",
       "      <td>0</td>\n",
       "      <td>0</td>\n",
       "      <td>0</td>\n",
       "      <td>0</td>\n",
       "      <td>0</td>\n",
       "    </tr>\n",
       "    <tr>\n",
       "      <th>2013-01-05</th>\n",
       "      <td>False</td>\n",
       "      <td>1</td>\n",
       "      <td>0</td>\n",
       "      <td>0</td>\n",
       "      <td>0</td>\n",
       "      <td>0</td>\n",
       "      <td>1</td>\n",
       "      <td>0</td>\n",
       "      <td>0</td>\n",
       "      <td>0</td>\n",
       "      <td>0</td>\n",
       "      <td>0</td>\n",
       "      <td>0</td>\n",
       "      <td>1</td>\n",
       "      <td>0</td>\n",
       "    </tr>\n",
       "    <tr>\n",
       "      <th>...</th>\n",
       "      <td>...</td>\n",
       "      <td>...</td>\n",
       "      <td>...</td>\n",
       "      <td>...</td>\n",
       "      <td>...</td>\n",
       "      <td>...</td>\n",
       "      <td>...</td>\n",
       "      <td>...</td>\n",
       "      <td>...</td>\n",
       "      <td>...</td>\n",
       "      <td>...</td>\n",
       "      <td>...</td>\n",
       "      <td>...</td>\n",
       "      <td>...</td>\n",
       "      <td>...</td>\n",
       "    </tr>\n",
       "    <tr>\n",
       "      <th>2017-08-27</th>\n",
       "      <td>False</td>\n",
       "      <td>0</td>\n",
       "      <td>0</td>\n",
       "      <td>0</td>\n",
       "      <td>0</td>\n",
       "      <td>0</td>\n",
       "      <td>0</td>\n",
       "      <td>1</td>\n",
       "      <td>0</td>\n",
       "      <td>0</td>\n",
       "      <td>0</td>\n",
       "      <td>0</td>\n",
       "      <td>0</td>\n",
       "      <td>0</td>\n",
       "      <td>1</td>\n",
       "    </tr>\n",
       "    <tr>\n",
       "      <th>2017-08-28</th>\n",
       "      <td>False</td>\n",
       "      <td>1</td>\n",
       "      <td>0</td>\n",
       "      <td>0</td>\n",
       "      <td>0</td>\n",
       "      <td>0</td>\n",
       "      <td>0</td>\n",
       "      <td>0</td>\n",
       "      <td>0</td>\n",
       "      <td>0</td>\n",
       "      <td>0</td>\n",
       "      <td>0</td>\n",
       "      <td>0</td>\n",
       "      <td>0</td>\n",
       "      <td>1</td>\n",
       "    </tr>\n",
       "    <tr>\n",
       "      <th>2017-08-29</th>\n",
       "      <td>False</td>\n",
       "      <td>1</td>\n",
       "      <td>1</td>\n",
       "      <td>0</td>\n",
       "      <td>0</td>\n",
       "      <td>0</td>\n",
       "      <td>0</td>\n",
       "      <td>0</td>\n",
       "      <td>0</td>\n",
       "      <td>0</td>\n",
       "      <td>0</td>\n",
       "      <td>0</td>\n",
       "      <td>0</td>\n",
       "      <td>0</td>\n",
       "      <td>1</td>\n",
       "    </tr>\n",
       "    <tr>\n",
       "      <th>2017-08-30</th>\n",
       "      <td>False</td>\n",
       "      <td>1</td>\n",
       "      <td>0</td>\n",
       "      <td>1</td>\n",
       "      <td>0</td>\n",
       "      <td>0</td>\n",
       "      <td>0</td>\n",
       "      <td>0</td>\n",
       "      <td>0</td>\n",
       "      <td>0</td>\n",
       "      <td>0</td>\n",
       "      <td>0</td>\n",
       "      <td>0</td>\n",
       "      <td>0</td>\n",
       "      <td>1</td>\n",
       "    </tr>\n",
       "    <tr>\n",
       "      <th>2017-08-31</th>\n",
       "      <td>False</td>\n",
       "      <td>1</td>\n",
       "      <td>0</td>\n",
       "      <td>0</td>\n",
       "      <td>1</td>\n",
       "      <td>0</td>\n",
       "      <td>0</td>\n",
       "      <td>0</td>\n",
       "      <td>0</td>\n",
       "      <td>0</td>\n",
       "      <td>0</td>\n",
       "      <td>0</td>\n",
       "      <td>0</td>\n",
       "      <td>0</td>\n",
       "      <td>1</td>\n",
       "    </tr>\n",
       "  </tbody>\n",
       "</table>\n",
       "<p>1704 rows × 15 columns</p>\n",
       "</div>"
      ],
      "text/plain": [
       "            NewYear  wd  dofw_1  dofw_2  dofw_3  dofw_4  dofw_5  dofw_6  \\\n",
       "2013-01-01     True   0       1       0       0       0       0       0   \n",
       "2013-01-02    False   1       0       1       0       0       0       0   \n",
       "2013-01-03    False   1       0       0       1       0       0       0   \n",
       "2013-01-04    False   1       0       0       0       1       0       0   \n",
       "2013-01-05    False   1       0       0       0       0       1       0   \n",
       "...             ...  ..     ...     ...     ...     ...     ...     ...   \n",
       "2017-08-27    False   0       0       0       0       0       0       1   \n",
       "2017-08-28    False   1       0       0       0       0       0       0   \n",
       "2017-08-29    False   1       1       0       0       0       0       0   \n",
       "2017-08-30    False   1       0       1       0       0       0       0   \n",
       "2017-08-31    False   1       0       0       1       0       0       0   \n",
       "\n",
       "            type_Additional  type_Bridge  type_Event  type_Holiday  \\\n",
       "2013-01-01                0            0           0             1   \n",
       "2013-01-02                0            0           0             0   \n",
       "2013-01-03                0            0           0             0   \n",
       "2013-01-04                0            0           0             0   \n",
       "2013-01-05                0            0           0             0   \n",
       "...                     ...          ...         ...           ...   \n",
       "2017-08-27                0            0           0             0   \n",
       "2017-08-28                0            0           0             0   \n",
       "2017-08-29                0            0           0             0   \n",
       "2017-08-30                0            0           0             0   \n",
       "2017-08-31                0            0           0             0   \n",
       "\n",
       "            type_Transfer  type_Work Day  school_season  \n",
       "2013-01-01              0              0              0  \n",
       "2013-01-02              0              0              0  \n",
       "2013-01-03              0              0              0  \n",
       "2013-01-04              0              0              0  \n",
       "2013-01-05              0              1              0  \n",
       "...                   ...            ...            ...  \n",
       "2017-08-27              0              0              1  \n",
       "2017-08-28              0              0              1  \n",
       "2017-08-29              0              0              1  \n",
       "2017-08-30              0              0              1  \n",
       "2017-08-31              0              0              1  \n",
       "\n",
       "[1704 rows x 15 columns]"
      ]
     },
     "execution_count": 16,
     "metadata": {},
     "output_type": "execute_result"
    }
   ],
   "source": [
    "#calendar = X.join(hol)\n",
    "calendar = pd.DataFrame(index = pd.date_range('2013-01-01', '2017-08-31')).to_period('D')\n",
    "\n",
    "calendar['NewYear'] = (calendar.index.dayofyear == 1)\n",
    "\n",
    "calendar['dofw'] = calendar.index.dayofweek # Weekly day\n",
    "calendar['wd'] = True\n",
    "calendar.loc[calendar.dofw > 4, 'wd'] = False # not work day\n",
    "\n",
    "calendar = calendar.join(hol) # Joining calendar with holiday dataset\n",
    "calendar['dofw'] = calendar.index.dayofweek # Weekly day\n",
    "calendar['wd'] = 1\n",
    "calendar.loc[calendar.dofw > 4, 'wd'] = 0 # If it's saturday or sunday then it's not Weekday\n",
    "calendar.loc[calendar.type == 'Work Day', 'wd'] = 1 # If it's Work Day event then it's a workday\n",
    "calendar.loc[calendar.type == 'Transfer', 'wd'] = 0 # If it's Transfer event then it's not a work day\n",
    "calendar.loc[calendar.type == 'Bridge', 'wd'] = 0 # If it's Bridge event then it's not a work day\n",
    "calendar.loc[(calendar.type == 'Holiday') & (calendar.transferred == False), 'wd'] = 0 # If it's holiday and the holiday is not transferred then it's holiday\n",
    "calendar.loc[(calendar.type == 'Holiday') & (calendar.transferred == True), 'wd'] = 1 # If it's holiday and transferred then it's not holiday\n",
    "calendar = pd.get_dummies(calendar, columns = ['dofw'], drop_first = True) # One-hot encoding (Make sure to drop one of the columns by 'drop_first = True')\n",
    "calendar = pd.get_dummies(calendar, columns = ['type']) # One-hot encoding for type holiday (No need to drop one of the columns because there's a \"No holiday\" already)\n",
    "calendar.drop(['locale', 'locale_name', 'description', 'transferred'], axis = 1, inplace = True) # Unused columns\n",
    "\n",
    "\n",
    "school_season = [] # Feature for school fluctuations\n",
    "for i, r in calendar.iterrows() :\n",
    "    if i.month in [4, 5, 8, 9] :\n",
    "        school_season.append(1)\n",
    "    else :\n",
    "        school_season.append(0)\n",
    "calendar['school_season'] = school_season\n",
    "\n",
    "calendar"
   ]
  },
  {
   "cell_type": "markdown",
   "id": "abbf2ccf",
   "metadata": {
    "papermill": {
     "duration": 0.0846,
     "end_time": "2023-05-29T19:25:03.950038",
     "exception": false,
     "start_time": "2023-05-29T19:25:03.865438",
     "status": "completed"
    },
    "tags": []
   },
   "source": [
    "### Calendar Fourier for Oil"
   ]
  },
  {
   "cell_type": "code",
   "execution_count": 17,
   "id": "e0fab139",
   "metadata": {
    "execution": {
     "iopub.execute_input": "2023-05-29T19:25:04.135654Z",
     "iopub.status.busy": "2023-05-29T19:25:04.134064Z",
     "iopub.status.idle": "2023-05-29T19:25:04.137907Z",
     "shell.execute_reply": "2023-05-29T19:25:04.138530Z",
     "shell.execute_reply.started": "2023-05-29T18:05:55.855985Z"
    },
    "papermill": {
     "duration": 0.104336,
     "end_time": "2023-05-29T19:25:04.138722",
     "exception": false,
     "start_time": "2023-05-29T19:25:04.034386",
     "status": "completed"
    },
    "tags": []
   },
   "outputs": [],
   "source": [
    "oilInitial = dfOil.loc[sdate:] \n",
    "\n",
    "fourier = CalendarFourier(freq='M', order=4)\n",
    "dpOil = DeterministicProcess(\n",
    "    index=oilInitial.index,\n",
    "    constant=True,\n",
    "    order=1,\n",
    "    seasonal=True,\n",
    "    additional_terms=[fourier],\n",
    "    drop=True,\n",
    ")\n",
    "\n",
    "Xoil = dpOil.in_sample()"
   ]
  },
  {
   "cell_type": "markdown",
   "id": "c3cf27d6",
   "metadata": {
    "papermill": {
     "duration": 0.083464,
     "end_time": "2023-05-29T19:25:04.306660",
     "exception": false,
     "start_time": "2023-05-29T19:25:04.223196",
     "status": "completed"
    },
    "tags": []
   },
   "source": [
    "Missing Values Count"
   ]
  },
  {
   "cell_type": "code",
   "execution_count": 18,
   "id": "29678875",
   "metadata": {
    "execution": {
     "iopub.execute_input": "2023-05-29T19:25:04.484270Z",
     "iopub.status.busy": "2023-05-29T19:25:04.483515Z",
     "iopub.status.idle": "2023-05-29T19:25:04.487655Z",
     "shell.execute_reply": "2023-05-29T19:25:04.486888Z",
     "shell.execute_reply.started": "2023-05-29T18:05:55.877561Z"
    },
    "papermill": {
     "duration": 0.097274,
     "end_time": "2023-05-29T19:25:04.487826",
     "exception": false,
     "start_time": "2023-05-29T19:25:04.390552",
     "status": "completed"
    },
    "tags": []
   },
   "outputs": [
    {
     "name": "stdout",
     "output_type": "stream",
     "text": [
      "Num_null:  0\n"
     ]
    }
   ],
   "source": [
    "missingValueCount = X1.isnull().sum()\n",
    "print('Num_null: ' , missingValueCount.sum() )"
   ]
  },
  {
   "cell_type": "markdown",
   "id": "ba6dc66f",
   "metadata": {
    "papermill": {
     "duration": 0.084049,
     "end_time": "2023-05-29T19:25:04.656770",
     "exception": false,
     "start_time": "2023-05-29T19:25:04.572721",
     "status": "completed"
    },
    "tags": []
   },
   "source": [
    "Add new columns to train set. From Lag's graph, we consider seven Lags. While Oil, we saw that three Lags are enough."
   ]
  },
  {
   "cell_type": "code",
   "execution_count": 19,
   "id": "6bdfdaf2",
   "metadata": {
    "execution": {
     "iopub.execute_input": "2023-05-29T19:25:04.830229Z",
     "iopub.status.busy": "2023-05-29T19:25:04.829510Z",
     "iopub.status.idle": "2023-05-29T19:25:05.147613Z",
     "shell.execute_reply": "2023-05-29T19:25:05.146978Z",
     "shell.execute_reply.started": "2023-05-29T18:05:55.890401Z"
    },
    "papermill": {
     "duration": 0.405769,
     "end_time": "2023-05-29T19:25:05.147770",
     "exception": false,
     "start_time": "2023-05-29T19:25:04.742001",
     "status": "completed"
    },
    "tags": []
   },
   "outputs": [
    {
     "data": {
      "image/png": "[encoded data removed]",
      "text/plain": [
       "<Figure size 432x288 with 1 Axes>"
      ]
     },
     "metadata": {
      "needs_background": "light"
     },
     "output_type": "display_data"
    }
   ],
   "source": [
    "calendar['Oil'] = dfOil['ma_oil']\n",
    "\n",
    "\n",
    "_ = plot_pacf(calendar.Oil, lags = 12) # Lagplot oil price (Feature Engineering)\n",
    "\n",
    "# first \n",
    "n_lags = 3\n",
    "for l in range(1, n_lags + 1) :\n",
    "    calendar[f'oil_lags{l}'] = calendar.Oil.shift(l)\n",
    "\n",
    "\n",
    "    \n",
    "#X2.Oil.fillna(value = oil.mean() , inplace=True ) # drop values NaNs\n",
    "#X2.fillna(method='ffill') # drop values NaNs\n",
    "\n",
    "#X2['salesLag1'] = average_sales.sales.shift(periods=1, freq='D')\n",
    "#X2['salesLag2'] = average_sales.sales.shift(2)\n"
   ]
  },
  {
   "cell_type": "code",
   "execution_count": 20,
   "id": "f54f85a2",
   "metadata": {
    "execution": {
     "iopub.execute_input": "2023-05-29T19:25:05.325712Z",
     "iopub.status.busy": "2023-05-29T19:25:05.323794Z",
     "iopub.status.idle": "2023-05-29T19:25:05.327745Z",
     "shell.execute_reply": "2023-05-29T19:25:05.328329Z",
     "shell.execute_reply.started": "2023-05-29T18:05:56.218904Z"
    },
    "papermill": {
     "duration": 0.096125,
     "end_time": "2023-05-29T19:25:05.328545",
     "exception": false,
     "start_time": "2023-05-29T19:25:05.232420",
     "status": "completed"
    },
    "tags": []
   },
   "outputs": [],
   "source": [
    "X1 = X1.join(calendar)"
   ]
  },
  {
   "cell_type": "code",
   "execution_count": 21,
   "id": "1f09c9c7",
   "metadata": {
    "execution": {
     "iopub.execute_input": "2023-05-29T19:25:05.513028Z",
     "iopub.status.busy": "2023-05-29T19:25:05.512121Z",
     "iopub.status.idle": "2023-05-29T19:25:05.518313Z",
     "shell.execute_reply": "2023-05-29T19:25:05.518943Z",
     "shell.execute_reply.started": "2023-05-29T18:05:56.229492Z"
    },
    "papermill": {
     "duration": 0.105073,
     "end_time": "2023-05-29T19:25:05.519131",
     "exception": false,
     "start_time": "2023-05-29T19:25:05.414058",
     "status": "completed"
    },
    "tags": []
   },
   "outputs": [],
   "source": [
    "X1['Onpromotion'] = average_sales['onpromotion']\n",
    "X1['salesLag7'] = average_sales.sales.shift(7)\n",
    "\n",
    "X2 = X1.join( Xoil , on='date', rsuffix='RT').fillna(method = 'ffill')\n",
    "\n",
    "#X = X.join( oil.rename('Oil') , on='date').fillna(method = 'bfill')\n",
    "\n",
    "\n",
    "X2.dropna(how='any', axis=0, inplace=True) # drop values NaNs\n"
   ]
  },
  {
   "cell_type": "code",
   "execution_count": 22,
   "id": "66eee4a7",
   "metadata": {
    "execution": {
     "iopub.execute_input": "2023-05-29T19:25:05.694927Z",
     "iopub.status.busy": "2023-05-29T19:25:05.694148Z",
     "iopub.status.idle": "2023-05-29T19:25:05.701226Z",
     "shell.execute_reply": "2023-05-29T19:25:05.701859Z",
     "shell.execute_reply.started": "2023-05-29T18:05:56.258506Z"
    },
    "papermill": {
     "duration": 0.096803,
     "end_time": "2023-05-29T19:25:05.702054",
     "exception": false,
     "start_time": "2023-05-29T19:25:05.605251",
     "status": "completed"
    },
    "tags": []
   },
   "outputs": [],
   "source": [
    "dateRange =  X2.index\n",
    "\n",
    "# train set and target train\n",
    "y_train = y.loc[dateRange]\n",
    "Xtrain=X2.copy()"
   ]
  },
  {
   "cell_type": "markdown",
   "id": "86bfaa42",
   "metadata": {
    "papermill": {
     "duration": 0.084133,
     "end_time": "2023-05-29T19:25:05.871892",
     "exception": false,
     "start_time": "2023-05-29T19:25:05.787759",
     "status": "completed"
    },
    "tags": []
   },
   "source": [
    "#  **Hybrid Model**\n",
    "\n",
    "First  model to get us seasonal information. Meanwhile, the second model will take care of training the rest of the data.\n",
    "While, second model to  training  rest of train set."
   ]
  },
  {
   "cell_type": "markdown",
   "id": "1b8ccbfe",
   "metadata": {
    "papermill": {
     "duration": 0.0842,
     "end_time": "2023-05-29T19:25:06.042304",
     "exception": false,
     "start_time": "2023-05-29T19:25:05.958104",
     "status": "completed"
    },
    "tags": []
   },
   "source": [
    "# Model Bizen's"
   ]
  },
  {
   "cell_type": "code",
   "execution_count": 23,
   "id": "aba32576",
   "metadata": {
    "execution": {
     "iopub.execute_input": "2023-05-29T19:25:06.217706Z",
     "iopub.status.busy": "2023-05-29T19:25:06.216893Z",
     "iopub.status.idle": "2023-05-29T19:25:06.238921Z",
     "shell.execute_reply": "2023-05-29T19:25:06.239555Z",
     "shell.execute_reply.started": "2023-05-29T18:05:56.270304Z"
    },
    "papermill": {
     "duration": 0.112318,
     "end_time": "2023-05-29T19:25:06.239748",
     "exception": false,
     "start_time": "2023-05-29T19:25:06.127430",
     "status": "completed"
    },
    "tags": []
   },
   "outputs": [],
   "source": [
    "from joblib import Parallel, delayed\n",
    "import warnings\n",
    "\n",
    "# Import necessary library\n",
    "from sklearn.linear_model import Ridge, LinearRegression, ElasticNet\n",
    "from sklearn.svm import SVR\n",
    "from sklearn.ensemble import RandomForestRegressor\n",
    "from sklearn.ensemble import ExtraTreesRegressor\n",
    "from sklearn.ensemble import BaggingRegressor\n",
    "from sklearn.ensemble import VotingRegressor\n",
    "\n",
    "# SEED for reproducible result\n",
    "SEED = 5\n",
    "\n",
    "class CustomRegressor():\n",
    "    \n",
    "    def __init__(self, n_jobs=-1, verbose=0):\n",
    "        \n",
    "        self.n_jobs = n_jobs\n",
    "        self.verbose = verbose\n",
    "        \n",
    "        self.estimators_ = None\n",
    "        \n",
    "    def _estimator_(self, X, y):\n",
    "    \n",
    "        warnings.simplefilter(action='ignore', category=FutureWarning)\n",
    "        \n",
    "        if y.name[2] == 'SCHOOL AND OFFICE SUPPLIES': # Because SCHOOL AND OFFICE SUPPLIES has weird trend, we use decision tree instead.\n",
    "            r1 = ExtraTreesRegressor(n_estimators = 225, n_jobs=-1, random_state=SEED)\n",
    "            r2 = RandomForestRegressor(n_estimators = 225, n_jobs=-1, random_state=SEED)\n",
    "            b1 = BaggingRegressor(base_estimator=r1,\n",
    "                                  n_estimators=10,\n",
    "                                  n_jobs=-1,\n",
    "                                  random_state=SEED)\n",
    "            b2 = BaggingRegressor(base_estimator=r2,\n",
    "                                  n_estimators=10,\n",
    "                                  n_jobs=-1,\n",
    "                                  random_state=SEED)\n",
    "            model = VotingRegressor([('et', b1), ('rf', b2)]) # Averaging the result\n",
    "        else:\n",
    "            ridge = Ridge(fit_intercept=True, solver='auto', alpha=0.75, normalize=True, random_state=SEED)\n",
    "            svr = SVR(C = 0.2, kernel = 'rbf')\n",
    "            \n",
    "            model = VotingRegressor([('ridge', ridge), ('svr', svr)]) # Averaging result\n",
    "        model.fit(X, y)\n",
    "\n",
    "        return model\n",
    "\n",
    "    def fit(self, X, y):\n",
    "        from tqdm.auto import tqdm\n",
    "        \n",
    "        \n",
    "        if self.verbose == 0 :\n",
    "            self.estimators_ = Parallel(n_jobs=self.n_jobs, \n",
    "                                  verbose=0,\n",
    "                                  )(delayed(self._estimator_)(X, y.iloc[:, i]) for i in range(y.shape[1]))\n",
    "        else :\n",
    "            print('Fit Progress')\n",
    "            self.estimators_ = Parallel(n_jobs=self.n_jobs, \n",
    "                                  verbose=0,\n",
    "                                  )(delayed(self._estimator_)(X, y.iloc[:, i]) for i in tqdm(range(y.shape[1])))\n",
    "        return\n",
    "    \n",
    "    def predict(self, X):\n",
    "        from tqdm.auto import tqdm\n",
    "        if self.verbose == 0 :\n",
    "            y_pred = Parallel(n_jobs=self.n_jobs, \n",
    "                              verbose=0)(delayed(e.predict)(X) for e in self.estimators_)\n",
    "        else :\n",
    "            print('Predict Progress')\n",
    "            y_pred = Parallel(n_jobs=self.n_jobs, \n",
    "                              verbose=0)(delayed(e.predict)(X) for e in tqdm(self.estimators_))\n",
    "        \n",
    "        return np.stack(y_pred, axis=1)"
   ]
  },
  {
   "cell_type": "code",
   "execution_count": 24,
   "id": "7a81af05",
   "metadata": {
    "execution": {
     "iopub.execute_input": "2023-05-29T19:25:06.413735Z",
     "iopub.status.busy": "2023-05-29T19:25:06.412966Z",
     "iopub.status.idle": "2023-05-29T19:36:07.777936Z",
     "shell.execute_reply": "2023-05-29T19:36:07.776520Z",
     "shell.execute_reply.started": "2023-05-29T18:05:56.297867Z"
    },
    "papermill": {
     "duration": 661.454474,
     "end_time": "2023-05-29T19:36:07.779163",
     "exception": false,
     "start_time": "2023-05-29T19:25:06.324689",
     "status": "completed"
    },
    "tags": []
   },
   "outputs": [
    {
     "name": "stdout",
     "output_type": "stream",
     "text": [
      "Fit Progress\n"
     ]
    },
    {
     "data": {
      "application/vnd.jupyter.widget-view+json": {
       "model_id": "8b6d4f7c8d4b4806b7fd0ebfe25a921f",
       "version_major": 2,
       "version_minor": 0
      },
      "text/plain": [
       "  0%|          | 0/3564 [00:00<?, ?it/s]"
      ]
     },
     "metadata": {},
     "output_type": "display_data"
    },
    {
     "name": "stdout",
     "output_type": "stream",
     "text": [
      "Predict Progress\n"
     ]
    },
    {
     "data": {
      "application/vnd.jupyter.widget-view+json": {
       "model_id": "fe4c26172e654f38a91cec432d416ea4",
       "version_major": 2,
       "version_minor": 0
      },
      "text/plain": [
       "  0%|          | 0/3564 [00:00<?, ?it/s]"
      ]
     },
     "metadata": {},
     "output_type": "display_data"
    }
   ],
   "source": [
    "# %%time\n",
    "\n",
    "modelB = CustomRegressor(n_jobs=-1, verbose=1)\n",
    "modelRF = RandomForestRegressor(random_state = 42)\n",
    "modelLR = LinearRegression(fit_intercept = True, n_jobs = -1, normalize = True)\n",
    "\n",
    "# The data set is already  divided, test Train\n",
    " # argument to improvemnt considerment performance\n",
    "\n",
    "\n",
    "\n",
    "modelB.fit(Xtrain, y_train)\n",
    "y_fit = modelB.predict(Xtrain)\n",
    "\n",
    "y_resid = y_train - y_fit\n",
    "\n",
    "#model = LinearRegression(fit_intercept=False)\n",
    "# model = LGBMRegressor(random_state = 42) \"not work with  mulpli-columns\"\n",
    "\n",
    "modelRF.fit(Xtrain, y_resid)\n",
    "y_pred = pd.DataFrame(modelRF.predict(Xtrain), index=Xtrain.index, columns=y.columns)\n",
    "\n",
    "\n",
    "yLR_RF = y_pred + y_fit\n",
    "#y_pred_boosted = xgb.predict(X_test) + y_pred"
   ]
  },
  {
   "cell_type": "markdown",
   "id": "1e1ac636",
   "metadata": {
    "papermill": {
     "duration": 0.087454,
     "end_time": "2023-05-29T19:36:07.968021",
     "exception": false,
     "start_time": "2023-05-29T19:36:07.880567",
     "status": "completed"
    },
    "tags": []
   },
   "source": [
    "In the next figure, we see the `Produce` sales at Store 1, compare the value of sales and value prediction by the hybrid model."
   ]
  },
  {
   "cell_type": "code",
   "execution_count": 25,
   "id": "000c378f",
   "metadata": {
    "execution": {
     "iopub.execute_input": "2023-05-29T19:36:08.151305Z",
     "iopub.status.busy": "2023-05-29T19:36:08.150479Z",
     "iopub.status.idle": "2023-05-29T19:36:09.355322Z",
     "shell.execute_reply": "2023-05-29T19:36:09.355972Z",
     "shell.execute_reply.started": "2023-05-29T18:17:34.913174Z"
    },
    "papermill": {
     "duration": 1.300473,
     "end_time": "2023-05-29T19:36:09.356179",
     "exception": false,
     "start_time": "2023-05-29T19:36:08.055706",
     "status": "completed"
    },
    "tags": []
   },
   "outputs": [
    {
     "data": {
      "text/plain": [
       "CategoricalIndex(['AUTOMOTIVE', 'BABY CARE', 'BEAUTY', 'BEVERAGES', 'BOOKS',\n",
       "                  'BREAD/BAKERY', 'CELEBRATION', 'CLEANING', 'DAIRY', 'DELI',\n",
       "                  'EGGS', 'FROZEN FOODS', 'GROCERY I', 'GROCERY II',\n",
       "                  'HARDWARE', 'HOME AND KITCHEN I', 'HOME AND KITCHEN II',\n",
       "                  'HOME APPLIANCES', 'HOME CARE', 'LADIESWEAR',\n",
       "                  'LAWN AND GARDEN', 'LINGERIE', 'LIQUOR,WINE,BEER',\n",
       "                  'MAGAZINES', 'MEATS', 'PERSONAL CARE', 'PET SUPPLIES',\n",
       "                  'PLAYERS AND ELECTRONICS', 'POULTRY', 'PREPARED FOODS',\n",
       "                  'PRODUCE', 'SCHOOL AND OFFICE SUPPLIES', 'SEAFOOD'],\n",
       "                 categories=['AUTOMOTIVE', 'BABY CARE', 'BEAUTY', 'BEVERAGES', 'BOOKS', 'BREAD/BAKERY', 'CELEBRATION', 'CLEANING', ...], ordered=False, dtype='category', name='family')"
      ]
     },
     "metadata": {},
     "output_type": "display_data"
    },
    {
     "name": "stdout",
     "output_type": "stream",
     "text": [
      "<class 'pandas.core.frame.DataFrame'>\n",
      "PeriodIndex: 62 entries, 2017-06-15 to 2017-08-15\n",
      "Freq: D\n",
      "Columns: 3564 entries, ('sales', '1', 'AUTOMOTIVE') to ('onpromotion', '9', 'SEAFOOD')\n",
      "dtypes: float32(1782), uint32(1782)\n",
      "memory usage: 865.7 KB\n"
     ]
    },
    {
     "data": {
      "image/png": "[encoded data removed]",
      "text/plain": [
       "<Figure size 432x288 with 1 Axes>"
      ]
     },
     "metadata": {
      "needs_background": "light"
     },
     "output_type": "display_data"
    }
   ],
   "source": [
    "STORE_NBR = '1'  # 1 - 54\n",
    "FAMILY = 'PRODUCE'\n",
    "# Uncomment to see a list of product families\n",
    "display(store_sales.index.get_level_values('family').unique())\n",
    "\n",
    "ax = y_train.loc(axis=1)['sales', STORE_NBR, FAMILY].plot(**plot_params) # choose single store 1 and family equal produce. \n",
    "ax = yLR_RF.loc(axis=1)['sales', STORE_NBR, FAMILY].plot(ax=ax, color='red')\n",
    "ax.set_title(f'{FAMILY} Sales at Store {STORE_NBR}');\n",
    "\n",
    "y.info()"
   ]
  },
  {
   "cell_type": "markdown",
   "id": "0e6dfb81",
   "metadata": {
    "papermill": {
     "duration": 0.095068,
     "end_time": "2023-05-29T19:36:09.545955",
     "exception": false,
     "start_time": "2023-05-29T19:36:09.450887",
     "status": "completed"
    },
    "tags": []
   },
   "source": [
    "### Metrics\n",
    "\n",
    "It's calculating metrics:\n",
    "\n",
    "- Mean Absolute Error MAE\n",
    "- Root Mean Squared Log Error RMSE"
   ]
  },
  {
   "cell_type": "code",
   "execution_count": 26,
   "id": "78aa5cdb",
   "metadata": {
    "execution": {
     "iopub.execute_input": "2023-05-29T19:36:09.740981Z",
     "iopub.status.busy": "2023-05-29T19:36:09.739812Z",
     "iopub.status.idle": "2023-05-29T19:36:09.760504Z",
     "shell.execute_reply": "2023-05-29T19:36:09.759583Z",
     "shell.execute_reply.started": "2023-05-29T18:17:36.198593Z"
    },
    "papermill": {
     "duration": 0.122097,
     "end_time": "2023-05-29T19:36:09.760715",
     "exception": false,
     "start_time": "2023-05-29T19:36:09.638618",
     "status": "completed"
    },
    "tags": []
   },
   "outputs": [],
   "source": [
    "Y = y_train.loc(axis=1)['sales', STORE_NBR, FAMILY]\n",
    "Ypred = yLR_RF.loc(axis=1)['sales', STORE_NBR, FAMILY]\n",
    "\n",
    "yfit_lnr = pd.DataFrame(yLR_RF, index = Xtrain.index, columns = y_train.columns).clip(0.)\n",
    "\n",
    "Mae = np.round(mae(Y, Ypred), 3)  "
   ]
  },
  {
   "cell_type": "code",
   "execution_count": 27,
   "id": "54522326",
   "metadata": {
    "execution": {
     "iopub.execute_input": "2023-05-29T19:36:09.956560Z",
     "iopub.status.busy": "2023-05-29T19:36:09.955711Z",
     "iopub.status.idle": "2023-05-29T19:36:10.616878Z",
     "shell.execute_reply": "2023-05-29T19:36:10.617586Z",
     "shell.execute_reply.started": "2023-05-29T18:17:36.225858Z"
    },
    "papermill": {
     "duration": 0.765104,
     "end_time": "2023-05-29T19:36:10.617802",
     "exception": false,
     "start_time": "2023-05-29T19:36:09.852698",
     "status": "completed"
    },
    "tags": []
   },
   "outputs": [
    {
     "name": "stdout",
     "output_type": "stream",
     "text": [
      "family\n",
      "AUTOMOTIVE                    0.213714\n",
      "BABY CARE                     0.098357\n",
      "BEAUTY                        0.204526\n",
      "BEVERAGES                     0.067806\n",
      "BOOKS                         0.035127\n",
      "BREAD/BAKERY                  0.052979\n",
      "CELEBRATION                   0.241397\n",
      "CLEANING                      0.115771\n",
      "DAIRY                         0.046384\n",
      "DELI                          0.058191\n",
      "EGGS                          0.117872\n",
      "FROZEN FOODS                  0.103158\n",
      "GROCERY I                     0.047407\n",
      "GROCERY II                    0.246711\n",
      "HARDWARE                      0.221076\n",
      "HOME AND KITCHEN I            0.200100\n",
      "HOME AND KITCHEN II           0.180967\n",
      "HOME APPLIANCES               0.138018\n",
      "HOME CARE                     0.067400\n",
      "LADIESWEAR                    0.191157\n",
      "LAWN AND GARDEN               0.179591\n",
      "LINGERIE                      0.278788\n",
      "LIQUOR,WINE,BEER              0.244813\n",
      "MAGAZINES                     0.209630\n",
      "MEATS                         0.071527\n",
      "PERSONAL CARE                 0.075631\n",
      "PET SUPPLIES                  0.194252\n",
      "PLAYERS AND ELECTRONICS       0.191976\n",
      "POULTRY                       0.070762\n",
      "PREPARED FOODS                0.100225\n",
      "PRODUCE                       0.051005\n",
      "SCHOOL AND OFFICE SUPPLIES    0.259849\n",
      "SEAFOOD                       0.215354\n",
      "dtype: float64\n",
      "RF+LNR RMSLE : 0.1925253294415422\n"
     ]
    }
   ],
   "source": [
    "y_pred2   = yLR_RF.stack(['store_nbr', 'family']).reset_index()\n",
    "y_target = y_train.stack(['store_nbr', 'family']).reset_index().copy()\n",
    "\n",
    "y_target['sales_pred'] = y_pred2['sales'].clip(0.) # Sales should be >= 0\n",
    "\n",
    "\n",
    "print( y_target.groupby('family').apply(lambda r: np.sqrt(msle(r['sales'], r['sales_pred'] ))) )\n",
    "print('RF+LNR RMSLE :', np.sqrt(  msle(y_train, yfit_lnr) ))"
   ]
  },
  {
   "cell_type": "markdown",
   "id": "e0bb54bb",
   "metadata": {
    "papermill": {
     "duration": 0.090647,
     "end_time": "2023-05-29T19:36:10.800461",
     "exception": false,
     "start_time": "2023-05-29T19:36:10.709814",
     "status": "completed"
    },
    "tags": []
   },
   "source": [
    "We seek, there is overfiting. "
   ]
  },
  {
   "cell_type": "markdown",
   "id": "9a7b678a",
   "metadata": {
    "papermill": {
     "duration": 0.092484,
     "end_time": "2023-05-29T19:36:10.984867",
     "exception": false,
     "start_time": "2023-05-29T19:36:10.892383",
     "status": "completed"
    },
    "tags": []
   },
   "source": [
    "# Test set\n",
    "\n",
    "The test set, building with same variables the train set, it has 16 steps.\n",
    "\n",
    "### Missing Values ###"
   ]
  },
  {
   "cell_type": "code",
   "execution_count": 28,
   "id": "58cd2b18",
   "metadata": {
    "execution": {
     "iopub.execute_input": "2023-05-29T19:36:11.183806Z",
     "iopub.status.busy": "2023-05-29T19:36:11.182974Z",
     "iopub.status.idle": "2023-05-29T19:36:11.261390Z",
     "shell.execute_reply": "2023-05-29T19:36:11.260599Z",
     "shell.execute_reply.started": "2023-05-29T18:17:36.915038Z"
    },
    "papermill": {
     "duration": 0.183036,
     "end_time": "2023-05-29T19:36:11.261576",
     "exception": false,
     "start_time": "2023-05-29T19:36:11.078540",
     "status": "completed"
    },
    "tags": []
   },
   "outputs": [],
   "source": [
    "df_test = pd.read_csv(\n",
    "    comp_dir / 'test.csv',\n",
    "    dtype={\n",
    "        'store_nbr': 'category',\n",
    "        'family': 'category',\n",
    "        'onpromotion': 'uint32',\n",
    "    },\n",
    "    parse_dates=['date'],\n",
    "    infer_datetime_format=True,\n",
    ")\n",
    "\n",
    "df_test['date'] = df_test.date.dt.to_period('D')\n",
    "df_test = df_test.set_index(['store_nbr', 'family', 'date']).sort_index()\n",
    "\n",
    "\n",
    "average_sales_test = (\n",
    "    df_test\n",
    "    .groupby('date').mean()\n",
    "    .squeeze()\n",
    "    .loc['2017']\n",
    ")\n",
    "\n",
    "\n",
    "#df_test = df_test.loc['2017'] \n",
    "# Create features for test set\n",
    "X_test = dp.out_of_sample(steps=16)\n",
    "X_testOil = dpOil.out_of_sample(steps=16)\n",
    "\n",
    "X_test.index.name = 'date'\n",
    "\n",
    "X_test1 = X_test.copy()\n",
    "\n",
    "\n",
    "\n",
    "\n",
    "X_test1 = X_test1.join(calendar)\n",
    "\n"
   ]
  },
  {
   "cell_type": "code",
   "execution_count": 29,
   "id": "ccb63199",
   "metadata": {
    "execution": {
     "iopub.execute_input": "2023-05-29T19:36:11.454981Z",
     "iopub.status.busy": "2023-05-29T19:36:11.454124Z",
     "iopub.status.idle": "2023-05-29T19:36:11.466432Z",
     "shell.execute_reply": "2023-05-29T19:36:11.465474Z",
     "shell.execute_reply.started": "2023-05-29T18:17:37.005361Z"
    },
    "papermill": {
     "duration": 0.110713,
     "end_time": "2023-05-29T19:36:11.466622",
     "exception": false,
     "start_time": "2023-05-29T19:36:11.355909",
     "status": "completed"
    },
    "tags": []
   },
   "outputs": [
    {
     "name": "stdout",
     "output_type": "stream",
     "text": [
      "<class 'pandas.core.frame.DataFrame'>\n",
      "PeriodIndex: 56 entries, 2017-06-15 to 2017-08-31\n",
      "Freq: D\n",
      "Data columns (total 16 columns):\n",
      " #   Column         Non-Null Count  Dtype  \n",
      "---  ------         --------------  -----  \n",
      " 0   const          56 non-null     float64\n",
      " 1   trend          56 non-null     float64\n",
      " 2   s(2,7)         56 non-null     float64\n",
      " 3   s(3,7)         56 non-null     float64\n",
      " 4   s(4,7)         56 non-null     float64\n",
      " 5   s(5,7)         56 non-null     float64\n",
      " 6   s(6,7)         56 non-null     float64\n",
      " 7   s(7,7)         56 non-null     float64\n",
      " 8   sin(1,freq=M)  56 non-null     float64\n",
      " 9   cos(1,freq=M)  56 non-null     float64\n",
      " 10  sin(2,freq=M)  56 non-null     float64\n",
      " 11  cos(2,freq=M)  56 non-null     float64\n",
      " 12  sin(3,freq=M)  56 non-null     float64\n",
      " 13  cos(3,freq=M)  56 non-null     float64\n",
      " 14  sin(4,freq=M)  56 non-null     float64\n",
      " 15  cos(4,freq=M)  56 non-null     float64\n",
      "dtypes: float64(16)\n",
      "memory usage: 7.4 KB\n"
     ]
    }
   ],
   "source": [
    "Xoil.info()"
   ]
  },
  {
   "cell_type": "markdown",
   "id": "bfedae25",
   "metadata": {
    "papermill": {
     "duration": 0.092388,
     "end_time": "2023-05-29T19:36:11.652679",
     "exception": false,
     "start_time": "2023-05-29T19:36:11.560291",
     "status": "completed"
    },
    "tags": []
   },
   "source": [
    "Preparation Test set."
   ]
  },
  {
   "cell_type": "code",
   "execution_count": 30,
   "id": "f46e91ed",
   "metadata": {
    "execution": {
     "iopub.execute_input": "2023-05-29T19:36:11.840348Z",
     "iopub.status.busy": "2023-05-29T19:36:11.839606Z",
     "iopub.status.idle": "2023-05-29T19:36:11.847587Z",
     "shell.execute_reply": "2023-05-29T19:36:11.848185Z",
     "shell.execute_reply.started": "2023-05-29T18:17:37.033083Z"
    },
    "papermill": {
     "duration": 0.103408,
     "end_time": "2023-05-29T19:36:11.848379",
     "exception": false,
     "start_time": "2023-05-29T19:36:11.744971",
     "status": "completed"
    },
    "tags": []
   },
   "outputs": [],
   "source": [
    "X_test1['Onpromotion'] = average_sales_test['onpromotion']\n",
    "X_test1['salesLag7'] = average_sales.sales.shift(periods=16, freq='D')"
   ]
  },
  {
   "cell_type": "code",
   "execution_count": 31,
   "id": "0d7630aa",
   "metadata": {
    "execution": {
     "iopub.execute_input": "2023-05-29T19:36:12.037158Z",
     "iopub.status.busy": "2023-05-29T19:36:12.036381Z",
     "iopub.status.idle": "2023-05-29T19:36:12.067962Z",
     "shell.execute_reply": "2023-05-29T19:36:12.067339Z",
     "shell.execute_reply.started": "2023-05-29T19:24:10.819185Z"
    },
    "papermill": {
     "duration": 0.12871,
     "end_time": "2023-05-29T19:36:12.068129",
     "exception": false,
     "start_time": "2023-05-29T19:36:11.939419",
     "status": "completed"
    },
    "tags": []
   },
   "outputs": [
    {
     "data": {
      "text/html": [
       "<div>\n",
       "<style scoped>\n",
       "    .dataframe tbody tr th:only-of-type {\n",
       "        vertical-align: middle;\n",
       "    }\n",
       "\n",
       "    .dataframe tbody tr th {\n",
       "        vertical-align: top;\n",
       "    }\n",
       "\n",
       "    .dataframe thead th {\n",
       "        text-align: right;\n",
       "    }\n",
       "</style>\n",
       "<table border=\"1\" class=\"dataframe\">\n",
       "  <thead>\n",
       "    <tr style=\"text-align: right;\">\n",
       "      <th></th>\n",
       "      <th>const</th>\n",
       "      <th>trend</th>\n",
       "      <th>s(2,7)</th>\n",
       "      <th>s(3,7)</th>\n",
       "      <th>s(4,7)</th>\n",
       "      <th>s(5,7)</th>\n",
       "      <th>s(6,7)</th>\n",
       "      <th>s(7,7)</th>\n",
       "      <th>sin(1,freq=M)</th>\n",
       "      <th>cos(1,freq=M)</th>\n",
       "      <th>...</th>\n",
       "      <th>type_Holiday</th>\n",
       "      <th>type_Transfer</th>\n",
       "      <th>type_Work Day</th>\n",
       "      <th>school_season</th>\n",
       "      <th>Oil</th>\n",
       "      <th>oil_lags1</th>\n",
       "      <th>oil_lags2</th>\n",
       "      <th>oil_lags3</th>\n",
       "      <th>Onpromotion</th>\n",
       "      <th>salesLag7</th>\n",
       "    </tr>\n",
       "    <tr>\n",
       "      <th>date</th>\n",
       "      <th></th>\n",
       "      <th></th>\n",
       "      <th></th>\n",
       "      <th></th>\n",
       "      <th></th>\n",
       "      <th></th>\n",
       "      <th></th>\n",
       "      <th></th>\n",
       "      <th></th>\n",
       "      <th></th>\n",
       "      <th></th>\n",
       "      <th></th>\n",
       "      <th></th>\n",
       "      <th></th>\n",
       "      <th></th>\n",
       "      <th></th>\n",
       "      <th></th>\n",
       "      <th></th>\n",
       "      <th></th>\n",
       "      <th></th>\n",
       "      <th></th>\n",
       "    </tr>\n",
       "  </thead>\n",
       "  <tbody>\n",
       "    <tr>\n",
       "      <th>2017-08-16</th>\n",
       "      <td>1.0</td>\n",
       "      <td>63.0</td>\n",
       "      <td>0.0</td>\n",
       "      <td>0.0</td>\n",
       "      <td>0.0</td>\n",
       "      <td>0.0</td>\n",
       "      <td>0.0</td>\n",
       "      <td>1.0</td>\n",
       "      <td>0.101168</td>\n",
       "      <td>-0.994869</td>\n",
       "      <td>...</td>\n",
       "      <td>0</td>\n",
       "      <td>0</td>\n",
       "      <td>0</td>\n",
       "      <td>1</td>\n",
       "      <td>48.281429</td>\n",
       "      <td>48.648572</td>\n",
       "      <td>48.934286</td>\n",
       "      <td>NaN</td>\n",
       "      <td>17.137486</td>\n",
       "      <td>497.113831</td>\n",
       "    </tr>\n",
       "    <tr>\n",
       "      <th>2017-08-17</th>\n",
       "      <td>1.0</td>\n",
       "      <td>64.0</td>\n",
       "      <td>0.0</td>\n",
       "      <td>0.0</td>\n",
       "      <td>0.0</td>\n",
       "      <td>0.0</td>\n",
       "      <td>0.0</td>\n",
       "      <td>0.0</td>\n",
       "      <td>-0.101168</td>\n",
       "      <td>-0.994869</td>\n",
       "      <td>...</td>\n",
       "      <td>0</td>\n",
       "      <td>0</td>\n",
       "      <td>0</td>\n",
       "      <td>1</td>\n",
       "      <td>47.995714</td>\n",
       "      <td>48.281429</td>\n",
       "      <td>48.648572</td>\n",
       "      <td>48.934286</td>\n",
       "      <td>4.211560</td>\n",
       "      <td>554.729370</td>\n",
       "    </tr>\n",
       "    <tr>\n",
       "      <th>2017-08-18</th>\n",
       "      <td>1.0</td>\n",
       "      <td>65.0</td>\n",
       "      <td>1.0</td>\n",
       "      <td>0.0</td>\n",
       "      <td>0.0</td>\n",
       "      <td>0.0</td>\n",
       "      <td>0.0</td>\n",
       "      <td>0.0</td>\n",
       "      <td>-0.299363</td>\n",
       "      <td>-0.954139</td>\n",
       "      <td>...</td>\n",
       "      <td>0</td>\n",
       "      <td>0</td>\n",
       "      <td>0</td>\n",
       "      <td>1</td>\n",
       "      <td>47.852857</td>\n",
       "      <td>47.995714</td>\n",
       "      <td>48.281429</td>\n",
       "      <td>48.648572</td>\n",
       "      <td>7.731201</td>\n",
       "      <td>541.364746</td>\n",
       "    </tr>\n",
       "    <tr>\n",
       "      <th>2017-08-19</th>\n",
       "      <td>1.0</td>\n",
       "      <td>66.0</td>\n",
       "      <td>0.0</td>\n",
       "      <td>1.0</td>\n",
       "      <td>0.0</td>\n",
       "      <td>0.0</td>\n",
       "      <td>0.0</td>\n",
       "      <td>0.0</td>\n",
       "      <td>-0.485302</td>\n",
       "      <td>-0.874347</td>\n",
       "      <td>...</td>\n",
       "      <td>0</td>\n",
       "      <td>0</td>\n",
       "      <td>0</td>\n",
       "      <td>1</td>\n",
       "      <td>NaN</td>\n",
       "      <td>47.852857</td>\n",
       "      <td>47.995714</td>\n",
       "      <td>48.281429</td>\n",
       "      <td>4.833895</td>\n",
       "      <td>408.568176</td>\n",
       "    </tr>\n",
       "    <tr>\n",
       "      <th>2017-08-20</th>\n",
       "      <td>1.0</td>\n",
       "      <td>67.0</td>\n",
       "      <td>0.0</td>\n",
       "      <td>0.0</td>\n",
       "      <td>1.0</td>\n",
       "      <td>0.0</td>\n",
       "      <td>0.0</td>\n",
       "      <td>0.0</td>\n",
       "      <td>-0.651372</td>\n",
       "      <td>-0.758758</td>\n",
       "      <td>...</td>\n",
       "      <td>0</td>\n",
       "      <td>0</td>\n",
       "      <td>0</td>\n",
       "      <td>1</td>\n",
       "      <td>NaN</td>\n",
       "      <td>NaN</td>\n",
       "      <td>47.852857</td>\n",
       "      <td>47.995714</td>\n",
       "      <td>5.338384</td>\n",
       "      <td>464.520599</td>\n",
       "    </tr>\n",
       "  </tbody>\n",
       "</table>\n",
       "<p>5 rows × 37 columns</p>\n",
       "</div>"
      ],
      "text/plain": [
       "            const  trend  s(2,7)  s(3,7)  s(4,7)  s(5,7)  s(6,7)  s(7,7)  \\\n",
       "date                                                                       \n",
       "2017-08-16    1.0   63.0     0.0     0.0     0.0     0.0     0.0     1.0   \n",
       "2017-08-17    1.0   64.0     0.0     0.0     0.0     0.0     0.0     0.0   \n",
       "2017-08-18    1.0   65.0     1.0     0.0     0.0     0.0     0.0     0.0   \n",
       "2017-08-19    1.0   66.0     0.0     1.0     0.0     0.0     0.0     0.0   \n",
       "2017-08-20    1.0   67.0     0.0     0.0     1.0     0.0     0.0     0.0   \n",
       "\n",
       "            sin(1,freq=M)  cos(1,freq=M)  ...  type_Holiday  type_Transfer  \\\n",
       "date                                      ...                                \n",
       "2017-08-16       0.101168      -0.994869  ...             0              0   \n",
       "2017-08-17      -0.101168      -0.994869  ...             0              0   \n",
       "2017-08-18      -0.299363      -0.954139  ...             0              0   \n",
       "2017-08-19      -0.485302      -0.874347  ...             0              0   \n",
       "2017-08-20      -0.651372      -0.758758  ...             0              0   \n",
       "\n",
       "            type_Work Day  school_season        Oil  oil_lags1  oil_lags2  \\\n",
       "date                                                                        \n",
       "2017-08-16              0              1  48.281429  48.648572  48.934286   \n",
       "2017-08-17              0              1  47.995714  48.281429  48.648572   \n",
       "2017-08-18              0              1  47.852857  47.995714  48.281429   \n",
       "2017-08-19              0              1        NaN  47.852857  47.995714   \n",
       "2017-08-20              0              1        NaN        NaN  47.852857   \n",
       "\n",
       "            oil_lags3  Onpromotion   salesLag7  \n",
       "date                                            \n",
       "2017-08-16        NaN    17.137486  497.113831  \n",
       "2017-08-17  48.934286     4.211560  554.729370  \n",
       "2017-08-18  48.648572     7.731201  541.364746  \n",
       "2017-08-19  48.281429     4.833895  408.568176  \n",
       "2017-08-20  47.995714     5.338384  464.520599  \n",
       "\n",
       "[5 rows x 37 columns]"
      ]
     },
     "execution_count": 31,
     "metadata": {},
     "output_type": "execute_result"
    }
   ],
   "source": [
    "X_test1.head()"
   ]
  },
  {
   "cell_type": "code",
   "execution_count": 32,
   "id": "92a58867",
   "metadata": {
    "execution": {
     "iopub.execute_input": "2023-05-29T19:36:12.262770Z",
     "iopub.status.busy": "2023-05-29T19:36:12.261279Z",
     "iopub.status.idle": "2023-05-29T19:36:12.265282Z",
     "shell.execute_reply": "2023-05-29T19:36:12.265841Z",
     "shell.execute_reply.started": "2023-05-29T18:17:37.296657Z"
    },
    "papermill": {
     "duration": 0.10516,
     "end_time": "2023-05-29T19:36:12.266052",
     "exception": false,
     "start_time": "2023-05-29T19:36:12.160892",
     "status": "completed"
    },
    "tags": []
   },
   "outputs": [],
   "source": [
    "X_test2 = X_test1.join( Xoil , on='date', rsuffix='RT').fillna(method = 'ffill')"
   ]
  },
  {
   "cell_type": "code",
   "execution_count": 33,
   "id": "838bf940",
   "metadata": {
    "execution": {
     "iopub.execute_input": "2023-05-29T19:36:12.461334Z",
     "iopub.status.busy": "2023-05-29T19:36:12.460269Z",
     "iopub.status.idle": "2023-05-29T19:36:12.496291Z",
     "shell.execute_reply": "2023-05-29T19:36:12.496896Z",
     "shell.execute_reply.started": "2023-05-29T18:17:37.299084Z"
    },
    "papermill": {
     "duration": 0.137047,
     "end_time": "2023-05-29T19:36:12.497086",
     "exception": false,
     "start_time": "2023-05-29T19:36:12.360039",
     "status": "completed"
    },
    "tags": []
   },
   "outputs": [
    {
     "data": {
      "text/html": [
       "<div>\n",
       "<style scoped>\n",
       "    .dataframe tbody tr th:only-of-type {\n",
       "        vertical-align: middle;\n",
       "    }\n",
       "\n",
       "    .dataframe tbody tr th {\n",
       "        vertical-align: top;\n",
       "    }\n",
       "\n",
       "    .dataframe thead th {\n",
       "        text-align: right;\n",
       "    }\n",
       "</style>\n",
       "<table border=\"1\" class=\"dataframe\">\n",
       "  <thead>\n",
       "    <tr style=\"text-align: right;\">\n",
       "      <th></th>\n",
       "      <th>const</th>\n",
       "      <th>trend</th>\n",
       "      <th>s(2,7)</th>\n",
       "      <th>s(3,7)</th>\n",
       "      <th>s(4,7)</th>\n",
       "      <th>s(5,7)</th>\n",
       "      <th>s(6,7)</th>\n",
       "      <th>s(7,7)</th>\n",
       "      <th>sin(1,freq=M)</th>\n",
       "      <th>cos(1,freq=M)</th>\n",
       "      <th>...</th>\n",
       "      <th>s(6,7)RT</th>\n",
       "      <th>s(7,7)RT</th>\n",
       "      <th>sin(1,freq=M)RT</th>\n",
       "      <th>cos(1,freq=M)RT</th>\n",
       "      <th>sin(2,freq=M)RT</th>\n",
       "      <th>cos(2,freq=M)RT</th>\n",
       "      <th>sin(3,freq=M)RT</th>\n",
       "      <th>cos(3,freq=M)RT</th>\n",
       "      <th>sin(4,freq=M)RT</th>\n",
       "      <th>cos(4,freq=M)RT</th>\n",
       "    </tr>\n",
       "    <tr>\n",
       "      <th>date</th>\n",
       "      <th></th>\n",
       "      <th></th>\n",
       "      <th></th>\n",
       "      <th></th>\n",
       "      <th></th>\n",
       "      <th></th>\n",
       "      <th></th>\n",
       "      <th></th>\n",
       "      <th></th>\n",
       "      <th></th>\n",
       "      <th></th>\n",
       "      <th></th>\n",
       "      <th></th>\n",
       "      <th></th>\n",
       "      <th></th>\n",
       "      <th></th>\n",
       "      <th></th>\n",
       "      <th></th>\n",
       "      <th></th>\n",
       "      <th></th>\n",
       "      <th></th>\n",
       "    </tr>\n",
       "  </thead>\n",
       "  <tbody>\n",
       "    <tr>\n",
       "      <th>2017-08-16</th>\n",
       "      <td>1.0</td>\n",
       "      <td>63.0</td>\n",
       "      <td>0.0</td>\n",
       "      <td>0.0</td>\n",
       "      <td>0.0</td>\n",
       "      <td>0.0</td>\n",
       "      <td>0.0</td>\n",
       "      <td>1.0</td>\n",
       "      <td>0.101168</td>\n",
       "      <td>-0.994869</td>\n",
       "      <td>...</td>\n",
       "      <td>0.0</td>\n",
       "      <td>0.0</td>\n",
       "      <td>0.101168</td>\n",
       "      <td>-0.994869</td>\n",
       "      <td>-0.201299</td>\n",
       "      <td>0.979530</td>\n",
       "      <td>0.299363</td>\n",
       "      <td>-0.954139</td>\n",
       "      <td>-0.394356</td>\n",
       "      <td>0.918958</td>\n",
       "    </tr>\n",
       "    <tr>\n",
       "      <th>2017-08-17</th>\n",
       "      <td>1.0</td>\n",
       "      <td>64.0</td>\n",
       "      <td>0.0</td>\n",
       "      <td>0.0</td>\n",
       "      <td>0.0</td>\n",
       "      <td>0.0</td>\n",
       "      <td>0.0</td>\n",
       "      <td>0.0</td>\n",
       "      <td>-0.101168</td>\n",
       "      <td>-0.994869</td>\n",
       "      <td>...</td>\n",
       "      <td>0.0</td>\n",
       "      <td>0.0</td>\n",
       "      <td>-0.101168</td>\n",
       "      <td>-0.994869</td>\n",
       "      <td>0.201299</td>\n",
       "      <td>0.979530</td>\n",
       "      <td>-0.299363</td>\n",
       "      <td>-0.954139</td>\n",
       "      <td>0.394356</td>\n",
       "      <td>0.918958</td>\n",
       "    </tr>\n",
       "    <tr>\n",
       "      <th>2017-08-18</th>\n",
       "      <td>1.0</td>\n",
       "      <td>65.0</td>\n",
       "      <td>1.0</td>\n",
       "      <td>0.0</td>\n",
       "      <td>0.0</td>\n",
       "      <td>0.0</td>\n",
       "      <td>0.0</td>\n",
       "      <td>0.0</td>\n",
       "      <td>-0.299363</td>\n",
       "      <td>-0.954139</td>\n",
       "      <td>...</td>\n",
       "      <td>0.0</td>\n",
       "      <td>0.0</td>\n",
       "      <td>-0.299363</td>\n",
       "      <td>-0.954139</td>\n",
       "      <td>0.571268</td>\n",
       "      <td>0.820763</td>\n",
       "      <td>-0.790776</td>\n",
       "      <td>-0.612106</td>\n",
       "      <td>0.937752</td>\n",
       "      <td>0.347305</td>\n",
       "    </tr>\n",
       "    <tr>\n",
       "      <th>2017-08-19</th>\n",
       "      <td>1.0</td>\n",
       "      <td>66.0</td>\n",
       "      <td>0.0</td>\n",
       "      <td>1.0</td>\n",
       "      <td>0.0</td>\n",
       "      <td>0.0</td>\n",
       "      <td>0.0</td>\n",
       "      <td>0.0</td>\n",
       "      <td>-0.485302</td>\n",
       "      <td>-0.874347</td>\n",
       "      <td>...</td>\n",
       "      <td>0.0</td>\n",
       "      <td>0.0</td>\n",
       "      <td>-0.299363</td>\n",
       "      <td>-0.954139</td>\n",
       "      <td>0.571268</td>\n",
       "      <td>0.820763</td>\n",
       "      <td>-0.790776</td>\n",
       "      <td>-0.612106</td>\n",
       "      <td>0.937752</td>\n",
       "      <td>0.347305</td>\n",
       "    </tr>\n",
       "    <tr>\n",
       "      <th>2017-08-20</th>\n",
       "      <td>1.0</td>\n",
       "      <td>67.0</td>\n",
       "      <td>0.0</td>\n",
       "      <td>0.0</td>\n",
       "      <td>1.0</td>\n",
       "      <td>0.0</td>\n",
       "      <td>0.0</td>\n",
       "      <td>0.0</td>\n",
       "      <td>-0.651372</td>\n",
       "      <td>-0.758758</td>\n",
       "      <td>...</td>\n",
       "      <td>0.0</td>\n",
       "      <td>0.0</td>\n",
       "      <td>-0.299363</td>\n",
       "      <td>-0.954139</td>\n",
       "      <td>0.571268</td>\n",
       "      <td>0.820763</td>\n",
       "      <td>-0.790776</td>\n",
       "      <td>-0.612106</td>\n",
       "      <td>0.937752</td>\n",
       "      <td>0.347305</td>\n",
       "    </tr>\n",
       "  </tbody>\n",
       "</table>\n",
       "<p>5 rows × 53 columns</p>\n",
       "</div>"
      ],
      "text/plain": [
       "            const  trend  s(2,7)  s(3,7)  s(4,7)  s(5,7)  s(6,7)  s(7,7)  \\\n",
       "date                                                                       \n",
       "2017-08-16    1.0   63.0     0.0     0.0     0.0     0.0     0.0     1.0   \n",
       "2017-08-17    1.0   64.0     0.0     0.0     0.0     0.0     0.0     0.0   \n",
       "2017-08-18    1.0   65.0     1.0     0.0     0.0     0.0     0.0     0.0   \n",
       "2017-08-19    1.0   66.0     0.0     1.0     0.0     0.0     0.0     0.0   \n",
       "2017-08-20    1.0   67.0     0.0     0.0     1.0     0.0     0.0     0.0   \n",
       "\n",
       "            sin(1,freq=M)  cos(1,freq=M)  ...  s(6,7)RT  s(7,7)RT  \\\n",
       "date                                      ...                       \n",
       "2017-08-16       0.101168      -0.994869  ...       0.0       0.0   \n",
       "2017-08-17      -0.101168      -0.994869  ...       0.0       0.0   \n",
       "2017-08-18      -0.299363      -0.954139  ...       0.0       0.0   \n",
       "2017-08-19      -0.485302      -0.874347  ...       0.0       0.0   \n",
       "2017-08-20      -0.651372      -0.758758  ...       0.0       0.0   \n",
       "\n",
       "            sin(1,freq=M)RT  cos(1,freq=M)RT  sin(2,freq=M)RT  \\\n",
       "date                                                            \n",
       "2017-08-16         0.101168        -0.994869        -0.201299   \n",
       "2017-08-17        -0.101168        -0.994869         0.201299   \n",
       "2017-08-18        -0.299363        -0.954139         0.571268   \n",
       "2017-08-19        -0.299363        -0.954139         0.571268   \n",
       "2017-08-20        -0.299363        -0.954139         0.571268   \n",
       "\n",
       "            cos(2,freq=M)RT  sin(3,freq=M)RT  cos(3,freq=M)RT  \\\n",
       "date                                                            \n",
       "2017-08-16         0.979530         0.299363        -0.954139   \n",
       "2017-08-17         0.979530        -0.299363        -0.954139   \n",
       "2017-08-18         0.820763        -0.790776        -0.612106   \n",
       "2017-08-19         0.820763        -0.790776        -0.612106   \n",
       "2017-08-20         0.820763        -0.790776        -0.612106   \n",
       "\n",
       "            sin(4,freq=M)RT  cos(4,freq=M)RT  \n",
       "date                                          \n",
       "2017-08-16        -0.394356         0.918958  \n",
       "2017-08-17         0.394356         0.918958  \n",
       "2017-08-18         0.937752         0.347305  \n",
       "2017-08-19         0.937752         0.347305  \n",
       "2017-08-20         0.937752         0.347305  \n",
       "\n",
       "[5 rows x 53 columns]"
      ]
     },
     "execution_count": 33,
     "metadata": {},
     "output_type": "execute_result"
    }
   ],
   "source": [
    "X_test2.fillna(method='ffill', inplace=True)\n",
    "X_test2.fillna(method='bfill', inplace=True)\n",
    "\n",
    "X_test2.head()"
   ]
  },
  {
   "cell_type": "code",
   "execution_count": 34,
   "id": "e0677e75",
   "metadata": {
    "execution": {
     "iopub.execute_input": "2023-05-29T19:36:12.692953Z",
     "iopub.status.busy": "2023-05-29T19:36:12.691893Z",
     "iopub.status.idle": "2023-05-29T19:40:45.388605Z",
     "shell.execute_reply": "2023-05-29T19:40:45.387982Z",
     "shell.execute_reply.started": "2023-05-29T18:17:37.302530Z"
    },
    "papermill": {
     "duration": 272.796531,
     "end_time": "2023-05-29T19:40:45.388780",
     "exception": false,
     "start_time": "2023-05-29T19:36:12.592249",
     "status": "completed"
    },
    "tags": []
   },
   "outputs": [
    {
     "name": "stdout",
     "output_type": "stream",
     "text": [
      "Predict Progress\n"
     ]
    },
    {
     "data": {
      "application/vnd.jupyter.widget-view+json": {
       "model_id": "47f94d7faffb407c9bd39be5c89124c5",
       "version_major": 2,
       "version_minor": 0
      },
      "text/plain": [
       "  0%|          | 0/3564 [00:00<?, ?it/s]"
      ]
     },
     "metadata": {},
     "output_type": "display_data"
    },
    {
     "name": "stdout",
     "output_type": "stream",
     "text": [
      "(16, 3564) \n",
      "  (16, 3564)\n"
     ]
    }
   ],
   "source": [
    "y_pred1 = modelB.predict(X_test2)\n",
    "y_pred2 = modelRF.predict(X_test2)\n",
    "\n",
    "print(y_pred1.shape, '\\n ',  y_pred2.shape)"
   ]
  },
  {
   "cell_type": "code",
   "execution_count": 35,
   "id": "2dd60c10",
   "metadata": {
    "execution": {
     "iopub.execute_input": "2023-05-29T19:40:45.586799Z",
     "iopub.status.busy": "2023-05-29T19:40:45.586020Z",
     "iopub.status.idle": "2023-05-29T19:40:45.589688Z",
     "shell.execute_reply": "2023-05-29T19:40:45.588930Z",
     "shell.execute_reply.started": "2023-05-29T18:17:37.304641Z"
    },
    "papermill": {
     "duration": 0.104257,
     "end_time": "2023-05-29T19:40:45.589862",
     "exception": false,
     "start_time": "2023-05-29T19:40:45.485605",
     "status": "completed"
    },
    "tags": []
   },
   "outputs": [],
   "source": [
    "y_final = y_pred2 + y_pred1\n"
   ]
  },
  {
   "cell_type": "markdown",
   "id": "f08ccf50",
   "metadata": {
    "papermill": {
     "duration": 0.096429,
     "end_time": "2023-05-29T19:40:45.784219",
     "exception": false,
     "start_time": "2023-05-29T19:40:45.687790",
     "status": "completed"
    },
    "tags": []
   },
   "source": [
    "## Creation Submit\n",
    "\n"
   ]
  },
  {
   "cell_type": "code",
   "execution_count": 36,
   "id": "cabc47a4",
   "metadata": {
    "execution": {
     "iopub.execute_input": "2023-05-29T19:40:45.978790Z",
     "iopub.status.busy": "2023-05-29T19:40:45.978001Z",
     "iopub.status.idle": "2023-05-29T19:40:46.478778Z",
     "shell.execute_reply": "2023-05-29T19:40:46.479379Z",
     "shell.execute_reply.started": "2023-05-29T18:17:37.307630Z"
    },
    "papermill": {
     "duration": 0.600243,
     "end_time": "2023-05-29T19:40:46.479609",
     "exception": false,
     "start_time": "2023-05-29T19:40:45.879366",
     "status": "completed"
    },
    "tags": []
   },
   "outputs": [
    {
     "name": "stdout",
     "output_type": "stream",
     "text": [
      "Done\n"
     ]
    }
   ],
   "source": [
    "y_submit = pd.DataFrame(y_final, index=X_test2.index, columns=y.columns)\n",
    "\n",
    "#y_submit = pd.DataFrame(model.predict(X_test2), index = X_test2.index, columns = y.columns).clip(0.)\n",
    "\n",
    "y_submit = y_submit.stack(['store_nbr', 'family'])\n",
    "y_submit = y_submit.join(df_test.id).reindex(columns=['id', 'sales'])\n",
    "y_submit.to_csv('submission.csv', index=False)\n",
    "print('Done')"
   ]
  },
  {
   "cell_type": "markdown",
   "id": "2a5e7dbf",
   "metadata": {
    "execution": {
     "iopub.execute_input": "2022-05-13T00:46:44.238365Z",
     "iopub.status.busy": "2022-05-13T00:46:44.237872Z",
     "iopub.status.idle": "2022-05-13T00:46:44.251793Z",
     "shell.execute_reply": "2022-05-13T00:46:44.250084Z",
     "shell.execute_reply.started": "2022-05-13T00:46:44.238303Z"
    },
    "papermill": {
     "duration": 0.095356,
     "end_time": "2023-05-29T19:40:46.671739",
     "exception": false,
     "start_time": "2023-05-29T19:40:46.576383",
     "status": "completed"
    },
    "tags": []
   },
   "source": [
    "File submit."
   ]
  },
  {
   "cell_type": "markdown",
   "id": "83229f24",
   "metadata": {
    "papermill": {
     "duration": 0.095353,
     "end_time": "2023-05-29T19:40:46.862099",
     "exception": false,
     "start_time": "2023-05-29T19:40:46.766746",
     "status": "completed"
    },
    "tags": []
   },
   "source": [
    "# **Data Processing** #"
   ]
  },
  {
   "cell_type": "code",
   "execution_count": 37,
   "id": "8284efc4",
   "metadata": {
    "execution": {
     "iopub.execute_input": "2023-05-29T19:40:47.064215Z",
     "iopub.status.busy": "2023-05-29T19:40:47.063027Z",
     "iopub.status.idle": "2023-05-29T19:40:47.065129Z",
     "shell.execute_reply": "2023-05-29T19:40:47.065765Z",
     "shell.execute_reply.started": "2023-05-29T18:17:37.309574Z"
    },
    "papermill": {
     "duration": 0.107169,
     "end_time": "2023-05-29T19:40:47.065959",
     "exception": false,
     "start_time": "2023-05-29T19:40:46.958790",
     "status": "completed"
    },
    "tags": []
   },
   "outputs": [],
   "source": [
    "## Stratified ##\n",
    "#from sklearn.model_selection import StratifiedShuffleSplit\n",
    "#split = StratifiedShuffleSplit(n_splits=1, test_size=0.2, random_state=42)\n",
    "#for train_index, test_index in split.split(data, data[\"variableStratificada\"]):\n",
    "#strat_train_set = housing.loc[train_index]\n",
    "#strat_test_set = housing.loc[test_index]\n",
    "\n",
    "#from  sklearn.impute import SimpleImputer\n",
    "#imputer = SimpleImputer(strategy='median')\n",
    "\n",
    "#from  sklearn.preprocessing import OneHotEncoder\n",
    "#catEncoder = OneHotEncoder()\n",
    "\n",
    "## numerical ##\n",
    "#from  sklearn.pipeline import Pipeline\n",
    "#from  sklearn.preprocessing import StandardScaler\n",
    "#numerical_pipeline = Pipeline([('imputer', SimpleImputer(strategy=\"median\")),('attribs_adder', CombinedAttributesAdder()),])\n",
    "# new_variable_transformed_numerical = num_pipeline.fit_transform(varible_numerica)\n",
    "\n",
    "## numerical and categorial ##\n",
    "#from sklearn import ColumnTransformer\n",
    "#numerical_attribs = list(numerical_columns)\n",
    "#categorical_attribs = list(categorial_columns)\n",
    "#full_pipeline = ColumnTransformer([(\"num\", numerical_pipeline, numerical_attribs),(\"cat\", OneHotEncoder(), categorical_attribs),])\n",
    "#dataTotal_prepared = full_pipeline.fit_transform(dataTotal) "
   ]
  }
 ],
 "metadata": {
  "kernelspec": {
   "display_name": "Python 3",
   "language": "python",
   "name": "python3"
  },
  "language_info": {
   "codemirror_mode": {
    "name": "ipython",
    "version": 3
   },
   "file_extension": ".py",
   "mimetype": "text/x-python",
   "name": "python",
   "nbconvert_exporter": "python",
   "pygments_lexer": "ipython3",
   "version": "3.7.12"
  },
  "papermill": {
   "default_parameters": {},
   "duration": 973.760413,
   "end_time": "2023-05-29T19:40:49.484219",
   "environment_variables": {},
   "exception": null,
   "input_path": "__notebook__.ipynb",
   "output_path": "__notebook__.ipynb",
   "parameters": {},
   "start_time": "2023-05-29T19:24:35.723806",
   "version": "2.3.3"
  },
  "widgets": {
   "application/vnd.jupyter.widget-state+json": {
    "state": {
     "02a29313c0fa4e1d8ce27cd3d07e6b61": {
      "model_module": "@jupyter-widgets/controls",
      "model_module_version": "1.5.0",
      "model_name": "DescriptionStyleModel",
      "state": {
       "_model_module": "@jupyter-widgets/controls",
       "_model_module_version": "1.5.0",
       "_model_name": "DescriptionStyleModel",
       "_view_count": null,
       "_view_module": "@jupyter-widgets/base",
       "_view_module_version": "1.2.0",
       "_view_name": "StyleView",
       "description_width": ""
      }
     },
     "066b0e84ff58441992fb1f4614c9b669": {
      "model_module": "@jupyter-widgets/controls",
      "model_module_version": "1.5.0",
      "model_name": "DescriptionStyleModel",
      "state": {
       "_model_module": "@jupyter-widgets/controls",
       "_model_module_version": "1.5.0",
       "_model_name": "DescriptionStyleModel",
       "_view_count": null,
       "_view_module": "@jupyter-widgets/base",
       "_view_module_version": "1.2.0",
       "_view_name": "StyleView",
       "description_width": ""
      }
     },
     "0f5e8a5181e14d1db892b3fb543fba86": {
      "model_module": "@jupyter-widgets/controls",
      "model_module_version": "1.5.0",
      "model_name": "HTMLModel",
      "state": {
       "_dom_classes": [],
       "_model_module": "@jupyter-widgets/controls",
       "_model_module_version": "1.5.0",
       "_model_name": "HTMLModel",
       "_view_count": null,
       "_view_module": "@jupyter-widgets/controls",
       "_view_module_version": "1.5.0",
       "_view_name": "HTMLView",
       "description": "",
       "description_tooltip": null,
       "layout": "IPY_MODEL_b3c9e35febc74accbf65a714db22182b",
       "placeholder": "​",
       "style": "IPY_MODEL_d7b0a049254d4a4480a3b729794da8ac",
       "value": " 3564/3564 [04:29&lt;00:00, 16.11it/s]"
      }
     },
     "130559224e16451bb8bd70752cb0917e": {
      "model_module": "@jupyter-widgets/controls",
      "model_module_version": "1.5.0",
      "model_name": "ProgressStyleModel",
      "state": {
       "_model_module": "@jupyter-widgets/controls",
       "_model_module_version": "1.5.0",
       "_model_name": "ProgressStyleModel",
       "_view_count": null,
       "_view_module": "@jupyter-widgets/base",
       "_view_module_version": "1.2.0",
       "_view_name": "StyleView",
       "bar_color": null,
       "description_width": ""
      }
     },
     "17d80ac59a334fc396bb700977dc726d": {
      "model_module": "@jupyter-widgets/controls",
      "model_module_version": "1.5.0",
      "model_name": "HTMLModel",
      "state": {
       "_dom_classes": [],
       "_model_module": "@jupyter-widgets/controls",
       "_model_module_version": "1.5.0",
       "_model_name": "HTMLModel",
       "_view_count": null,
       "_view_module": "@jupyter-widgets/controls",
       "_view_module_version": "1.5.0",
       "_view_name": "HTMLView",
       "description": "",
       "description_tooltip": null,
       "layout": "IPY_MODEL_32e69c76ba234be9a90f5675634cfac6",
       "placeholder": "​",
       "style": "IPY_MODEL_066b0e84ff58441992fb1f4614c9b669",
       "value": "100%"
      }
     },
     "245ccd52a217467f99e324ffadd1357a": {
      "model_module": "@jupyter-widgets/base",
      "model_module_version": "1.2.0",
      "model_name": "LayoutModel",
      "state": {
       "_model_module": "@jupyter-widgets/base",
       "_model_module_version": "1.2.0",
       "_model_name": "LayoutModel",
       "_view_count": null,
       "_view_module": "@jupyter-widgets/base",
       "_view_module_version": "1.2.0",
       "_view_name": "LayoutView",
       "align_content": null,
       "align_items": null,
       "align_self": null,
       "border": null,
       "bottom": null,
       "display": null,
       "flex": null,
       "flex_flow": null,
       "grid_area": null,
       "grid_auto_columns": null,
       "grid_auto_flow": null,
       "grid_auto_rows": null,
       "grid_column": null,
       "grid_gap": null,
       "grid_row": null,
       "grid_template_areas": null,
       "grid_template_columns": null,
       "grid_template_rows": null,
       "height": null,
       "justify_content": null,
       "justify_items": null,
       "left": null,
       "margin": null,
       "max_height": null,
       "max_width": null,
       "min_height": null,
       "min_width": null,
       "object_fit": null,
       "object_position": null,
       "order": null,
       "overflow": null,
       "overflow_x": null,
       "overflow_y": null,
       "padding": null,
       "right": null,
       "top": null,
       "visibility": null,
       "width": null
      }
     },
     "32e69c76ba234be9a90f5675634cfac6": {
      "model_module": "@jupyter-widgets/base",
      "model_module_version": "1.2.0",
      "model_name": "LayoutModel",
      "state": {
       "_model_module": "@jupyter-widgets/base",
       "_model_module_version": "1.2.0",
       "_model_name": "LayoutModel",
       "_view_count": null,
       "_view_module": "@jupyter-widgets/base",
       "_view_module_version": "1.2.0",
       "_view_name": "LayoutView",
       "align_content": null,
       "align_items": null,
       "align_self": null,
       "border": null,
       "bottom": null,
       "display": null,
       "flex": null,
       "flex_flow": null,
       "grid_area": null,
       "grid_auto_columns": null,
       "grid_auto_flow": null,
       "grid_auto_rows": null,
       "grid_column": null,
       "grid_gap": null,
       "grid_row": null,
       "grid_template_areas": null,
       "grid_template_columns": null,
       "grid_template_rows": null,
       "height": null,
       "justify_content": null,
       "justify_items": null,
       "left": null,
       "margin": null,
       "max_height": null,
       "max_width": null,
       "min_height": null,
       "min_width": null,
       "object_fit": null,
       "object_position": null,
       "order": null,
       "overflow": null,
       "overflow_x": null,
       "overflow_y": null,
       "padding": null,
       "right": null,
       "top": null,
       "visibility": null,
       "width": null
      }
     },
     "34a86507ef6c429d9eead8954316b5d8": {
      "model_module": "@jupyter-widgets/controls",
      "model_module_version": "1.5.0",
      "model_name": "HTMLModel",
      "state": {
       "_dom_classes": [],
       "_model_module": "@jupyter-widgets/controls",
       "_model_module_version": "1.5.0",
       "_model_name": "HTMLModel",
       "_view_count": null,
       "_view_module": "@jupyter-widgets/controls",
       "_view_module_version": "1.5.0",
       "_view_name": "HTMLView",
       "description": "",
       "description_tooltip": null,
       "layout": "IPY_MODEL_b2d9dd642de94309a1609cef25f2dacf",
       "placeholder": "​",
       "style": "IPY_MODEL_f4979d37c343493c9f17fddedd8e94c8",
       "value": " 3564/3564 [06:11&lt;00:00, 11.03it/s]"
      }
     },
     "3c22b3afc3174e73bff7816e9bfc5e78": {
      "model_module": "@jupyter-widgets/controls",
      "model_module_version": "1.5.0",
      "model_name": "FloatProgressModel",
      "state": {
       "_dom_classes": [],
       "_model_module": "@jupyter-widgets/controls",
       "_model_module_version": "1.5.0",
       "_model_name": "FloatProgressModel",
       "_view_count": null,
       "_view_module": "@jupyter-widgets/controls",
       "_view_module_version": "1.5.0",
       "_view_name": "ProgressView",
       "bar_style": "success",
       "description": "",
       "description_tooltip": null,
       "layout": "IPY_MODEL_c154dcccd4824e45858f259e028c2821",
       "max": 3564.0,
       "min": 0.0,
       "orientation": "horizontal",
       "style": "IPY_MODEL_c4f5e591776f4724a96dc48ed590755c",
       "value": 3564.0
      }
     },
     "47f94d7faffb407c9bd39be5c89124c5": {
      "model_module": "@jupyter-widgets/controls",
      "model_module_version": "1.5.0",
      "model_name": "HBoxModel",
      "state": {
       "_dom_classes": [],
       "_model_module": "@jupyter-widgets/controls",
       "_model_module_version": "1.5.0",
       "_model_name": "HBoxModel",
       "_view_count": null,
       "_view_module": "@jupyter-widgets/controls",
       "_view_module_version": "1.5.0",
       "_view_name": "HBoxView",
       "box_style": "",
       "children": [
        "IPY_MODEL_68d844aeb9b54c6e9eac94b23960e7b8",
        "IPY_MODEL_bf1fb31e93c141a9bcef24dc2a3abc60",
        "IPY_MODEL_0f5e8a5181e14d1db892b3fb543fba86"
       ],
       "layout": "IPY_MODEL_245ccd52a217467f99e324ffadd1357a"
      }
     },
     "53087553d7854dadbb54a29cacd7925d": {
      "model_module": "@jupyter-widgets/base",
      "model_module_version": "1.2.0",
      "model_name": "LayoutModel",
      "state": {
       "_model_module": "@jupyter-widgets/base",
       "_model_module_version": "1.2.0",
       "_model_name": "LayoutModel",
       "_view_count": null,
       "_view_module": "@jupyter-widgets/base",
       "_view_module_version": "1.2.0",
       "_view_name": "LayoutView",
       "align_content": null,
       "align_items": null,
       "align_self": null,
       "border": null,
       "bottom": null,
       "display": null,
       "flex": null,
       "flex_flow": null,
       "grid_area": null,
       "grid_auto_columns": null,
       "grid_auto_flow": null,
       "grid_auto_rows": null,
       "grid_column": null,
       "grid_gap": null,
       "grid_row": null,
       "grid_template_areas": null,
       "grid_template_columns": null,
       "grid_template_rows": null,
       "height": null,
       "justify_content": null,
       "justify_items": null,
       "left": null,
       "margin": null,
       "max_height": null,
       "max_width": null,
       "min_height": null,
       "min_width": null,
       "object_fit": null,
       "object_position": null,
       "order": null,
       "overflow": null,
       "overflow_x": null,
       "overflow_y": null,
       "padding": null,
       "right": null,
       "top": null,
       "visibility": null,
       "width": null
      }
     },
     "5fef03c2ec55484da26802e3effc2c11": {
      "model_module": "@jupyter-widgets/base",
      "model_module_version": "1.2.0",
      "model_name": "LayoutModel",
      "state": {
       "_model_module": "@jupyter-widgets/base",
       "_model_module_version": "1.2.0",
       "_model_name": "LayoutModel",
       "_view_count": null,
       "_view_module": "@jupyter-widgets/base",
       "_view_module_version": "1.2.0",
       "_view_name": "LayoutView",
       "align_content": null,
       "align_items": null,
       "align_self": null,
       "border": null,
       "bottom": null,
       "display": null,
       "flex": null,
       "flex_flow": null,
       "grid_area": null,
       "grid_auto_columns": null,
       "grid_auto_flow": null,
       "grid_auto_rows": null,
       "grid_column": null,
       "grid_gap": null,
       "grid_row": null,
       "grid_template_areas": null,
       "grid_template_columns": null,
       "grid_template_rows": null,
       "height": null,
       "justify_content": null,
       "justify_items": null,
       "left": null,
       "margin": null,
       "max_height": null,
       "max_width": null,
       "min_height": null,
       "min_width": null,
       "object_fit": null,
       "object_position": null,
       "order": null,
       "overflow": null,
       "overflow_x": null,
       "overflow_y": null,
       "padding": null,
       "right": null,
       "top": null,
       "visibility": null,
       "width": null
      }
     },
     "63037ba249f947ee9dcdc78604276063": {
      "model_module": "@jupyter-widgets/controls",
      "model_module_version": "1.5.0",
      "model_name": "ProgressStyleModel",
      "state": {
       "_model_module": "@jupyter-widgets/controls",
       "_model_module_version": "1.5.0",
       "_model_name": "ProgressStyleModel",
       "_view_count": null,
       "_view_module": "@jupyter-widgets/base",
       "_view_module_version": "1.2.0",
       "_view_name": "StyleView",
       "bar_color": null,
       "description_width": ""
      }
     },
     "68d844aeb9b54c6e9eac94b23960e7b8": {
      "model_module": "@jupyter-widgets/controls",
      "model_module_version": "1.5.0",
      "model_name": "HTMLModel",
      "state": {
       "_dom_classes": [],
       "_model_module": "@jupyter-widgets/controls",
       "_model_module_version": "1.5.0",
       "_model_name": "HTMLModel",
       "_view_count": null,
       "_view_module": "@jupyter-widgets/controls",
       "_view_module_version": "1.5.0",
       "_view_name": "HTMLView",
       "description": "",
       "description_tooltip": null,
       "layout": "IPY_MODEL_e41c6cfea7a242ac8473c85ffa82a78c",
       "placeholder": "​",
       "style": "IPY_MODEL_02a29313c0fa4e1d8ce27cd3d07e6b61",
       "value": "100%"
      }
     },
     "72c62504365548389fa367730ab606c6": {
      "model_module": "@jupyter-widgets/controls",
      "model_module_version": "1.5.0",
      "model_name": "FloatProgressModel",
      "state": {
       "_dom_classes": [],
       "_model_module": "@jupyter-widgets/controls",
       "_model_module_version": "1.5.0",
       "_model_name": "FloatProgressModel",
       "_view_count": null,
       "_view_module": "@jupyter-widgets/controls",
       "_view_module_version": "1.5.0",
       "_view_name": "ProgressView",
       "bar_style": "success",
       "description": "",
       "description_tooltip": null,
       "layout": "IPY_MODEL_fb6b841a87dd4333acb6e83fa6e23307",
       "max": 3564.0,
       "min": 0.0,
       "orientation": "horizontal",
       "style": "IPY_MODEL_130559224e16451bb8bd70752cb0917e",
       "value": 3564.0
      }
     },
     "8b6d4f7c8d4b4806b7fd0ebfe25a921f": {
      "model_module": "@jupyter-widgets/controls",
      "model_module_version": "1.5.0",
      "model_name": "HBoxModel",
      "state": {
       "_dom_classes": [],
       "_model_module": "@jupyter-widgets/controls",
       "_model_module_version": "1.5.0",
       "_model_name": "HBoxModel",
       "_view_count": null,
       "_view_module": "@jupyter-widgets/controls",
       "_view_module_version": "1.5.0",
       "_view_name": "HBoxView",
       "box_style": "",
       "children": [
        "IPY_MODEL_17d80ac59a334fc396bb700977dc726d",
        "IPY_MODEL_72c62504365548389fa367730ab606c6",
        "IPY_MODEL_34a86507ef6c429d9eead8954316b5d8"
       ],
       "layout": "IPY_MODEL_5fef03c2ec55484da26802e3effc2c11"
      }
     },
     "98a9546d139f4331924346f115313a57": {
      "model_module": "@jupyter-widgets/controls",
      "model_module_version": "1.5.0",
      "model_name": "HTMLModel",
      "state": {
       "_dom_classes": [],
       "_model_module": "@jupyter-widgets/controls",
       "_model_module_version": "1.5.0",
       "_model_name": "HTMLModel",
       "_view_count": null,
       "_view_module": "@jupyter-widgets/controls",
       "_view_module_version": "1.5.0",
       "_view_name": "HTMLView",
       "description": "",
       "description_tooltip": null,
       "layout": "IPY_MODEL_e4deae9f59754af9b7891d3a4862f0b6",
       "placeholder": "​",
       "style": "IPY_MODEL_eef1893f6e00472f8c1a5906584879a1",
       "value": "100%"
      }
     },
     "9ff2602382e742789441592bc43fe7b3": {
      "model_module": "@jupyter-widgets/base",
      "model_module_version": "1.2.0",
      "model_name": "LayoutModel",
      "state": {
       "_model_module": "@jupyter-widgets/base",
       "_model_module_version": "1.2.0",
       "_model_name": "LayoutModel",
       "_view_count": null,
       "_view_module": "@jupyter-widgets/base",
       "_view_module_version": "1.2.0",
       "_view_name": "LayoutView",
       "align_content": null,
       "align_items": null,
       "align_self": null,
       "border": null,
       "bottom": null,
       "display": null,
       "flex": null,
       "flex_flow": null,
       "grid_area": null,
       "grid_auto_columns": null,
       "grid_auto_flow": null,
       "grid_auto_rows": null,
       "grid_column": null,
       "grid_gap": null,
       "grid_row": null,
       "grid_template_areas": null,
       "grid_template_columns": null,
       "grid_template_rows": null,
       "height": null,
       "justify_content": null,
       "justify_items": null,
       "left": null,
       "margin": null,
       "max_height": null,
       "max_width": null,
       "min_height": null,
       "min_width": null,
       "object_fit": null,
       "object_position": null,
       "order": null,
       "overflow": null,
       "overflow_x": null,
       "overflow_y": null,
       "padding": null,
       "right": null,
       "top": null,
       "visibility": null,
       "width": null
      }
     },
     "aeab8a4c514f434d970c93de507c96ec": {
      "model_module": "@jupyter-widgets/controls",
      "model_module_version": "1.5.0",
      "model_name": "HTMLModel",
      "state": {
       "_dom_classes": [],
       "_model_module": "@jupyter-widgets/controls",
       "_model_module_version": "1.5.0",
       "_model_name": "HTMLModel",
       "_view_count": null,
       "_view_module": "@jupyter-widgets/controls",
       "_view_module_version": "1.5.0",
       "_view_name": "HTMLView",
       "description": "",
       "description_tooltip": null,
       "layout": "IPY_MODEL_53087553d7854dadbb54a29cacd7925d",
       "placeholder": "​",
       "style": "IPY_MODEL_eb54aa3dc89f422bb31ad2ee73da9813",
       "value": " 3564/3564 [04:27&lt;00:00, 12.11it/s]"
      }
     },
     "b2d9dd642de94309a1609cef25f2dacf": {
      "model_module": "@jupyter-widgets/base",
      "model_module_version": "1.2.0",
      "model_name": "LayoutModel",
      "state": {
       "_model_module": "@jupyter-widgets/base",
       "_model_module_version": "1.2.0",
       "_model_name": "LayoutModel",
       "_view_count": null,
       "_view_module": "@jupyter-widgets/base",
       "_view_module_version": "1.2.0",
       "_view_name": "LayoutView",
       "align_content": null,
       "align_items": null,
       "align_self": null,
       "border": null,
       "bottom": null,
       "display": null,
       "flex": null,
       "flex_flow": null,
       "grid_area": null,
       "grid_auto_columns": null,
       "grid_auto_flow": null,
       "grid_auto_rows": null,
       "grid_column": null,
       "grid_gap": null,
       "grid_row": null,
       "grid_template_areas": null,
       "grid_template_columns": null,
       "grid_template_rows": null,
       "height": null,
       "justify_content": null,
       "justify_items": null,
       "left": null,
       "margin": null,
       "max_height": null,
       "max_width": null,
       "min_height": null,
       "min_width": null,
       "object_fit": null,
       "object_position": null,
       "order": null,
       "overflow": null,
       "overflow_x": null,
       "overflow_y": null,
       "padding": null,
       "right": null,
       "top": null,
       "visibility": null,
       "width": null
      }
     },
     "b3c9e35febc74accbf65a714db22182b": {
      "model_module": "@jupyter-widgets/base",
      "model_module_version": "1.2.0",
      "model_name": "LayoutModel",
      "state": {
       "_model_module": "@jupyter-widgets/base",
       "_model_module_version": "1.2.0",
       "_model_name": "LayoutModel",
       "_view_count": null,
       "_view_module": "@jupyter-widgets/base",
       "_view_module_version": "1.2.0",
       "_view_name": "LayoutView",
       "align_content": null,
       "align_items": null,
       "align_self": null,
       "border": null,
       "bottom": null,
       "display": null,
       "flex": null,
       "flex_flow": null,
       "grid_area": null,
       "grid_auto_columns": null,
       "grid_auto_flow": null,
       "grid_auto_rows": null,
       "grid_column": null,
       "grid_gap": null,
       "grid_row": null,
       "grid_template_areas": null,
       "grid_template_columns": null,
       "grid_template_rows": null,
       "height": null,
       "justify_content": null,
       "justify_items": null,
       "left": null,
       "margin": null,
       "max_height": null,
       "max_width": null,
       "min_height": null,
       "min_width": null,
       "object_fit": null,
       "object_position": null,
       "order": null,
       "overflow": null,
       "overflow_x": null,
       "overflow_y": null,
       "padding": null,
       "right": null,
       "top": null,
       "visibility": null,
       "width": null
      }
     },
     "bf1fb31e93c141a9bcef24dc2a3abc60": {
      "model_module": "@jupyter-widgets/controls",
      "model_module_version": "1.5.0",
      "model_name": "FloatProgressModel",
      "state": {
       "_dom_classes": [],
       "_model_module": "@jupyter-widgets/controls",
       "_model_module_version": "1.5.0",
       "_model_name": "FloatProgressModel",
       "_view_count": null,
       "_view_module": "@jupyter-widgets/controls",
       "_view_module_version": "1.5.0",
       "_view_name": "ProgressView",
       "bar_style": "success",
       "description": "",
       "description_tooltip": null,
       "layout": "IPY_MODEL_e302db823a5c4748adbb6668372e1309",
       "max": 3564.0,
       "min": 0.0,
       "orientation": "horizontal",
       "style": "IPY_MODEL_63037ba249f947ee9dcdc78604276063",
       "value": 3564.0
      }
     },
     "c154dcccd4824e45858f259e028c2821": {
      "model_module": "@jupyter-widgets/base",
      "model_module_version": "1.2.0",
      "model_name": "LayoutModel",
      "state": {
       "_model_module": "@jupyter-widgets/base",
       "_model_module_version": "1.2.0",
       "_model_name": "LayoutModel",
       "_view_count": null,
       "_view_module": "@jupyter-widgets/base",
       "_view_module_version": "1.2.0",
       "_view_name": "LayoutView",
       "align_content": null,
       "align_items": null,
       "align_self": null,
       "border": null,
       "bottom": null,
       "display": null,
       "flex": null,
       "flex_flow": null,
       "grid_area": null,
       "grid_auto_columns": null,
       "grid_auto_flow": null,
       "grid_auto_rows": null,
       "grid_column": null,
       "grid_gap": null,
       "grid_row": null,
       "grid_template_areas": null,
       "grid_template_columns": null,
       "grid_template_rows": null,
       "height": null,
       "justify_content": null,
       "justify_items": null,
       "left": null,
       "margin": null,
       "max_height": null,
       "max_width": null,
       "min_height": null,
       "min_width": null,
       "object_fit": null,
       "object_position": null,
       "order": null,
       "overflow": null,
       "overflow_x": null,
       "overflow_y": null,
       "padding": null,
       "right": null,
       "top": null,
       "visibility": null,
       "width": null
      }
     },
     "c4f5e591776f4724a96dc48ed590755c": {
      "model_module": "@jupyter-widgets/controls",
      "model_module_version": "1.5.0",
      "model_name": "ProgressStyleModel",
      "state": {
       "_model_module": "@jupyter-widgets/controls",
       "_model_module_version": "1.5.0",
       "_model_name": "ProgressStyleModel",
       "_view_count": null,
       "_view_module": "@jupyter-widgets/base",
       "_view_module_version": "1.2.0",
       "_view_name": "StyleView",
       "bar_color": null,
       "description_width": ""
      }
     },
     "d7b0a049254d4a4480a3b729794da8ac": {
      "model_module": "@jupyter-widgets/controls",
      "model_module_version": "1.5.0",
      "model_name": "DescriptionStyleModel",
      "state": {
       "_model_module": "@jupyter-widgets/controls",
       "_model_module_version": "1.5.0",
       "_model_name": "DescriptionStyleModel",
       "_view_count": null,
       "_view_module": "@jupyter-widgets/base",
       "_view_module_version": "1.2.0",
       "_view_name": "StyleView",
       "description_width": ""
      }
     },
     "e302db823a5c4748adbb6668372e1309": {
      "model_module": "@jupyter-widgets/base",
      "model_module_version": "1.2.0",
      "model_name": "LayoutModel",
      "state": {
       "_model_module": "@jupyter-widgets/base",
       "_model_module_version": "1.2.0",
       "_model_name": "LayoutModel",
       "_view_count": null,
       "_view_module": "@jupyter-widgets/base",
       "_view_module_version": "1.2.0",
       "_view_name": "LayoutView",
       "align_content": null,
       "align_items": null,
       "align_self": null,
       "border": null,
       "bottom": null,
       "display": null,
       "flex": null,
       "flex_flow": null,
       "grid_area": null,
       "grid_auto_columns": null,
       "grid_auto_flow": null,
       "grid_auto_rows": null,
       "grid_column": null,
       "grid_gap": null,
       "grid_row": null,
       "grid_template_areas": null,
       "grid_template_columns": null,
       "grid_template_rows": null,
       "height": null,
       "justify_content": null,
       "justify_items": null,
       "left": null,
       "margin": null,
       "max_height": null,
       "max_width": null,
       "min_height": null,
       "min_width": null,
       "object_fit": null,
       "object_position": null,
       "order": null,
       "overflow": null,
       "overflow_x": null,
       "overflow_y": null,
       "padding": null,
       "right": null,
       "top": null,
       "visibility": null,
       "width": null
      }
     },
     "e41c6cfea7a242ac8473c85ffa82a78c": {
      "model_module": "@jupyter-widgets/base",
      "model_module_version": "1.2.0",
      "model_name": "LayoutModel",
      "state": {
       "_model_module": "@jupyter-widgets/base",
       "_model_module_version": "1.2.0",
       "_model_name": "LayoutModel",
       "_view_count": null,
       "_view_module": "@jupyter-widgets/base",
       "_view_module_version": "1.2.0",
       "_view_name": "LayoutView",
       "align_content": null,
       "align_items": null,
       "align_self": null,
       "border": null,
       "bottom": null,
       "display": null,
       "flex": null,
       "flex_flow": null,
       "grid_area": null,
       "grid_auto_columns": null,
       "grid_auto_flow": null,
       "grid_auto_rows": null,
       "grid_column": null,
       "grid_gap": null,
       "grid_row": null,
       "grid_template_areas": null,
       "grid_template_columns": null,
       "grid_template_rows": null,
       "height": null,
       "justify_content": null,
       "justify_items": null,
       "left": null,
       "margin": null,
       "max_height": null,
       "max_width": null,
       "min_height": null,
       "min_width": null,
       "object_fit": null,
       "object_position": null,
       "order": null,
       "overflow": null,
       "overflow_x": null,
       "overflow_y": null,
       "padding": null,
       "right": null,
       "top": null,
       "visibility": null,
       "width": null
      }
     },
     "e4deae9f59754af9b7891d3a4862f0b6": {
      "model_module": "@jupyter-widgets/base",
      "model_module_version": "1.2.0",
      "model_name": "LayoutModel",
      "state": {
       "_model_module": "@jupyter-widgets/base",
       "_model_module_version": "1.2.0",
       "_model_name": "LayoutModel",
       "_view_count": null,
       "_view_module": "@jupyter-widgets/base",
       "_view_module_version": "1.2.0",
       "_view_name": "LayoutView",
       "align_content": null,
       "align_items": null,
       "align_self": null,
       "border": null,
       "bottom": null,
       "display": null,
       "flex": null,
       "flex_flow": null,
       "grid_area": null,
       "grid_auto_columns": null,
       "grid_auto_flow": null,
       "grid_auto_rows": null,
       "grid_column": null,
       "grid_gap": null,
       "grid_row": null,
       "grid_template_areas": null,
       "grid_template_columns": null,
       "grid_template_rows": null,
       "height": null,
       "justify_content": null,
       "justify_items": null,
       "left": null,
       "margin": null,
       "max_height": null,
       "max_width": null,
       "min_height": null,
       "min_width": null,
       "object_fit": null,
       "object_position": null,
       "order": null,
       "overflow": null,
       "overflow_x": null,
       "overflow_y": null,
       "padding": null,
       "right": null,
       "top": null,
       "visibility": null,
       "width": null
      }
     },
     "eb54aa3dc89f422bb31ad2ee73da9813": {
      "model_module": "@jupyter-widgets/controls",
      "model_module_version": "1.5.0",
      "model_name": "DescriptionStyleModel",
      "state": {
       "_model_module": "@jupyter-widgets/controls",
       "_model_module_version": "1.5.0",
       "_model_name": "DescriptionStyleModel",
       "_view_count": null,
       "_view_module": "@jupyter-widgets/base",
       "_view_module_version": "1.2.0",
       "_view_name": "StyleView",
       "description_width": ""
      }
     },
     "eef1893f6e00472f8c1a5906584879a1": {
      "model_module": "@jupyter-widgets/controls",
      "model_module_version": "1.5.0",
      "model_name": "DescriptionStyleModel",
      "state": {
       "_model_module": "@jupyter-widgets/controls",
       "_model_module_version": "1.5.0",
       "_model_name": "DescriptionStyleModel",
       "_view_count": null,
       "_view_module": "@jupyter-widgets/base",
       "_view_module_version": "1.2.0",
       "_view_name": "StyleView",
       "description_width": ""
      }
     },
     "f4979d37c343493c9f17fddedd8e94c8": {
      "model_module": "@jupyter-widgets/controls",
      "model_module_version": "1.5.0",
      "model_name": "DescriptionStyleModel",
      "state": {
       "_model_module": "@jupyter-widgets/controls",
       "_model_module_version": "1.5.0",
       "_model_name": "DescriptionStyleModel",
       "_view_count": null,
       "_view_module": "@jupyter-widgets/base",
       "_view_module_version": "1.2.0",
       "_view_name": "StyleView",
       "description_width": ""
      }
     },
     "fb6b841a87dd4333acb6e83fa6e23307": {
      "model_module": "@jupyter-widgets/base",
      "model_module_version": "1.2.0",
      "model_name": "LayoutModel",
      "state": {
       "_model_module": "@jupyter-widgets/base",
       "_model_module_version": "1.2.0",
       "_model_name": "LayoutModel",
       "_view_count": null,
       "_view_module": "@jupyter-widgets/base",
       "_view_module_version": "1.2.0",
       "_view_name": "LayoutView",
       "align_content": null,
       "align_items": null,
       "align_self": null,
       "border": null,
       "bottom": null,
       "display": null,
       "flex": null,
       "flex_flow": null,
       "grid_area": null,
       "grid_auto_columns": null,
       "grid_auto_flow": null,
       "grid_auto_rows": null,
       "grid_column": null,
       "grid_gap": null,
       "grid_row": null,
       "grid_template_areas": null,
       "grid_template_columns": null,
       "grid_template_rows": null,
       "height": null,
       "justify_content": null,
       "justify_items": null,
       "left": null,
       "margin": null,
       "max_height": null,
       "max_width": null,
       "min_height": null,
       "min_width": null,
       "object_fit": null,
       "object_position": null,
       "order": null,
       "overflow": null,
       "overflow_x": null,
       "overflow_y": null,
       "padding": null,
       "right": null,
       "top": null,
       "visibility": null,
       "width": null
      }
     },
     "fe4c26172e654f38a91cec432d416ea4": {
      "model_module": "@jupyter-widgets/controls",
      "model_module_version": "1.5.0",
      "model_name": "HBoxModel",
      "state": {
       "_dom_classes": [],
       "_model_module": "@jupyter-widgets/controls",
       "_model_module_version": "1.5.0",
       "_model_name": "HBoxModel",
       "_view_count": null,
       "_view_module": "@jupyter-widgets/controls",
       "_view_module_version": "1.5.0",
       "_view_name": "HBoxView",
       "box_style": "",
       "children": [
        "IPY_MODEL_98a9546d139f4331924346f115313a57",
        "IPY_MODEL_3c22b3afc3174e73bff7816e9bfc5e78",
        "IPY_MODEL_aeab8a4c514f434d970c93de507c96ec"
       ],
       "layout": "IPY_MODEL_9ff2602382e742789441592bc43fe7b3"
      }
     }
    },
    "version_major": 2,
    "version_minor": 0
   }
  }
 },
 "nbformat": 4,
 "nbformat_minor": 5
}
